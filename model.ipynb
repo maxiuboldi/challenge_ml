{
  "nbformat": 4,
  "nbformat_minor": 0,
  "metadata": {
    "colab": {
      "name": "model.ipynb",
      "provenance": [],
      "collapsed_sections": [],
      "authorship_tag": "ABX9TyMNhjGunNAv7kmsti4kO7wc",
      "include_colab_link": true
    },
    "kernelspec": {
      "name": "python3",
      "display_name": "Python 3"
    }
  },
  "cells": [
    {
      "cell_type": "markdown",
      "metadata": {
        "id": "view-in-github",
        "colab_type": "text"
      },
      "source": [
        "<a href=\"https://colab.research.google.com/github/maxiuboldi/challenge_ml/blob/main/model.ipynb\" target=\"_parent\"><img src=\"https://colab.research.google.com/assets/colab-badge.svg\" alt=\"Open In Colab\"/></a>"
      ]
    },
    {
      "cell_type": "markdown",
      "metadata": {
        "id": "PdHcRMwYX_G4"
      },
      "source": [
        "#Data Science Challenge Mercado Libre - BI Team"
      ]
    },
    {
      "cell_type": "markdown",
      "metadata": {
        "id": "-N-iNn8vX7GI"
      },
      "source": [
        "## Instalar dependencias"
      ]
    },
    {
      "cell_type": "code",
      "metadata": {
        "id": "BEN91rg4XvBN",
        "outputId": "1aac09c8-e9ec-41b3-bfcb-c401ac55b673",
        "colab": {
          "base_uri": "https://localhost:8080/"
        }
      },
      "source": [
        "!pip install cherrypicker"
      ],
      "execution_count": 1,
      "outputs": [
        {
          "output_type": "stream",
          "text": [
            "Requirement already satisfied: cherrypicker in /usr/local/lib/python3.6/dist-packages (0.3.1)\n",
            "Requirement already satisfied: joblib>=0.13.0 in /usr/local/lib/python3.6/dist-packages (from cherrypicker) (0.17.0)\n"
          ],
          "name": "stdout"
        }
      ]
    },
    {
      "cell_type": "markdown",
      "metadata": {
        "id": "Eoxz63btYJMJ"
      },
      "source": [
        "## Importar librerias"
      ]
    },
    {
      "cell_type": "code",
      "metadata": {
        "id": "i08P36kRYKS-"
      },
      "source": [
        "import urllib.request\n",
        "import urllib.parse\n",
        "import json\n",
        "import pandas as pd\n",
        "import numpy as np\n",
        "from math import ceil\n",
        "from cherrypicker import CherryPicker\n",
        "from time import sleep\n",
        "import gc\n",
        "from sklearn.preprocessing import OneHotEncoder\n",
        "from sklearn.model_selection import train_test_split\n",
        "from lightgbm import LGBMRegressor, LGBMClassifier\n",
        "from sklearn.model_selection import KFold, StratifiedKFold\n",
        "from sklearn.metrics import mean_absolute_error, mean_squared_error, roc_curve, roc_auc_score, classification_report, confusion_matrix, accuracy_score\n",
        "from sklearn.preprocessing import LabelEncoder\n",
        "import seaborn as sns \n",
        "import matplotlib.pyplot as plt"
      ],
      "execution_count": 2,
      "outputs": []
    },
    {
      "cell_type": "markdown",
      "metadata": {
        "id": "5CDEXimGYNvQ"
      },
      "source": [
        "## Contantes"
      ]
    },
    {
      "cell_type": "code",
      "metadata": {
        "id": "CDeYOfC8YPIz"
      },
      "source": [
        "# API ML\n",
        "URL_CATEGORIES = 'https://api.mercadolibre.com/sites/MLA/categories'\n",
        "URL_CHILD_CATEGORIES = 'https://api.mercadolibre.com/categories/'\n",
        "URL_SEARCH = 'https://api.mercadolibre.com/sites/MLA/search?'\n",
        "LIMIT_CALLS = 1050 / 50\n",
        "SLEEP = 0  # No encontré en la documentación límites, pero por las dudas...\n",
        "\n",
        "# Modelo\n",
        "SEED = 8888\n",
        "K_FOLD = 10\n",
        "TEST_SIZE = 0.20\n",
        "\n",
        "# Opciones de Pandas\n",
        "pd_options = {\n",
        "'display.max_rows': None,\n",
        "'display.max_columns': None,\n",
        "'display.width': None,\n",
        "'display.float_format': '{:.2f}'.format\n",
        "}\n",
        "[pd.set_option(option, setting) for option, setting in pd_options.items()]\n",
        "\n",
        "# Otras opciones\n",
        "plt.rcParams['figure.figsize'] = (24, 12)\n",
        "sns.set()"
      ],
      "execution_count": 3,
      "outputs": []
    },
    {
      "cell_type": "markdown",
      "metadata": {
        "id": "vcgjCmNsYhwp"
      },
      "source": [
        "## Descarga de categorías"
      ]
    },
    {
      "cell_type": "code",
      "metadata": {
        "id": "pSz5TsmXYiAs",
        "outputId": "eb0de417-404b-4d53-a866-440f08668b3e",
        "colab": {
          "base_uri": "https://localhost:8080/"
        }
      },
      "source": [
        "print('Descargando categorías {}\\n'.format(URL_CATEGORIES))\n",
        "with urllib.request.urlopen(URL_CATEGORIES) as handler:\n",
        "    categories = json.loads(handler.read())\n",
        "sleep(SLEEP)\n",
        "\n",
        "categories_list = []\n",
        "for category in categories:\n",
        "    url_categorie = URL_CHILD_CATEGORIES + category.get('id')\n",
        "    print('Descargando sub categorías {}'.format(url_categorie))\n",
        "    with urllib.request.urlopen(url_categorie) as handler:\n",
        "        category_detail = json.loads(handler.read())\n",
        "        for detalle in category_detail.get('children_categories'):\n",
        "            categories_list.append(detalle)\n",
        "    sleep(SLEEP)\n",
        "\n",
        "categories_df = pd.DataFrame(categories_list)\n",
        "categories_df.set_index('id', inplace=True)\n",
        "\n",
        "print('\\nListo')"
      ],
      "execution_count": 4,
      "outputs": [
        {
          "output_type": "stream",
          "text": [
            "Descargando categorías https://api.mercadolibre.com/sites/MLA/categories\n",
            "\n",
            "Descargando sub categorías https://api.mercadolibre.com/categories/MLA5725\n",
            "Descargando sub categorías https://api.mercadolibre.com/categories/MLA1512\n",
            "Descargando sub categorías https://api.mercadolibre.com/categories/MLA1403\n",
            "Descargando sub categorías https://api.mercadolibre.com/categories/MLA1071\n",
            "Descargando sub categorías https://api.mercadolibre.com/categories/MLA1367\n",
            "Descargando sub categorías https://api.mercadolibre.com/categories/MLA1368\n",
            "Descargando sub categorías https://api.mercadolibre.com/categories/MLA1743\n",
            "Descargando sub categorías https://api.mercadolibre.com/categories/MLA1384\n",
            "Descargando sub categorías https://api.mercadolibre.com/categories/MLA1246\n",
            "Descargando sub categorías https://api.mercadolibre.com/categories/MLA1039\n",
            "Descargando sub categorías https://api.mercadolibre.com/categories/MLA1051\n",
            "Descargando sub categorías https://api.mercadolibre.com/categories/MLA1648\n",
            "Descargando sub categorías https://api.mercadolibre.com/categories/MLA1144\n",
            "Descargando sub categorías https://api.mercadolibre.com/categories/MLA1276\n",
            "Descargando sub categorías https://api.mercadolibre.com/categories/MLA5726\n",
            "Descargando sub categorías https://api.mercadolibre.com/categories/MLA1000\n",
            "Descargando sub categorías https://api.mercadolibre.com/categories/MLA2547\n",
            "Descargando sub categorías https://api.mercadolibre.com/categories/MLA407134\n",
            "Descargando sub categorías https://api.mercadolibre.com/categories/MLA1574\n",
            "Descargando sub categorías https://api.mercadolibre.com/categories/MLA1499\n",
            "Descargando sub categorías https://api.mercadolibre.com/categories/MLA1459\n",
            "Descargando sub categorías https://api.mercadolibre.com/categories/MLA1182\n",
            "Descargando sub categorías https://api.mercadolibre.com/categories/MLA3937\n",
            "Descargando sub categorías https://api.mercadolibre.com/categories/MLA1132\n",
            "Descargando sub categorías https://api.mercadolibre.com/categories/MLA3025\n",
            "Descargando sub categorías https://api.mercadolibre.com/categories/MLA1168\n",
            "Descargando sub categorías https://api.mercadolibre.com/categories/MLA1430\n",
            "Descargando sub categorías https://api.mercadolibre.com/categories/MLA409431\n",
            "Descargando sub categorías https://api.mercadolibre.com/categories/MLA1540\n",
            "Descargando sub categorías https://api.mercadolibre.com/categories/MLA9304\n",
            "Descargando sub categorías https://api.mercadolibre.com/categories/MLA1953\n",
            "\n",
            "Listo\n"
          ],
          "name": "stdout"
        }
      ]
    },
    {
      "cell_type": "markdown",
      "metadata": {
        "id": "P-Il383MYuKg"
      },
      "source": [
        "## Muestreo de categorías adicionales y descarga de datos"
      ]
    },
    {
      "cell_type": "code",
      "metadata": {
        "id": "lDMeV2f4YvBJ",
        "outputId": "52ef30a2-77dd-41a0-80fb-a9b2d7fd0413",
        "colab": {
          "base_uri": "https://localhost:8080/"
        }
      },
      "source": [
        "print('\\nMuestreando categorías')\n",
        "categories_search_dict = categories_df[~categories_df['name'].str.lower().str.contains(\n",
        "    r'tvs|smartphones')]['name'].sample(8, random_state=8888).to_dict()\n",
        "categories_search_dict.update(categories_df[categories_df['name'].str.lower().str.contains(r'tvs|smartphones')]['name'])\n",
        "\n",
        "print('Categorías seleccionadas')\n",
        "for category, name in categories_search_dict.items():\n",
        "    print(category, ': ', name)\n",
        "\n",
        "print('Descargando resultados de búsqueda\\n')\n",
        "results_list = []\n",
        "for category, name in categories_search_dict.items():\n",
        "    print('Procesando categoría {}\\n'.format(category))\n",
        "    current_call = 0\n",
        "    # La API sólo permite pasar un offset hasta 1.000, que devuelve un máximo de 1.050 artículos\n",
        "    # con un máximo de 21 llamadas.\n",
        "    for offset in range(0, 1050, 50):\n",
        "        current_call += 1\n",
        "        url_search_category = URL_SEARCH + urllib.parse.urlencode({'category': category, 'offset': offset})\n",
        "        print('procesando {}'.format(url_search_category))\n",
        "        with urllib.request.urlopen(url_search_category) as handler:\n",
        "            search_result = json.loads(handler.read())\n",
        "            total = search_result['paging'].get('total')\n",
        "            if current_call == 1:\n",
        "                print('Total de resultados: {}'.format(total))\n",
        "            if total == 0:  # Por las dudas, hay categorías sin productos que pudieran salir del aleatorio\n",
        "                break\n",
        "            calls = ceil(total / 50)\n",
        "            if current_call == 1:\n",
        "                print('Total de llamadas necesarias: {}\\n'.format(calls))\n",
        "            results = search_result['results']\n",
        "            for result in results:\n",
        "                picker = CherryPicker(result)\n",
        "                picker_dict = picker.flatten().get()\n",
        "                picker_dict.update({'category_name': name})\n",
        "                results_list.append(picker_dict)\n",
        "            if current_call == calls:  # Si no hace falta llamar más, cortamos.\n",
        "                break\n",
        "            sleep(SLEEP)\n",
        "    print('')\n",
        "\n",
        "dataset = pd.DataFrame(results_list)\n",
        "dataset.set_index('id', inplace=True)\n",
        "\n",
        "del results_list, categories_search_dict, categories_list\n",
        "gc.collect()\n",
        "\n",
        "print('\\nListo')"
      ],
      "execution_count": 5,
      "outputs": [
        {
          "output_type": "stream",
          "text": [
            "\n",
            "Muestreando categorías\n",
            "Categorías seleccionadas\n",
            "MLA1912 :  Otros\n",
            "MLA1228 :  Otros\n",
            "MLA385177 :  Climatización\n",
            "MLA1700 :  Conectividad y Redes\n",
            "MLA7841 :  Series de TV\n",
            "MLA430687 :  Laptops y Accesorios\n",
            "MLA7312 :  Maquinaria Agrícola\n",
            "MLA404419 :  Insumos para Joyería\n",
            "MLA1055 :  Celulares y Smartphones\n",
            "MLA1002 :  TVs\n",
            "Descargando resultados de búsqueda\n",
            "\n",
            "Procesando categoría MLA1912\n",
            "\n",
            "procesando https://api.mercadolibre.com/sites/MLA/search?category=MLA1912&offset=0\n",
            "Total de resultados: 7391\n",
            "Total de llamadas necesarias: 148\n",
            "\n",
            "procesando https://api.mercadolibre.com/sites/MLA/search?category=MLA1912&offset=50\n",
            "procesando https://api.mercadolibre.com/sites/MLA/search?category=MLA1912&offset=100\n",
            "procesando https://api.mercadolibre.com/sites/MLA/search?category=MLA1912&offset=150\n",
            "procesando https://api.mercadolibre.com/sites/MLA/search?category=MLA1912&offset=200\n",
            "procesando https://api.mercadolibre.com/sites/MLA/search?category=MLA1912&offset=250\n",
            "procesando https://api.mercadolibre.com/sites/MLA/search?category=MLA1912&offset=300\n",
            "procesando https://api.mercadolibre.com/sites/MLA/search?category=MLA1912&offset=350\n",
            "procesando https://api.mercadolibre.com/sites/MLA/search?category=MLA1912&offset=400\n",
            "procesando https://api.mercadolibre.com/sites/MLA/search?category=MLA1912&offset=450\n",
            "procesando https://api.mercadolibre.com/sites/MLA/search?category=MLA1912&offset=500\n",
            "procesando https://api.mercadolibre.com/sites/MLA/search?category=MLA1912&offset=550\n",
            "procesando https://api.mercadolibre.com/sites/MLA/search?category=MLA1912&offset=600\n",
            "procesando https://api.mercadolibre.com/sites/MLA/search?category=MLA1912&offset=650\n",
            "procesando https://api.mercadolibre.com/sites/MLA/search?category=MLA1912&offset=700\n",
            "procesando https://api.mercadolibre.com/sites/MLA/search?category=MLA1912&offset=750\n",
            "procesando https://api.mercadolibre.com/sites/MLA/search?category=MLA1912&offset=800\n",
            "procesando https://api.mercadolibre.com/sites/MLA/search?category=MLA1912&offset=850\n",
            "procesando https://api.mercadolibre.com/sites/MLA/search?category=MLA1912&offset=900\n",
            "procesando https://api.mercadolibre.com/sites/MLA/search?category=MLA1912&offset=950\n",
            "procesando https://api.mercadolibre.com/sites/MLA/search?category=MLA1912&offset=1000\n",
            "\n",
            "Procesando categoría MLA1228\n",
            "\n",
            "procesando https://api.mercadolibre.com/sites/MLA/search?category=MLA1228&offset=0\n",
            "Total de resultados: 23406\n",
            "Total de llamadas necesarias: 469\n",
            "\n",
            "procesando https://api.mercadolibre.com/sites/MLA/search?category=MLA1228&offset=50\n",
            "procesando https://api.mercadolibre.com/sites/MLA/search?category=MLA1228&offset=100\n",
            "procesando https://api.mercadolibre.com/sites/MLA/search?category=MLA1228&offset=150\n",
            "procesando https://api.mercadolibre.com/sites/MLA/search?category=MLA1228&offset=200\n",
            "procesando https://api.mercadolibre.com/sites/MLA/search?category=MLA1228&offset=250\n",
            "procesando https://api.mercadolibre.com/sites/MLA/search?category=MLA1228&offset=300\n",
            "procesando https://api.mercadolibre.com/sites/MLA/search?category=MLA1228&offset=350\n",
            "procesando https://api.mercadolibre.com/sites/MLA/search?category=MLA1228&offset=400\n",
            "procesando https://api.mercadolibre.com/sites/MLA/search?category=MLA1228&offset=450\n",
            "procesando https://api.mercadolibre.com/sites/MLA/search?category=MLA1228&offset=500\n",
            "procesando https://api.mercadolibre.com/sites/MLA/search?category=MLA1228&offset=550\n",
            "procesando https://api.mercadolibre.com/sites/MLA/search?category=MLA1228&offset=600\n",
            "procesando https://api.mercadolibre.com/sites/MLA/search?category=MLA1228&offset=650\n",
            "procesando https://api.mercadolibre.com/sites/MLA/search?category=MLA1228&offset=700\n",
            "procesando https://api.mercadolibre.com/sites/MLA/search?category=MLA1228&offset=750\n",
            "procesando https://api.mercadolibre.com/sites/MLA/search?category=MLA1228&offset=800\n",
            "procesando https://api.mercadolibre.com/sites/MLA/search?category=MLA1228&offset=850\n",
            "procesando https://api.mercadolibre.com/sites/MLA/search?category=MLA1228&offset=900\n",
            "procesando https://api.mercadolibre.com/sites/MLA/search?category=MLA1228&offset=950\n",
            "procesando https://api.mercadolibre.com/sites/MLA/search?category=MLA1228&offset=1000\n",
            "\n",
            "Procesando categoría MLA385177\n",
            "\n",
            "procesando https://api.mercadolibre.com/sites/MLA/search?category=MLA385177&offset=0\n",
            "Total de resultados: 73769\n",
            "Total de llamadas necesarias: 1476\n",
            "\n",
            "procesando https://api.mercadolibre.com/sites/MLA/search?category=MLA385177&offset=50\n",
            "procesando https://api.mercadolibre.com/sites/MLA/search?category=MLA385177&offset=100\n",
            "procesando https://api.mercadolibre.com/sites/MLA/search?category=MLA385177&offset=150\n",
            "procesando https://api.mercadolibre.com/sites/MLA/search?category=MLA385177&offset=200\n",
            "procesando https://api.mercadolibre.com/sites/MLA/search?category=MLA385177&offset=250\n",
            "procesando https://api.mercadolibre.com/sites/MLA/search?category=MLA385177&offset=300\n",
            "procesando https://api.mercadolibre.com/sites/MLA/search?category=MLA385177&offset=350\n",
            "procesando https://api.mercadolibre.com/sites/MLA/search?category=MLA385177&offset=400\n",
            "procesando https://api.mercadolibre.com/sites/MLA/search?category=MLA385177&offset=450\n",
            "procesando https://api.mercadolibre.com/sites/MLA/search?category=MLA385177&offset=500\n",
            "procesando https://api.mercadolibre.com/sites/MLA/search?category=MLA385177&offset=550\n",
            "procesando https://api.mercadolibre.com/sites/MLA/search?category=MLA385177&offset=600\n",
            "procesando https://api.mercadolibre.com/sites/MLA/search?category=MLA385177&offset=650\n",
            "procesando https://api.mercadolibre.com/sites/MLA/search?category=MLA385177&offset=700\n",
            "procesando https://api.mercadolibre.com/sites/MLA/search?category=MLA385177&offset=750\n",
            "procesando https://api.mercadolibre.com/sites/MLA/search?category=MLA385177&offset=800\n",
            "procesando https://api.mercadolibre.com/sites/MLA/search?category=MLA385177&offset=850\n",
            "procesando https://api.mercadolibre.com/sites/MLA/search?category=MLA385177&offset=900\n",
            "procesando https://api.mercadolibre.com/sites/MLA/search?category=MLA385177&offset=950\n",
            "procesando https://api.mercadolibre.com/sites/MLA/search?category=MLA385177&offset=1000\n",
            "\n",
            "Procesando categoría MLA1700\n",
            "\n",
            "procesando https://api.mercadolibre.com/sites/MLA/search?category=MLA1700&offset=0\n",
            "Total de resultados: 56839\n",
            "Total de llamadas necesarias: 1137\n",
            "\n",
            "procesando https://api.mercadolibre.com/sites/MLA/search?category=MLA1700&offset=50\n",
            "procesando https://api.mercadolibre.com/sites/MLA/search?category=MLA1700&offset=100\n",
            "procesando https://api.mercadolibre.com/sites/MLA/search?category=MLA1700&offset=150\n",
            "procesando https://api.mercadolibre.com/sites/MLA/search?category=MLA1700&offset=200\n",
            "procesando https://api.mercadolibre.com/sites/MLA/search?category=MLA1700&offset=250\n",
            "procesando https://api.mercadolibre.com/sites/MLA/search?category=MLA1700&offset=300\n",
            "procesando https://api.mercadolibre.com/sites/MLA/search?category=MLA1700&offset=350\n",
            "procesando https://api.mercadolibre.com/sites/MLA/search?category=MLA1700&offset=400\n",
            "procesando https://api.mercadolibre.com/sites/MLA/search?category=MLA1700&offset=450\n",
            "procesando https://api.mercadolibre.com/sites/MLA/search?category=MLA1700&offset=500\n",
            "procesando https://api.mercadolibre.com/sites/MLA/search?category=MLA1700&offset=550\n",
            "procesando https://api.mercadolibre.com/sites/MLA/search?category=MLA1700&offset=600\n",
            "procesando https://api.mercadolibre.com/sites/MLA/search?category=MLA1700&offset=650\n",
            "procesando https://api.mercadolibre.com/sites/MLA/search?category=MLA1700&offset=700\n",
            "procesando https://api.mercadolibre.com/sites/MLA/search?category=MLA1700&offset=750\n",
            "procesando https://api.mercadolibre.com/sites/MLA/search?category=MLA1700&offset=800\n",
            "procesando https://api.mercadolibre.com/sites/MLA/search?category=MLA1700&offset=850\n",
            "procesando https://api.mercadolibre.com/sites/MLA/search?category=MLA1700&offset=900\n",
            "procesando https://api.mercadolibre.com/sites/MLA/search?category=MLA1700&offset=950\n",
            "procesando https://api.mercadolibre.com/sites/MLA/search?category=MLA1700&offset=1000\n",
            "\n",
            "Procesando categoría MLA7841\n",
            "\n",
            "procesando https://api.mercadolibre.com/sites/MLA/search?category=MLA7841&offset=0\n",
            "Total de resultados: 17636\n",
            "Total de llamadas necesarias: 353\n",
            "\n",
            "procesando https://api.mercadolibre.com/sites/MLA/search?category=MLA7841&offset=50\n",
            "procesando https://api.mercadolibre.com/sites/MLA/search?category=MLA7841&offset=100\n",
            "procesando https://api.mercadolibre.com/sites/MLA/search?category=MLA7841&offset=150\n",
            "procesando https://api.mercadolibre.com/sites/MLA/search?category=MLA7841&offset=200\n",
            "procesando https://api.mercadolibre.com/sites/MLA/search?category=MLA7841&offset=250\n",
            "procesando https://api.mercadolibre.com/sites/MLA/search?category=MLA7841&offset=300\n",
            "procesando https://api.mercadolibre.com/sites/MLA/search?category=MLA7841&offset=350\n",
            "procesando https://api.mercadolibre.com/sites/MLA/search?category=MLA7841&offset=400\n",
            "procesando https://api.mercadolibre.com/sites/MLA/search?category=MLA7841&offset=450\n",
            "procesando https://api.mercadolibre.com/sites/MLA/search?category=MLA7841&offset=500\n",
            "procesando https://api.mercadolibre.com/sites/MLA/search?category=MLA7841&offset=550\n",
            "procesando https://api.mercadolibre.com/sites/MLA/search?category=MLA7841&offset=600\n",
            "procesando https://api.mercadolibre.com/sites/MLA/search?category=MLA7841&offset=650\n",
            "procesando https://api.mercadolibre.com/sites/MLA/search?category=MLA7841&offset=700\n",
            "procesando https://api.mercadolibre.com/sites/MLA/search?category=MLA7841&offset=750\n",
            "procesando https://api.mercadolibre.com/sites/MLA/search?category=MLA7841&offset=800\n",
            "procesando https://api.mercadolibre.com/sites/MLA/search?category=MLA7841&offset=850\n",
            "procesando https://api.mercadolibre.com/sites/MLA/search?category=MLA7841&offset=900\n",
            "procesando https://api.mercadolibre.com/sites/MLA/search?category=MLA7841&offset=950\n",
            "procesando https://api.mercadolibre.com/sites/MLA/search?category=MLA7841&offset=1000\n",
            "\n",
            "Procesando categoría MLA430687\n",
            "\n",
            "procesando https://api.mercadolibre.com/sites/MLA/search?category=MLA430687&offset=0\n",
            "Total de resultados: 173935\n",
            "Total de llamadas necesarias: 3479\n",
            "\n",
            "procesando https://api.mercadolibre.com/sites/MLA/search?category=MLA430687&offset=50\n",
            "procesando https://api.mercadolibre.com/sites/MLA/search?category=MLA430687&offset=100\n",
            "procesando https://api.mercadolibre.com/sites/MLA/search?category=MLA430687&offset=150\n",
            "procesando https://api.mercadolibre.com/sites/MLA/search?category=MLA430687&offset=200\n",
            "procesando https://api.mercadolibre.com/sites/MLA/search?category=MLA430687&offset=250\n",
            "procesando https://api.mercadolibre.com/sites/MLA/search?category=MLA430687&offset=300\n",
            "procesando https://api.mercadolibre.com/sites/MLA/search?category=MLA430687&offset=350\n",
            "procesando https://api.mercadolibre.com/sites/MLA/search?category=MLA430687&offset=400\n",
            "procesando https://api.mercadolibre.com/sites/MLA/search?category=MLA430687&offset=450\n",
            "procesando https://api.mercadolibre.com/sites/MLA/search?category=MLA430687&offset=500\n",
            "procesando https://api.mercadolibre.com/sites/MLA/search?category=MLA430687&offset=550\n",
            "procesando https://api.mercadolibre.com/sites/MLA/search?category=MLA430687&offset=600\n",
            "procesando https://api.mercadolibre.com/sites/MLA/search?category=MLA430687&offset=650\n",
            "procesando https://api.mercadolibre.com/sites/MLA/search?category=MLA430687&offset=700\n",
            "procesando https://api.mercadolibre.com/sites/MLA/search?category=MLA430687&offset=750\n",
            "procesando https://api.mercadolibre.com/sites/MLA/search?category=MLA430687&offset=800\n",
            "procesando https://api.mercadolibre.com/sites/MLA/search?category=MLA430687&offset=850\n",
            "procesando https://api.mercadolibre.com/sites/MLA/search?category=MLA430687&offset=900\n",
            "procesando https://api.mercadolibre.com/sites/MLA/search?category=MLA430687&offset=950\n",
            "procesando https://api.mercadolibre.com/sites/MLA/search?category=MLA430687&offset=1000\n",
            "\n",
            "Procesando categoría MLA7312\n",
            "\n",
            "procesando https://api.mercadolibre.com/sites/MLA/search?category=MLA7312&offset=0\n",
            "Total de resultados: 3845\n",
            "Total de llamadas necesarias: 77\n",
            "\n",
            "procesando https://api.mercadolibre.com/sites/MLA/search?category=MLA7312&offset=50\n",
            "procesando https://api.mercadolibre.com/sites/MLA/search?category=MLA7312&offset=100\n",
            "procesando https://api.mercadolibre.com/sites/MLA/search?category=MLA7312&offset=150\n",
            "procesando https://api.mercadolibre.com/sites/MLA/search?category=MLA7312&offset=200\n",
            "procesando https://api.mercadolibre.com/sites/MLA/search?category=MLA7312&offset=250\n",
            "procesando https://api.mercadolibre.com/sites/MLA/search?category=MLA7312&offset=300\n",
            "procesando https://api.mercadolibre.com/sites/MLA/search?category=MLA7312&offset=350\n",
            "procesando https://api.mercadolibre.com/sites/MLA/search?category=MLA7312&offset=400\n",
            "procesando https://api.mercadolibre.com/sites/MLA/search?category=MLA7312&offset=450\n",
            "procesando https://api.mercadolibre.com/sites/MLA/search?category=MLA7312&offset=500\n",
            "procesando https://api.mercadolibre.com/sites/MLA/search?category=MLA7312&offset=550\n",
            "procesando https://api.mercadolibre.com/sites/MLA/search?category=MLA7312&offset=600\n",
            "procesando https://api.mercadolibre.com/sites/MLA/search?category=MLA7312&offset=650\n",
            "procesando https://api.mercadolibre.com/sites/MLA/search?category=MLA7312&offset=700\n",
            "procesando https://api.mercadolibre.com/sites/MLA/search?category=MLA7312&offset=750\n",
            "procesando https://api.mercadolibre.com/sites/MLA/search?category=MLA7312&offset=800\n",
            "procesando https://api.mercadolibre.com/sites/MLA/search?category=MLA7312&offset=850\n",
            "procesando https://api.mercadolibre.com/sites/MLA/search?category=MLA7312&offset=900\n",
            "procesando https://api.mercadolibre.com/sites/MLA/search?category=MLA7312&offset=950\n",
            "procesando https://api.mercadolibre.com/sites/MLA/search?category=MLA7312&offset=1000\n",
            "\n",
            "Procesando categoría MLA404419\n",
            "\n",
            "procesando https://api.mercadolibre.com/sites/MLA/search?category=MLA404419&offset=0\n",
            "Total de resultados: 3956\n",
            "Total de llamadas necesarias: 80\n",
            "\n",
            "procesando https://api.mercadolibre.com/sites/MLA/search?category=MLA404419&offset=50\n",
            "procesando https://api.mercadolibre.com/sites/MLA/search?category=MLA404419&offset=100\n",
            "procesando https://api.mercadolibre.com/sites/MLA/search?category=MLA404419&offset=150\n",
            "procesando https://api.mercadolibre.com/sites/MLA/search?category=MLA404419&offset=200\n",
            "procesando https://api.mercadolibre.com/sites/MLA/search?category=MLA404419&offset=250\n",
            "procesando https://api.mercadolibre.com/sites/MLA/search?category=MLA404419&offset=300\n",
            "procesando https://api.mercadolibre.com/sites/MLA/search?category=MLA404419&offset=350\n",
            "procesando https://api.mercadolibre.com/sites/MLA/search?category=MLA404419&offset=400\n",
            "procesando https://api.mercadolibre.com/sites/MLA/search?category=MLA404419&offset=450\n",
            "procesando https://api.mercadolibre.com/sites/MLA/search?category=MLA404419&offset=500\n",
            "procesando https://api.mercadolibre.com/sites/MLA/search?category=MLA404419&offset=550\n",
            "procesando https://api.mercadolibre.com/sites/MLA/search?category=MLA404419&offset=600\n",
            "procesando https://api.mercadolibre.com/sites/MLA/search?category=MLA404419&offset=650\n",
            "procesando https://api.mercadolibre.com/sites/MLA/search?category=MLA404419&offset=700\n",
            "procesando https://api.mercadolibre.com/sites/MLA/search?category=MLA404419&offset=750\n",
            "procesando https://api.mercadolibre.com/sites/MLA/search?category=MLA404419&offset=800\n",
            "procesando https://api.mercadolibre.com/sites/MLA/search?category=MLA404419&offset=850\n",
            "procesando https://api.mercadolibre.com/sites/MLA/search?category=MLA404419&offset=900\n",
            "procesando https://api.mercadolibre.com/sites/MLA/search?category=MLA404419&offset=950\n",
            "procesando https://api.mercadolibre.com/sites/MLA/search?category=MLA404419&offset=1000\n",
            "\n",
            "Procesando categoría MLA1055\n",
            "\n",
            "procesando https://api.mercadolibre.com/sites/MLA/search?category=MLA1055&offset=0\n",
            "Total de resultados: 57441\n",
            "Total de llamadas necesarias: 1149\n",
            "\n",
            "procesando https://api.mercadolibre.com/sites/MLA/search?category=MLA1055&offset=50\n",
            "procesando https://api.mercadolibre.com/sites/MLA/search?category=MLA1055&offset=100\n",
            "procesando https://api.mercadolibre.com/sites/MLA/search?category=MLA1055&offset=150\n",
            "procesando https://api.mercadolibre.com/sites/MLA/search?category=MLA1055&offset=200\n",
            "procesando https://api.mercadolibre.com/sites/MLA/search?category=MLA1055&offset=250\n",
            "procesando https://api.mercadolibre.com/sites/MLA/search?category=MLA1055&offset=300\n",
            "procesando https://api.mercadolibre.com/sites/MLA/search?category=MLA1055&offset=350\n",
            "procesando https://api.mercadolibre.com/sites/MLA/search?category=MLA1055&offset=400\n",
            "procesando https://api.mercadolibre.com/sites/MLA/search?category=MLA1055&offset=450\n",
            "procesando https://api.mercadolibre.com/sites/MLA/search?category=MLA1055&offset=500\n",
            "procesando https://api.mercadolibre.com/sites/MLA/search?category=MLA1055&offset=550\n",
            "procesando https://api.mercadolibre.com/sites/MLA/search?category=MLA1055&offset=600\n",
            "procesando https://api.mercadolibre.com/sites/MLA/search?category=MLA1055&offset=650\n",
            "procesando https://api.mercadolibre.com/sites/MLA/search?category=MLA1055&offset=700\n",
            "procesando https://api.mercadolibre.com/sites/MLA/search?category=MLA1055&offset=750\n",
            "procesando https://api.mercadolibre.com/sites/MLA/search?category=MLA1055&offset=800\n",
            "procesando https://api.mercadolibre.com/sites/MLA/search?category=MLA1055&offset=850\n",
            "procesando https://api.mercadolibre.com/sites/MLA/search?category=MLA1055&offset=900\n",
            "procesando https://api.mercadolibre.com/sites/MLA/search?category=MLA1055&offset=950\n",
            "procesando https://api.mercadolibre.com/sites/MLA/search?category=MLA1055&offset=1000\n",
            "\n",
            "Procesando categoría MLA1002\n",
            "\n",
            "procesando https://api.mercadolibre.com/sites/MLA/search?category=MLA1002&offset=0\n",
            "Total de resultados: 11437\n",
            "Total de llamadas necesarias: 229\n",
            "\n",
            "procesando https://api.mercadolibre.com/sites/MLA/search?category=MLA1002&offset=50\n",
            "procesando https://api.mercadolibre.com/sites/MLA/search?category=MLA1002&offset=100\n",
            "procesando https://api.mercadolibre.com/sites/MLA/search?category=MLA1002&offset=150\n",
            "procesando https://api.mercadolibre.com/sites/MLA/search?category=MLA1002&offset=200\n",
            "procesando https://api.mercadolibre.com/sites/MLA/search?category=MLA1002&offset=250\n",
            "procesando https://api.mercadolibre.com/sites/MLA/search?category=MLA1002&offset=300\n",
            "procesando https://api.mercadolibre.com/sites/MLA/search?category=MLA1002&offset=350\n",
            "procesando https://api.mercadolibre.com/sites/MLA/search?category=MLA1002&offset=400\n",
            "procesando https://api.mercadolibre.com/sites/MLA/search?category=MLA1002&offset=450\n",
            "procesando https://api.mercadolibre.com/sites/MLA/search?category=MLA1002&offset=500\n",
            "procesando https://api.mercadolibre.com/sites/MLA/search?category=MLA1002&offset=550\n",
            "procesando https://api.mercadolibre.com/sites/MLA/search?category=MLA1002&offset=600\n",
            "procesando https://api.mercadolibre.com/sites/MLA/search?category=MLA1002&offset=650\n",
            "procesando https://api.mercadolibre.com/sites/MLA/search?category=MLA1002&offset=700\n",
            "procesando https://api.mercadolibre.com/sites/MLA/search?category=MLA1002&offset=750\n",
            "procesando https://api.mercadolibre.com/sites/MLA/search?category=MLA1002&offset=800\n",
            "procesando https://api.mercadolibre.com/sites/MLA/search?category=MLA1002&offset=850\n",
            "procesando https://api.mercadolibre.com/sites/MLA/search?category=MLA1002&offset=900\n",
            "procesando https://api.mercadolibre.com/sites/MLA/search?category=MLA1002&offset=950\n",
            "procesando https://api.mercadolibre.com/sites/MLA/search?category=MLA1002&offset=1000\n",
            "\n",
            "\n",
            "Listo\n"
          ],
          "name": "stdout"
        }
      ]
    },
    {
      "cell_type": "markdown",
      "metadata": {
        "id": "AgGvHHMMY_OI"
      },
      "source": [
        "## Un poco de limpieza teniendo en cuenta el análisis preliminar"
      ]
    },
    {
      "cell_type": "code",
      "metadata": {
        "id": "qdvM3zt-Y3qQ"
      },
      "source": [
        "# Reemplazamos cadenas vacías por nan.\n",
        "dataset.replace('', np.nan, inplace=True)\n",
        "\n",
        "# Dropeamos columnas con todos valores vacíos\n",
        "dataset.dropna(axis=1, how='all', inplace=True)\n",
        "\n",
        "# Dropeamos columnas con todos valores constantes\n",
        "dataset = dataset.loc[:, (dataset != dataset.iloc[0]).any()]\n",
        "\n",
        "# Dropeamos las variables asociadas a URL's\n",
        "dataset.drop(['seller_permalink', 'seller_eshop_eshop_logo_url', 'permalink', \n",
        "              'thumbnail', 'seller_car_dealer_logo', 'seller_home_image_url'],\n",
        "             axis=1, inplace=True)\n",
        "\n",
        "# Nos quedamos con las variables que parecieran relevantes para un análisis preliminar.\n",
        "# TODO, revisar las variables de atributos para parsearlas correctamente.\n",
        "dataset = dataset[['seller_registration_date', 'seller_car_dealer', 'seller_eshop_eshop_status_id',\n",
        "                   'seller_seller_reputation_transactions_total', 'seller_seller_reputation_transactions_canceled',\n",
        "                   'seller_seller_reputation_transactions_ratings_negative',\n",
        "                   'seller_seller_reputation_transactions_ratings_positive',\n",
        "                   'seller_seller_reputation_transactions_ratings_neutral',\n",
        "                   'seller_seller_reputation_transactions_completed', 'seller_seller_reputation_power_seller_status',\n",
        "                   'seller_seller_reputation_metrics_claims_rate', 'seller_seller_reputation_metrics_claims_value',\n",
        "                   'seller_seller_reputation_metrics_delayed_handling_time_rate',\n",
        "                   'seller_seller_reputation_metrics_delayed_handling_time_value',\n",
        "                   'seller_seller_reputation_metrics_sales_completed',\n",
        "                   'seller_seller_reputation_metrics_cancellations_rate',\n",
        "                   'seller_seller_reputation_metrics_cancellations_value', 'seller_seller_reputation_level_id', 'price',\n",
        "                   'currency_id', 'available_quantity', 'sold_quantity', 'buying_mode', 'listing_type_id', 'condition',\n",
        "                   'installments_quantity', 'installments_amount', 'installments_rate', 'shipping_free_shipping',\n",
        "                   'shipping_mode', 'seller_address_state_name', 'original_price', 'official_store_id', 'domain_id',\n",
        "                   'category_name', 'seller_seller_reputation_metrics_claims_excluded_real_rate',\n",
        "                   'seller_seller_reputation_metrics_claims_excluded_real_value',\n",
        "                   'seller_seller_reputation_metrics_delayed_handling_time_excluded_real_rate',\n",
        "                   'seller_seller_reputation_metrics_delayed_handling_time_excluded_real_value',\n",
        "                   'seller_seller_reputation_metrics_cancellations_excluded_real_rate',\n",
        "                   'seller_seller_reputation_metrics_cancellations_excluded_real_value',\n",
        "                   'seller_seller_reputation_real_level', 'seller_eshop_eshop_rubro_name']]\n",
        "\n",
        "# Antigüedad del vendedor\n",
        "dataset['seller_registration_date'] = pd.to_datetime(dataset['seller_registration_date']).dt.tz_localize(None).dt.normalize()\n",
        "dataset['seller_year_aprox'] = round((pd.to_datetime('now').normalize() - dataset['seller_registration_date']).dt.days.fillna(0) / 360).astype('int32')\n",
        "\n",
        "# Marca de tienda oficial?\n",
        "dataset['flag_official_store'] = np.where(dataset['official_store_id'].fillna(0) == 0, 'No', 'Si')\n",
        "\n",
        "# Borramos lo que ya no sirve\n",
        "dataset.drop(['seller_registration_date', 'official_store_id'], axis=1, inplace=True)\n",
        "\n",
        "# Borramos índices duplicados\n",
        "dataset = dataset[~dataset.index.duplicated(keep='first')]"
      ],
      "execution_count": 6,
      "outputs": []
    },
    {
      "cell_type": "markdown",
      "metadata": {
        "id": "MqbLvXPBcZpL"
      },
      "source": [
        "## Separamos el target"
      ]
    },
    {
      "cell_type": "code",
      "metadata": {
        "id": "ygQvVl18bW9k",
        "outputId": "7ad852ff-d6d7-4dee-a9bf-385b0b0acdf5",
        "colab": {
          "base_uri": "https://localhost:8080/"
        }
      },
      "source": [
        "data = dataset.loc[:, dataset.columns != 'sold_quantity'].copy()\n",
        "target = dataset.loc[:, dataset.columns == 'sold_quantity'].rename(columns={'sold_quantity': 'target'}).copy()\n",
        "print('Forma data: {}'.format(data.shape))\n",
        "print('Forma target: {}'.format(target.shape))"
      ],
      "execution_count": 7,
      "outputs": [
        {
          "output_type": "stream",
          "text": [
            "Forma data: (10435, 42)\n",
            "Forma target: (10435, 1)\n"
          ],
          "name": "stdout"
        }
      ]
    },
    {
      "cell_type": "markdown",
      "metadata": {
        "id": "elEkkF2JgWu8"
      },
      "source": [
        "## Removemos variables correlacionadas"
      ]
    },
    {
      "cell_type": "code",
      "metadata": {
        "id": "ZZs2zN9odVl_",
        "outputId": "ada28d12-1ea3-4c07-b5f7-07956b6e6855",
        "colab": {
          "base_uri": "https://localhost:8080/"
        }
      },
      "source": [
        "# Matriz de correlaciones\n",
        "print('Forma antes: {}'.format(data.shape))\n",
        "data_corr = data.select_dtypes(include=['number']).fillna(0).corr().abs()\n",
        "upper = data_corr.where(np.triu(np.ones(data_corr.shape), k=1).astype(np.bool))\n",
        "to_drop = [column for column in upper.columns if any(upper[column] > 0.75)]\n",
        "data.drop(data[to_drop], axis=1, inplace=True)\n",
        "print('Forma luego: {}'.format(data.shape))"
      ],
      "execution_count": 8,
      "outputs": [
        {
          "output_type": "stream",
          "text": [
            "Forma antes: (10435, 42)\n",
            "Forma luego: (10435, 35)\n"
          ],
          "name": "stdout"
        }
      ]
    },
    {
      "cell_type": "markdown",
      "metadata": {
        "id": "jgayki15h4qU"
      },
      "source": [
        "## Codificamos variables categóricas"
      ]
    },
    {
      "cell_type": "code",
      "metadata": {
        "id": "8kZaddF9iAQz",
        "outputId": "76d98e76-b474-4c68-b60c-f9985ab12829",
        "colab": {
          "base_uri": "https://localhost:8080/"
        }
      },
      "source": [
        "print('Forma antes: {}'.format(data.shape))\n",
        "data_cat = data.select_dtypes(exclude=['number'])\n",
        "to_drop = data_cat.columns.to_list()\n",
        "enc = OneHotEncoder(handle_unknown=\"ignore\", sparse=False)\n",
        "data_cat = pd.DataFrame(enc.fit_transform(data_cat.fillna('None')), columns=enc.get_feature_names(), index=data_cat.index)\n",
        "data.drop(data[to_drop], axis=1, inplace=True)\n",
        "data = data.merge(data_cat, left_index=True, right_index=True)\n",
        "print('Forma luego: {}'.format(data.shape))"
      ],
      "execution_count": 9,
      "outputs": [
        {
          "output_type": "stream",
          "text": [
            "Forma antes: (10435, 35)\n",
            "Forma luego: (10435, 177)\n"
          ],
          "name": "stdout"
        }
      ]
    },
    {
      "cell_type": "markdown",
      "metadata": {
        "id": "KSxFA20g6a8d"
      },
      "source": [
        "## Separamos en train y test"
      ]
    },
    {
      "cell_type": "code",
      "metadata": {
        "id": "f3XatzGH6bYV"
      },
      "source": [
        "train_data, test_data, train_target, test_target = train_test_split(data, target, test_size=TEST_SIZE, random_state=SEED)"
      ],
      "execution_count": 10,
      "outputs": []
    },
    {
      "cell_type": "markdown",
      "metadata": {
        "id": "l0n1Aflo7Jsf"
      },
      "source": [
        "## Modelo de test con Regresión"
      ]
    },
    {
      "cell_type": "code",
      "metadata": {
        "id": "eQ_Ug5m97NTX",
        "outputId": "b19a095b-bc60-4145-d10c-536328dd0760",
        "colab": {
          "base_uri": "https://localhost:8080/"
        }
      },
      "source": [
        "print('Entrenando...\\n')\n",
        "\n",
        "fi = []\n",
        "val_probs = []\n",
        "test_probs = []\n",
        "i = 0\n",
        "\n",
        "for train_index, valid_index in KFold(n_splits=K_FOLD, shuffle=True, random_state=SEED).split(train_data, train_target):\n",
        "    i += 1\n",
        "    train_data_fold = train_data.iloc[train_index]\n",
        "    train_target_fold = train_target.loc[train_data.index].iloc[train_index]\n",
        "\n",
        "    val_data_fold = train_data.iloc[valid_index]\n",
        "    val_target_fold = train_target.loc[train_data.index].iloc[valid_index]\n",
        "\n",
        "    learner = LGBMRegressor(n_estimators=10000, random_state=SEED)\n",
        "    learner.fit(train_data_fold, train_target_fold, early_stopping_rounds=200, eval_metric=\"mae\",\n",
        "                eval_set=[(train_data_fold, train_target_fold), (val_data_fold, val_target_fold)],\n",
        "                verbose=50)\n",
        "\n",
        "    val_probs.append(pd.Series(learner.predict(val_data_fold), index=val_data_fold.index, name=\"fold_\" + str(i)))\n",
        "    test_probs.append(pd.Series(learner.predict(test_data), index=test_data.index,\n",
        "                                name=\"fold_\" + str(i)))\n",
        "    fi.append(pd.Series(learner.feature_importances_ /\n",
        "                        learner.feature_importances_.sum(), index=train_data_fold.columns))\n",
        "\n",
        "test_probs = pd.concat(test_probs, axis=1).mean(axis=1)\n",
        "fi = pd.concat(fi, axis=1).mean(axis=1).sort_values(ascending=False)\n",
        "\n",
        "print('\\nListo!')"
      ],
      "execution_count": 11,
      "outputs": [
        {
          "output_type": "stream",
          "text": [
            "Entrenando...\n",
            "\n",
            "Training until validation scores don't improve for 200 rounds.\n",
            "[50]\ttraining's l1: 39.9448\ttraining's l2: 25081.3\tvalid_1's l1: 45.8382\tvalid_1's l2: 34516\n",
            "[100]\ttraining's l1: 35.8732\ttraining's l2: 18155\tvalid_1's l1: 46.7233\tvalid_1's l2: 34360.8\n",
            "[150]\ttraining's l1: 33.0606\ttraining's l2: 13981.1\tvalid_1's l1: 47.3768\tvalid_1's l2: 35807.1\n",
            "[200]\ttraining's l1: 30.9415\ttraining's l2: 11234.3\tvalid_1's l1: 48.1997\tvalid_1's l2: 36756.7\n",
            "Early stopping, best iteration is:\n",
            "[42]\ttraining's l1: 41.0905\ttraining's l2: 26671.3\tvalid_1's l1: 45.5309\tvalid_1's l2: 34749.7\n",
            "Training until validation scores don't improve for 200 rounds.\n",
            "[50]\ttraining's l1: 39.8916\ttraining's l2: 25380.4\tvalid_1's l1: 47.5748\tvalid_1's l2: 51755.4\n",
            "[100]\ttraining's l1: 35.9748\ttraining's l2: 18733.6\tvalid_1's l1: 47.3235\tvalid_1's l2: 49589.3\n",
            "[150]\ttraining's l1: 33.4539\ttraining's l2: 14654.8\tvalid_1's l1: 47.7429\tvalid_1's l2: 49370.6\n",
            "[200]\ttraining's l1: 31.8075\ttraining's l2: 12036.5\tvalid_1's l1: 47.9822\tvalid_1's l2: 48711\n",
            "[250]\ttraining's l1: 30.2695\ttraining's l2: 10064.6\tvalid_1's l1: 48.2383\tvalid_1's l2: 49259.7\n",
            "Early stopping, best iteration is:\n",
            "[68]\ttraining's l1: 38.1124\ttraining's l2: 22361.5\tvalid_1's l1: 47.096\tvalid_1's l2: 50324.1\n",
            "Training until validation scores don't improve for 200 rounds.\n",
            "[50]\ttraining's l1: 38.9328\ttraining's l2: 24040.5\tvalid_1's l1: 56.0488\tvalid_1's l2: 80295.9\n",
            "[100]\ttraining's l1: 34.8368\ttraining's l2: 16546.7\tvalid_1's l1: 57.6524\tvalid_1's l2: 85632.2\n",
            "[150]\ttraining's l1: 32.3445\ttraining's l2: 12906.2\tvalid_1's l1: 58.2826\tvalid_1's l2: 88856.9\n",
            "[200]\ttraining's l1: 30.2424\ttraining's l2: 10009.3\tvalid_1's l1: 59.7305\tvalid_1's l2: 92825.7\n",
            "Early stopping, best iteration is:\n",
            "[32]\ttraining's l1: 41.3051\ttraining's l2: 28594.2\tvalid_1's l1: 55.8759\tvalid_1's l2: 79130.4\n",
            "Training until validation scores don't improve for 200 rounds.\n",
            "[50]\ttraining's l1: 40.2569\ttraining's l2: 26248.4\tvalid_1's l1: 46.4893\tvalid_1's l2: 27588.1\n",
            "[100]\ttraining's l1: 36.3687\ttraining's l2: 18936.6\tvalid_1's l1: 45.955\tvalid_1's l2: 26921.8\n",
            "[150]\ttraining's l1: 34.0079\ttraining's l2: 14900.4\tvalid_1's l1: 46.4\tvalid_1's l2: 26738.1\n",
            "[200]\ttraining's l1: 32.1906\ttraining's l2: 12148.6\tvalid_1's l1: 46.5459\tvalid_1's l2: 26027.6\n",
            "[250]\ttraining's l1: 30.4179\ttraining's l2: 9924.76\tvalid_1's l1: 46.5819\tvalid_1's l2: 25803.8\n",
            "Early stopping, best iteration is:\n",
            "[88]\ttraining's l1: 37.3157\ttraining's l2: 20359.5\tvalid_1's l1: 45.8537\tvalid_1's l2: 27041.3\n",
            "Training until validation scores don't improve for 200 rounds.\n",
            "[50]\ttraining's l1: 39.3394\ttraining's l2: 24780.7\tvalid_1's l1: 48.7851\tvalid_1's l2: 45677.6\n",
            "[100]\ttraining's l1: 35.7995\ttraining's l2: 17803.4\tvalid_1's l1: 50.4374\tvalid_1's l2: 44317.6\n",
            "[150]\ttraining's l1: 33.3784\ttraining's l2: 13849\tvalid_1's l1: 50.2178\tvalid_1's l2: 43347.8\n",
            "[200]\ttraining's l1: 31.2519\ttraining's l2: 10876.6\tvalid_1's l1: 50.2703\tvalid_1's l2: 43031.9\n",
            "[250]\ttraining's l1: 29.6211\ttraining's l2: 8931.37\tvalid_1's l1: 50.3051\tvalid_1's l2: 42216.1\n",
            "Early stopping, best iteration is:\n",
            "[52]\ttraining's l1: 39.1559\ttraining's l2: 24392.6\tvalid_1's l1: 48.6961\tvalid_1's l2: 45213.8\n",
            "Training until validation scores don't improve for 200 rounds.\n",
            "[50]\ttraining's l1: 39.5737\ttraining's l2: 26480.4\tvalid_1's l1: 47.5053\tvalid_1's l2: 28399\n",
            "[100]\ttraining's l1: 35.7804\ttraining's l2: 19021.1\tvalid_1's l1: 47.6471\tvalid_1's l2: 25393.2\n",
            "[150]\ttraining's l1: 33.4219\ttraining's l2: 14822.4\tvalid_1's l1: 47.4659\tvalid_1's l2: 22555.9\n",
            "[200]\ttraining's l1: 31.6041\ttraining's l2: 12041.1\tvalid_1's l1: 47.998\tvalid_1's l2: 20420.6\n",
            "[250]\ttraining's l1: 29.7875\ttraining's l2: 9975.36\tvalid_1's l1: 47.8898\tvalid_1's l2: 19400.7\n",
            "[300]\ttraining's l1: 28.4401\ttraining's l2: 8504.1\tvalid_1's l1: 47.7591\tvalid_1's l2: 18354.4\n",
            "[350]\ttraining's l1: 27.2479\ttraining's l2: 7311.65\tvalid_1's l1: 48.0282\tvalid_1's l2: 18118.4\n",
            "Early stopping, best iteration is:\n",
            "[159]\ttraining's l1: 33.0938\ttraining's l2: 14184.6\tvalid_1's l1: 47.191\tvalid_1's l2: 21797\n",
            "Training until validation scores don't improve for 200 rounds.\n",
            "[50]\ttraining's l1: 39.7145\ttraining's l2: 25850\tvalid_1's l1: 58.16\tvalid_1's l2: 33693.5\n",
            "[100]\ttraining's l1: 36.3511\ttraining's l2: 18628.1\tvalid_1's l1: 58.8329\tvalid_1's l2: 36778.4\n",
            "[150]\ttraining's l1: 33.2897\ttraining's l2: 14088.2\tvalid_1's l1: 59.0285\tvalid_1's l2: 36235.2\n",
            "[200]\ttraining's l1: 31.1613\ttraining's l2: 11236.2\tvalid_1's l1: 58.372\tvalid_1's l2: 35387.9\n",
            "Early stopping, best iteration is:\n",
            "[13]\ttraining's l1: 49.9411\ttraining's l2: 39541.3\tvalid_1's l1: 56.3902\tvalid_1's l2: 27557.6\n",
            "Training until validation scores don't improve for 200 rounds.\n",
            "[50]\ttraining's l1: 39.6623\ttraining's l2: 24818.5\tvalid_1's l1: 45.7001\tvalid_1's l2: 42069.5\n",
            "[100]\ttraining's l1: 35.8519\ttraining's l2: 17775.5\tvalid_1's l1: 45.5341\tvalid_1's l2: 42764.3\n",
            "[150]\ttraining's l1: 33.3181\ttraining's l2: 13870.6\tvalid_1's l1: 46.1147\tvalid_1's l2: 42085.1\n",
            "[200]\ttraining's l1: 31.2461\ttraining's l2: 11035.4\tvalid_1's l1: 46.3308\tvalid_1's l2: 41623.6\n",
            "Early stopping, best iteration is:\n",
            "[14]\ttraining's l1: 49.4028\ttraining's l2: 37827.5\tvalid_1's l1: 48.4792\tvalid_1's l2: 38329\n",
            "Training until validation scores don't improve for 200 rounds.\n",
            "[50]\ttraining's l1: 39.2556\ttraining's l2: 24612.7\tvalid_1's l1: 51.1226\tvalid_1's l2: 48948\n",
            "[100]\ttraining's l1: 35.7624\ttraining's l2: 17202.8\tvalid_1's l1: 52.6649\tvalid_1's l2: 51392.6\n",
            "[150]\ttraining's l1: 33.1653\ttraining's l2: 13160.3\tvalid_1's l1: 53.308\tvalid_1's l2: 52885.6\n",
            "[200]\ttraining's l1: 30.8535\ttraining's l2: 10408\tvalid_1's l1: 53.6285\tvalid_1's l2: 54757.3\n",
            "Early stopping, best iteration is:\n",
            "[35]\ttraining's l1: 41.4505\ttraining's l2: 27843.2\tvalid_1's l1: 51.2043\tvalid_1's l2: 48452.5\n",
            "Training until validation scores don't improve for 200 rounds.\n",
            "[50]\ttraining's l1: 40.1309\ttraining's l2: 25342.9\tvalid_1's l1: 44.4051\tvalid_1's l2: 33755.9\n",
            "[100]\ttraining's l1: 36.2942\ttraining's l2: 17784.9\tvalid_1's l1: 44.4148\tvalid_1's l2: 34222\n",
            "[150]\ttraining's l1: 33.8412\ttraining's l2: 13828.3\tvalid_1's l1: 45.1908\tvalid_1's l2: 34274.8\n",
            "[200]\ttraining's l1: 31.7729\ttraining's l2: 11176.8\tvalid_1's l1: 46.6671\tvalid_1's l2: 35184.4\n",
            "Early stopping, best iteration is:\n",
            "[21]\ttraining's l1: 45.5072\ttraining's l2: 34588.6\tvalid_1's l1: 45.2276\tvalid_1's l2: 33072.5\n",
            "\n",
            "Listo!\n"
          ],
          "name": "stdout"
        }
      ]
    },
    {
      "cell_type": "code",
      "metadata": {
        "id": "zLP6v37CAH9x",
        "outputId": "3729d1a8-0ab0-437e-f327-0adbf79034bd",
        "colab": {
          "base_uri": "https://localhost:8080/"
        }
      },
      "source": [
        "print(\"Performance del modelo\")\n",
        "print(\"--------------------------------------\")\n",
        "print('MAE {}'.format(mean_absolute_error(test_target, test_probs)))\n",
        "print('MSE {}'.format(mean_squared_error(test_target, test_probs)))\n",
        "print('RMSE {}'.format(mean_squared_error(test_target, test_probs, squared=False)))"
      ],
      "execution_count": 12,
      "outputs": [
        {
          "output_type": "stream",
          "text": [
            "Performance del modelo\n",
            "--------------------------------------\n",
            "MAE 45.17905992046953\n",
            "MSE 21162.99101324574\n",
            "RMSE 145.47505288964751\n"
          ],
          "name": "stdout"
        }
      ]
    },
    {
      "cell_type": "markdown",
      "metadata": {
        "id": "rRiJJI_MXYwQ"
      },
      "source": [
        "## Importancia de variables"
      ]
    },
    {
      "cell_type": "code",
      "metadata": {
        "id": "3khQTlP-XbF-",
        "outputId": "439d1fef-9549-4a6d-f768-ef095b23c248",
        "colab": {
          "base_uri": "https://localhost:8080/",
          "height": 698
        }
      },
      "source": [
        "sns.barplot(x=fi.head(10), y=fi.head(10).index, orient='h')\n",
        "#Add chart labels\n",
        "plt.title('Importancia de variables')\n",
        "plt.xlabel('Importancia')\n",
        "plt.ylabel('Variables')"
      ],
      "execution_count": 13,
      "outputs": [
        {
          "output_type": "execute_result",
          "data": {
            "text/plain": [
              "Text(0, 0.5, 'Variables')"
            ]
          },
          "metadata": {
            "tags": []
          },
          "execution_count": 13
        },
        {
          "output_type": "display_data",
          "data": {
            "image/png": "[encoded data removed]",
            "text/plain": [
              "<Figure size 1728x864 with 1 Axes>"
            ]
          },
          "metadata": {
            "tags": []
          }
        }
      ]
    },
    {
      "cell_type": "markdown",
      "metadata": {
        "id": "6_2Pph5XNy1_"
      },
      "source": [
        "## Modelo de test con clasificación"
      ]
    },
    {
      "cell_type": "code",
      "metadata": {
        "id": "aOrH_R7oN2xl",
        "outputId": "ce90b049-2da5-43d0-dd65-cf699a339c55",
        "colab": {
          "base_uri": "https://localhost:8080/"
        }
      },
      "source": [
        "target_bi = pd.Series(np.where(target['target'] > 0, 'Vende', 'No vende'), index=target.index)\n",
        "print('distribución de clases: \\n{}'.format(target_bi.value_counts()))\n",
        "\n",
        "# codificamos el target\n",
        "le = LabelEncoder()\n",
        "target_bi = le.fit_transform(target_bi)\n",
        "num_clase = le.classes_"
      ],
      "execution_count": 16,
      "outputs": [
        {
          "output_type": "stream",
          "text": [
            "distribución de clases: \n",
            "Vende       7545\n",
            "No vende    2890\n",
            "dtype: int64\n"
          ],
          "name": "stdout"
        }
      ]
    },
    {
      "cell_type": "markdown",
      "metadata": {
        "id": "2wAlzIWUh1gd"
      },
      "source": [
        "## Separamos en train y test"
      ]
    },
    {
      "cell_type": "code",
      "metadata": {
        "id": "PuQZ3697h39_"
      },
      "source": [
        "train_data, test_data, train_target, test_target = train_test_split(data, target_bi, test_size=TEST_SIZE,\n",
        "                                                                    random_state=SEED, stratify=target_bi)"
      ],
      "execution_count": 17,
      "outputs": []
    },
    {
      "cell_type": "code",
      "metadata": {
        "id": "zpvLci2Dhopw",
        "outputId": "395829d7-3099-49c2-a411-e80d8cdaf981",
        "colab": {
          "base_uri": "https://localhost:8080/"
        }
      },
      "source": [
        "fi = []\n",
        "val_probs = []\n",
        "test_probs = []\n",
        "i = 0\n",
        "\n",
        "for train_index, valid_index in StratifiedKFold(n_splits=K_FOLD, shuffle=True, random_state=SEED).split(train_data,\n",
        "                                                                                                        train_target):\n",
        "    i += 1\n",
        "    train_data_fold = train_data.iloc[train_index]\n",
        "    train_target_fold = train_target[train_index]\n",
        "\n",
        "    val_data_fold = train_data.iloc[valid_index]\n",
        "    val_target_fold = train_target[valid_index]\n",
        "\n",
        "    learner = LGBMClassifier(n_estimators=10000, random_state=SEED, objective='binary')\n",
        "    learner.fit(train_data_fold, train_target_fold, early_stopping_rounds=50, eval_metric=\"auc\",\n",
        "                eval_set=[(train_data_fold, train_target_fold), (val_data_fold, val_target_fold)],\n",
        "                verbose=50)\n",
        "\n",
        "    val_probs.append(pd.Series(learner.predict_proba(val_data_fold)[:, -1], name=\"fold_\" + str(i)))\n",
        "    test_probs.append(pd.Series(learner.predict_proba(test_data)[:, -1], index=test_data.index,\n",
        "                                name=\"fold_\" + str(i)))\n",
        "    fi.append(pd.Series(learner.feature_importances_ /\n",
        "                        learner.feature_importances_.sum(), index=train_data_fold.columns))\n",
        "\n",
        "test_probs = pd.concat(test_probs, axis=1).mean(axis=1)\n",
        "fi = pd.concat(fi, axis=1).mean(axis=1).sort_values(ascending=False)"
      ],
      "execution_count": 20,
      "outputs": [
        {
          "output_type": "stream",
          "text": [
            "Training until validation scores don't improve for 50 rounds.\n",
            "[50]\ttraining's binary_logloss: 0.0708535\ttraining's auc: 0.996898\tvalid_1's binary_logloss: 0.125519\tvalid_1's auc: 0.988617\n",
            "[100]\ttraining's binary_logloss: 0.0426535\ttraining's auc: 0.999281\tvalid_1's binary_logloss: 0.123188\tvalid_1's auc: 0.989045\n",
            "[150]\ttraining's binary_logloss: 0.0290354\ttraining's auc: 0.999788\tvalid_1's binary_logloss: 0.127754\tvalid_1's auc: 0.989181\n",
            "Early stopping, best iteration is:\n",
            "[100]\ttraining's binary_logloss: 0.0426535\ttraining's auc: 0.999281\tvalid_1's binary_logloss: 0.123188\tvalid_1's auc: 0.989045\n",
            "Training until validation scores don't improve for 50 rounds.\n",
            "[50]\ttraining's binary_logloss: 0.0727294\ttraining's auc: 0.996701\tvalid_1's binary_logloss: 0.1161\tvalid_1's auc: 0.990389\n",
            "Early stopping, best iteration is:\n",
            "[47]\ttraining's binary_logloss: 0.0755496\ttraining's auc: 0.996361\tvalid_1's binary_logloss: 0.116577\tvalid_1's auc: 0.990539\n",
            "Training until validation scores don't improve for 50 rounds.\n",
            "[50]\ttraining's binary_logloss: 0.071249\ttraining's auc: 0.996844\tvalid_1's binary_logloss: 0.13123\tvalid_1's auc: 0.984418\n",
            "[100]\ttraining's binary_logloss: 0.0433469\ttraining's auc: 0.999256\tvalid_1's binary_logloss: 0.133327\tvalid_1's auc: 0.984773\n",
            "Early stopping, best iteration is:\n",
            "[53]\ttraining's binary_logloss: 0.0684614\ttraining's auc: 0.997103\tvalid_1's binary_logloss: 0.13054\tvalid_1's auc: 0.984856\n",
            "Training until validation scores don't improve for 50 rounds.\n",
            "[50]\ttraining's binary_logloss: 0.0733029\ttraining's auc: 0.99672\tvalid_1's binary_logloss: 0.0910985\tvalid_1's auc: 0.990511\n",
            "Early stopping, best iteration is:\n",
            "[39]\ttraining's binary_logloss: 0.087178\ttraining's auc: 0.995312\tvalid_1's binary_logloss: 0.0975927\tvalid_1's auc: 0.990966\n",
            "Training until validation scores don't improve for 50 rounds.\n",
            "[50]\ttraining's binary_logloss: 0.0714606\ttraining's auc: 0.996843\tvalid_1's binary_logloss: 0.110681\tvalid_1's auc: 0.988163\n",
            "Early stopping, best iteration is:\n",
            "[26]\ttraining's binary_logloss: 0.11431\ttraining's auc: 0.992899\tvalid_1's binary_logloss: 0.131246\tvalid_1's auc: 0.98993\n",
            "Training until validation scores don't improve for 50 rounds.\n",
            "[50]\ttraining's binary_logloss: 0.0714837\ttraining's auc: 0.997037\tvalid_1's binary_logloss: 0.105972\tvalid_1's auc: 0.98935\n",
            "[100]\ttraining's binary_logloss: 0.0424935\ttraining's auc: 0.999379\tvalid_1's binary_logloss: 0.107531\tvalid_1's auc: 0.988722\n",
            "Early stopping, best iteration is:\n",
            "[58]\ttraining's binary_logloss: 0.0646309\ttraining's auc: 0.997691\tvalid_1's binary_logloss: 0.103395\tvalid_1's auc: 0.990159\n",
            "Training until validation scores don't improve for 50 rounds.\n",
            "[50]\ttraining's binary_logloss: 0.0708715\ttraining's auc: 0.996816\tvalid_1's binary_logloss: 0.12522\tvalid_1's auc: 0.983576\n",
            "[100]\ttraining's binary_logloss: 0.042667\ttraining's auc: 0.999268\tvalid_1's binary_logloss: 0.127713\tvalid_1's auc: 0.983082\n",
            "Early stopping, best iteration is:\n",
            "[53]\ttraining's binary_logloss: 0.0680814\ttraining's auc: 0.997099\tvalid_1's binary_logloss: 0.123903\tvalid_1's auc: 0.984264\n",
            "Training until validation scores don't improve for 50 rounds.\n",
            "[50]\ttraining's binary_logloss: 0.0720502\ttraining's auc: 0.99677\tvalid_1's binary_logloss: 0.113017\tvalid_1's auc: 0.988762\n",
            "[100]\ttraining's binary_logloss: 0.0429776\ttraining's auc: 0.999289\tvalid_1's binary_logloss: 0.1077\tvalid_1's auc: 0.988934\n",
            "[150]\ttraining's binary_logloss: 0.0292515\ttraining's auc: 0.999791\tvalid_1's binary_logloss: 0.108567\tvalid_1's auc: 0.989149\n",
            "Early stopping, best iteration is:\n",
            "[117]\ttraining's binary_logloss: 0.0371803\ttraining's auc: 0.999572\tvalid_1's binary_logloss: 0.107418\tvalid_1's auc: 0.989256\n",
            "Training until validation scores don't improve for 50 rounds.\n",
            "[50]\ttraining's binary_logloss: 0.0711367\ttraining's auc: 0.996905\tvalid_1's binary_logloss: 0.118324\tvalid_1's auc: 0.986909\n",
            "Early stopping, best iteration is:\n",
            "[45]\ttraining's binary_logloss: 0.0763279\ttraining's auc: 0.996242\tvalid_1's binary_logloss: 0.12026\tvalid_1's auc: 0.987074\n",
            "Training until validation scores don't improve for 50 rounds.\n",
            "[50]\ttraining's binary_logloss: 0.0702769\ttraining's auc: 0.997067\tvalid_1's binary_logloss: 0.117265\tvalid_1's auc: 0.985577\n",
            "[100]\ttraining's binary_logloss: 0.043205\ttraining's auc: 0.999262\tvalid_1's binary_logloss: 0.120021\tvalid_1's auc: 0.986119\n",
            "Early stopping, best iteration is:\n",
            "[65]\ttraining's binary_logloss: 0.0589468\ttraining's auc: 0.998105\tvalid_1's binary_logloss: 0.115706\tvalid_1's auc: 0.986241\n"
          ],
          "name": "stdout"
        }
      ]
    },
    {
      "cell_type": "code",
      "metadata": {
        "id": "8gOxDRCHifEu",
        "outputId": "614e8e02-ce16-4cb7-c604-5e538642e7b6",
        "colab": {
          "base_uri": "https://localhost:8080/"
        }
      },
      "source": [
        "def find_optimal_cutoff(true_label, prediction):\n",
        "    \"\"\"Encuentra la probabilidad de corte óptima para un problema de clasificación binaria basandose en la curva ROC\"\"\"\n",
        "    fpr, tpr, thresh = roc_curve(true_label, prediction)\n",
        "    idx = np.arange(len(tpr))\n",
        "    roc = pd.DataFrame({'tf': pd.Series(tpr-(1-fpr), index=idx), 'threshold': pd.Series(thresh, index=idx)})\n",
        "    roc_t = roc.iloc[(roc.tf-0).abs().argsort()[:1]]\n",
        "    return list(roc_t['threshold'])\n",
        "\n",
        "print(\"Performance del modelo\")\n",
        "print(\"--------------------------------------\")\n",
        "# predicción del resultado\n",
        "threshold = find_optimal_cutoff(test_target, test_probs)\n",
        "pred_target = pd.Series(np.where(test_probs > threshold[0], 1, 0), index=test_probs.index)\n",
        "conf_mat = pd.DataFrame(confusion_matrix(test_target, pred_target), columns=num_clase, index=num_clase)\n",
        "print(\"\\nProbabilidad de corte: {}\".format(threshold[0]))\n",
        "print(\"\\nMatriz de Confusión (filas=real, columnas=prediccion)\")\n",
        "print(conf_mat)\n",
        "print(\"\\nReporte de Clasificación\")\n",
        "print(classification_report(test_target, pred_target, target_names=['0', '1']))\n",
        "print(\"\\nAccuracy_score: {}\".format(accuracy_score(test_target, pred_target)))\n",
        "print(\"\\nROC_auc_score: {}\\n\".format(roc_auc_score(test_target, test_probs)))"
      ],
      "execution_count": 22,
      "outputs": [
        {
          "output_type": "stream",
          "text": [
            "Performance del modelo\n",
            "--------------------------------------\n",
            "\n",
            "Probabilidad de corte: 0.7561268131991236\n",
            "\n",
            "Matriz de Confusión (filas=real, columnas=prediccion)\n",
            "          No vende  Vende\n",
            "No vende       550     28\n",
            "Vende           75   1434\n",
            "\n",
            "Reporte de Clasificación\n",
            "              precision    recall  f1-score   support\n",
            "\n",
            "           0       0.88      0.95      0.91       578\n",
            "           1       0.98      0.95      0.97      1509\n",
            "\n",
            "    accuracy                           0.95      2087\n",
            "   macro avg       0.93      0.95      0.94      2087\n",
            "weighted avg       0.95      0.95      0.95      2087\n",
            "\n",
            "\n",
            "Accuracy_score: 0.9506468615237182\n",
            "\n",
            "ROC_auc_score: 0.9890019743132897\n",
            "\n"
          ],
          "name": "stdout"
        }
      ]
    },
    {
      "cell_type": "code",
      "metadata": {
        "id": "Ia6XipIRaeiM",
        "outputId": "186f9161-28ba-4a45-b7c9-e8b8219bb84f",
        "colab": {
          "base_uri": "https://localhost:8080/",
          "height": 698
        }
      },
      "source": [
        "sns.barplot(x=fi.head(10), y=fi.head(10).index, orient='h')\n",
        "#Add chart labels\n",
        "plt.title('Importancia de variables')\n",
        "plt.xlabel('Importancia')\n",
        "plt.ylabel('Variables')"
      ],
      "execution_count": 23,
      "outputs": [
        {
          "output_type": "execute_result",
          "data": {
            "text/plain": [
              "Text(0, 0.5, 'Variables')"
            ]
          },
          "metadata": {
            "tags": []
          },
          "execution_count": 23
        },
        {
          "output_type": "display_data",
          "data": {
            "image/png": "[encoded data removed]",
            "text/plain": [
              "<Figure size 1728x864 with 1 Axes>"
            ]
          },
          "metadata": {
            "tags": []
          }
        }
      ]
    }
  ]
}