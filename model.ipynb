{
  "nbformat": 4,
  "nbformat_minor": 0,
  "metadata": {
    "colab": {
      "name": "model.ipynb",
      "provenance": [],
      "collapsed_sections": [],
      "authorship_tag": "ABX9TyNXUT0na2811mCl92ibp/JI",
      "include_colab_link": true
    },
    "kernelspec": {
      "name": "python3",
      "display_name": "Python 3"
    }
  },
  "cells": [
    {
      "cell_type": "markdown",
      "metadata": {
        "id": "view-in-github",
        "colab_type": "text"
      },
      "source": [
        "<a href=\"https://colab.research.google.com/github/maxiuboldi/challenge_ml/blob/main/model.ipynb\" target=\"_parent\"><img src=\"https://colab.research.google.com/assets/colab-badge.svg\" alt=\"Open In Colab\"/></a>"
      ]
    },
    {
      "cell_type": "markdown",
      "metadata": {
        "id": "PdHcRMwYX_G4"
      },
      "source": [
        "#Data Science Challenge Mercado Libre - BI Team"
      ]
    },
    {
      "cell_type": "markdown",
      "metadata": {
        "id": "-N-iNn8vX7GI"
      },
      "source": [
        "## Instalar dependencias"
      ]
    },
    {
      "cell_type": "code",
      "metadata": {
        "id": "BEN91rg4XvBN",
        "outputId": "e93bb390-300f-4b62-d985-58419d6f566d",
        "colab": {
          "base_uri": "https://localhost:8080/"
        }
      },
      "source": [
        "!pip install cherrypicker"
      ],
      "execution_count": 1,
      "outputs": [
        {
          "output_type": "stream",
          "text": [
            "Requirement already satisfied: cherrypicker in /usr/local/lib/python3.6/dist-packages (0.3.1)\n",
            "Requirement already satisfied: joblib>=0.13.0 in /usr/local/lib/python3.6/dist-packages (from cherrypicker) (0.17.0)\n"
          ],
          "name": "stdout"
        }
      ]
    },
    {
      "cell_type": "markdown",
      "metadata": {
        "id": "Eoxz63btYJMJ"
      },
      "source": [
        "## Importar librerias"
      ]
    },
    {
      "cell_type": "code",
      "metadata": {
        "id": "i08P36kRYKS-"
      },
      "source": [
        "import urllib.request\n",
        "import urllib.parse\n",
        "import json\n",
        "import pandas as pd\n",
        "import numpy as np\n",
        "from math import ceil\n",
        "from cherrypicker import CherryPicker\n",
        "from time import sleep\n",
        "import gc\n",
        "from sklearn.preprocessing import OneHotEncoder\n",
        "from sklearn.model_selection import train_test_split\n",
        "from lightgbm import LGBMRegressor, LGBMClassifier\n",
        "from sklearn.model_selection import KFold, StratifiedKFold\n",
        "from sklearn.metrics import mean_absolute_error, mean_squared_error, roc_curve, roc_auc_score, classification_report, confusion_matrix, accuracy_score\n",
        "from sklearn.preprocessing import LabelEncoder\n",
        "import seaborn as sns \n",
        "import matplotlib.pyplot as plt"
      ],
      "execution_count": 2,
      "outputs": []
    },
    {
      "cell_type": "markdown",
      "metadata": {
        "id": "5CDEXimGYNvQ"
      },
      "source": [
        "## Contantes"
      ]
    },
    {
      "cell_type": "code",
      "metadata": {
        "id": "CDeYOfC8YPIz"
      },
      "source": [
        "# API ML\n",
        "URL_CATEGORIES = 'https://api.mercadolibre.com/sites/MLA/categories'\n",
        "URL_CHILD_CATEGORIES = 'https://api.mercadolibre.com/categories/'\n",
        "URL_SEARCH = 'https://api.mercadolibre.com/sites/MLA/search?'\n",
        "LIMIT_CALLS = 1050 / 50\n",
        "SLEEP = 0  # No encontré en la documentación límites, pero por las dudas...\n",
        "\n",
        "# Modelo\n",
        "SEED = 8888\n",
        "K_FOLD = 10\n",
        "TEST_SIZE = 0.20\n",
        "\n",
        "# Opciones de Pandas\n",
        "pd_options = {\n",
        "'display.max_rows': None,\n",
        "'display.max_columns': None,\n",
        "'display.width': None,\n",
        "'display.float_format': '{:.2f}'.format\n",
        "}\n",
        "[pd.set_option(option, setting) for option, setting in pd_options.items()]\n",
        "\n",
        "# Otras opciones\n",
        "plt.rcParams['figure.figsize'] = (24, 12)\n",
        "sns.set()"
      ],
      "execution_count": 3,
      "outputs": []
    },
    {
      "cell_type": "markdown",
      "metadata": {
        "id": "vcgjCmNsYhwp"
      },
      "source": [
        "## Descarga de categorías"
      ]
    },
    {
      "cell_type": "code",
      "metadata": {
        "id": "pSz5TsmXYiAs",
        "outputId": "7f2d006b-a41d-4e8a-ff83-85967b5f8f2e",
        "colab": {
          "base_uri": "https://localhost:8080/"
        }
      },
      "source": [
        "print('Descargando categorías {}\\n'.format(URL_CATEGORIES))\n",
        "with urllib.request.urlopen(URL_CATEGORIES) as handler:\n",
        "    categories = json.loads(handler.read())\n",
        "sleep(SLEEP)\n",
        "\n",
        "categories_list = []\n",
        "for category in categories:\n",
        "    url_categorie = URL_CHILD_CATEGORIES + category.get('id')\n",
        "    print('Descargando sub categorías {}'.format(url_categorie))\n",
        "    with urllib.request.urlopen(url_categorie) as handler:\n",
        "        category_detail = json.loads(handler.read())\n",
        "        for detalle in category_detail.get('children_categories'):\n",
        "            categories_list.append(detalle)\n",
        "    sleep(SLEEP)\n",
        "\n",
        "categories_df = pd.DataFrame(categories_list)\n",
        "categories_df.set_index('id', inplace=True)\n",
        "\n",
        "print('\\nListo')"
      ],
      "execution_count": 4,
      "outputs": [
        {
          "output_type": "stream",
          "text": [
            "Descargando categorías https://api.mercadolibre.com/sites/MLA/categories\n",
            "\n",
            "Descargando sub categorías https://api.mercadolibre.com/categories/MLA5725\n",
            "Descargando sub categorías https://api.mercadolibre.com/categories/MLA1512\n",
            "Descargando sub categorías https://api.mercadolibre.com/categories/MLA1403\n",
            "Descargando sub categorías https://api.mercadolibre.com/categories/MLA1071\n",
            "Descargando sub categorías https://api.mercadolibre.com/categories/MLA1367\n",
            "Descargando sub categorías https://api.mercadolibre.com/categories/MLA1368\n",
            "Descargando sub categorías https://api.mercadolibre.com/categories/MLA1743\n",
            "Descargando sub categorías https://api.mercadolibre.com/categories/MLA1384\n",
            "Descargando sub categorías https://api.mercadolibre.com/categories/MLA1246\n",
            "Descargando sub categorías https://api.mercadolibre.com/categories/MLA1039\n",
            "Descargando sub categorías https://api.mercadolibre.com/categories/MLA1051\n",
            "Descargando sub categorías https://api.mercadolibre.com/categories/MLA1648\n",
            "Descargando sub categorías https://api.mercadolibre.com/categories/MLA1144\n",
            "Descargando sub categorías https://api.mercadolibre.com/categories/MLA1276\n",
            "Descargando sub categorías https://api.mercadolibre.com/categories/MLA5726\n",
            "Descargando sub categorías https://api.mercadolibre.com/categories/MLA1000\n",
            "Descargando sub categorías https://api.mercadolibre.com/categories/MLA2547\n",
            "Descargando sub categorías https://api.mercadolibre.com/categories/MLA407134\n",
            "Descargando sub categorías https://api.mercadolibre.com/categories/MLA1574\n",
            "Descargando sub categorías https://api.mercadolibre.com/categories/MLA1499\n",
            "Descargando sub categorías https://api.mercadolibre.com/categories/MLA1459\n",
            "Descargando sub categorías https://api.mercadolibre.com/categories/MLA1182\n",
            "Descargando sub categorías https://api.mercadolibre.com/categories/MLA3937\n",
            "Descargando sub categorías https://api.mercadolibre.com/categories/MLA1132\n",
            "Descargando sub categorías https://api.mercadolibre.com/categories/MLA3025\n",
            "Descargando sub categorías https://api.mercadolibre.com/categories/MLA1168\n",
            "Descargando sub categorías https://api.mercadolibre.com/categories/MLA1430\n",
            "Descargando sub categorías https://api.mercadolibre.com/categories/MLA409431\n",
            "Descargando sub categorías https://api.mercadolibre.com/categories/MLA1540\n",
            "Descargando sub categorías https://api.mercadolibre.com/categories/MLA9304\n",
            "Descargando sub categorías https://api.mercadolibre.com/categories/MLA1953\n",
            "\n",
            "Listo\n"
          ],
          "name": "stdout"
        }
      ]
    },
    {
      "cell_type": "markdown",
      "metadata": {
        "id": "P-Il383MYuKg"
      },
      "source": [
        "## Muestreo de categorías adicionales y descarga de datos"
      ]
    },
    {
      "cell_type": "code",
      "metadata": {
        "id": "lDMeV2f4YvBJ",
        "outputId": "4badf731-67ca-4007-8d3f-27879a066cfe",
        "colab": {
          "base_uri": "https://localhost:8080/"
        }
      },
      "source": [
        "print('\\nMuestreando categorías')\n",
        "categories_search_dict = categories_df[~categories_df['name'].str.lower().str.contains(\n",
        "    r'tvs|smartphones')]['name'].sample(8, random_state=8888).to_dict()\n",
        "categories_search_dict.update(categories_df[categories_df['name'].str.lower().str.contains(r'tvs|smartphones')]['name'])\n",
        "\n",
        "print('Categorías seleccionadas')\n",
        "for category, name in categories_search_dict.items():\n",
        "    print(category, ': ', name)\n",
        "\n",
        "print('Descargando resultados de búsqueda\\n')\n",
        "results_list = []\n",
        "for category, name in categories_search_dict.items():\n",
        "    print('Procesando categoría {}\\n'.format(category))\n",
        "    current_call = 0\n",
        "    # La API sólo permite pasar un offset hasta 1.000, que devuelve un máximo de 1.050 artículos\n",
        "    # con un máximo de 21 llamadas.\n",
        "    for offset in range(0, 1050, 50):\n",
        "        current_call += 1\n",
        "        url_search_category = URL_SEARCH + urllib.parse.urlencode({'category': category, 'offset': offset})\n",
        "        print('procesando {}'.format(url_search_category))\n",
        "        with urllib.request.urlopen(url_search_category) as handler:\n",
        "            search_result = json.loads(handler.read())\n",
        "            total = search_result['paging'].get('total')\n",
        "            if current_call == 1:\n",
        "                print('Total de resultados: {}'.format(total))\n",
        "            if total == 0:  # Por las dudas, hay categorías sin productos que pudieran salir del aleatorio\n",
        "                break\n",
        "            calls = ceil(total / 50)\n",
        "            if current_call == 1:\n",
        "                print('Total de llamadas necesarias: {}\\n'.format(calls))\n",
        "            results = search_result['results']\n",
        "            for result in results:\n",
        "                picker = CherryPicker(result)\n",
        "                picker_dict = picker.flatten().get()\n",
        "                picker_dict.update({'category_name': name})\n",
        "                results_list.append(picker_dict)\n",
        "            if current_call == calls:  # Si no hace falta llamar más, cortamos.\n",
        "                break\n",
        "            sleep(SLEEP)\n",
        "    print('')\n",
        "\n",
        "dataset = pd.DataFrame(results_list)\n",
        "dataset.set_index('id', inplace=True)\n",
        "\n",
        "del results_list, categories_search_dict, categories_list\n",
        "gc.collect()\n",
        "\n",
        "print('\\nListo')"
      ],
      "execution_count": 5,
      "outputs": [
        {
          "output_type": "stream",
          "text": [
            "\n",
            "Muestreando categorías\n",
            "Categorías seleccionadas\n",
            "MLA1912 :  Otros\n",
            "MLA1228 :  Otros\n",
            "MLA385177 :  Climatización\n",
            "MLA1700 :  Conectividad y Redes\n",
            "MLA7841 :  Series de TV\n",
            "MLA430687 :  Laptops y Accesorios\n",
            "MLA7312 :  Maquinaria Agrícola\n",
            "MLA404419 :  Insumos para Joyería\n",
            "MLA1055 :  Celulares y Smartphones\n",
            "MLA1002 :  TVs\n",
            "Descargando resultados de búsqueda\n",
            "\n",
            "Procesando categoría MLA1912\n",
            "\n",
            "procesando https://api.mercadolibre.com/sites/MLA/search?category=MLA1912&offset=0\n",
            "Total de resultados: 7395\n",
            "Total de llamadas necesarias: 148\n",
            "\n",
            "procesando https://api.mercadolibre.com/sites/MLA/search?category=MLA1912&offset=50\n",
            "procesando https://api.mercadolibre.com/sites/MLA/search?category=MLA1912&offset=100\n",
            "procesando https://api.mercadolibre.com/sites/MLA/search?category=MLA1912&offset=150\n",
            "procesando https://api.mercadolibre.com/sites/MLA/search?category=MLA1912&offset=200\n",
            "procesando https://api.mercadolibre.com/sites/MLA/search?category=MLA1912&offset=250\n",
            "procesando https://api.mercadolibre.com/sites/MLA/search?category=MLA1912&offset=300\n",
            "procesando https://api.mercadolibre.com/sites/MLA/search?category=MLA1912&offset=350\n",
            "procesando https://api.mercadolibre.com/sites/MLA/search?category=MLA1912&offset=400\n",
            "procesando https://api.mercadolibre.com/sites/MLA/search?category=MLA1912&offset=450\n",
            "procesando https://api.mercadolibre.com/sites/MLA/search?category=MLA1912&offset=500\n",
            "procesando https://api.mercadolibre.com/sites/MLA/search?category=MLA1912&offset=550\n",
            "procesando https://api.mercadolibre.com/sites/MLA/search?category=MLA1912&offset=600\n",
            "procesando https://api.mercadolibre.com/sites/MLA/search?category=MLA1912&offset=650\n",
            "procesando https://api.mercadolibre.com/sites/MLA/search?category=MLA1912&offset=700\n",
            "procesando https://api.mercadolibre.com/sites/MLA/search?category=MLA1912&offset=750\n",
            "procesando https://api.mercadolibre.com/sites/MLA/search?category=MLA1912&offset=800\n",
            "procesando https://api.mercadolibre.com/sites/MLA/search?category=MLA1912&offset=850\n",
            "procesando https://api.mercadolibre.com/sites/MLA/search?category=MLA1912&offset=900\n",
            "procesando https://api.mercadolibre.com/sites/MLA/search?category=MLA1912&offset=950\n",
            "procesando https://api.mercadolibre.com/sites/MLA/search?category=MLA1912&offset=1000\n",
            "\n",
            "Procesando categoría MLA1228\n",
            "\n",
            "procesando https://api.mercadolibre.com/sites/MLA/search?category=MLA1228&offset=0\n",
            "Total de resultados: 23410\n",
            "Total de llamadas necesarias: 469\n",
            "\n",
            "procesando https://api.mercadolibre.com/sites/MLA/search?category=MLA1228&offset=50\n",
            "procesando https://api.mercadolibre.com/sites/MLA/search?category=MLA1228&offset=100\n",
            "procesando https://api.mercadolibre.com/sites/MLA/search?category=MLA1228&offset=150\n",
            "procesando https://api.mercadolibre.com/sites/MLA/search?category=MLA1228&offset=200\n",
            "procesando https://api.mercadolibre.com/sites/MLA/search?category=MLA1228&offset=250\n",
            "procesando https://api.mercadolibre.com/sites/MLA/search?category=MLA1228&offset=300\n",
            "procesando https://api.mercadolibre.com/sites/MLA/search?category=MLA1228&offset=350\n",
            "procesando https://api.mercadolibre.com/sites/MLA/search?category=MLA1228&offset=400\n",
            "procesando https://api.mercadolibre.com/sites/MLA/search?category=MLA1228&offset=450\n",
            "procesando https://api.mercadolibre.com/sites/MLA/search?category=MLA1228&offset=500\n",
            "procesando https://api.mercadolibre.com/sites/MLA/search?category=MLA1228&offset=550\n",
            "procesando https://api.mercadolibre.com/sites/MLA/search?category=MLA1228&offset=600\n",
            "procesando https://api.mercadolibre.com/sites/MLA/search?category=MLA1228&offset=650\n",
            "procesando https://api.mercadolibre.com/sites/MLA/search?category=MLA1228&offset=700\n",
            "procesando https://api.mercadolibre.com/sites/MLA/search?category=MLA1228&offset=750\n",
            "procesando https://api.mercadolibre.com/sites/MLA/search?category=MLA1228&offset=800\n",
            "procesando https://api.mercadolibre.com/sites/MLA/search?category=MLA1228&offset=850\n",
            "procesando https://api.mercadolibre.com/sites/MLA/search?category=MLA1228&offset=900\n",
            "procesando https://api.mercadolibre.com/sites/MLA/search?category=MLA1228&offset=950\n",
            "procesando https://api.mercadolibre.com/sites/MLA/search?category=MLA1228&offset=1000\n",
            "\n",
            "Procesando categoría MLA385177\n",
            "\n",
            "procesando https://api.mercadolibre.com/sites/MLA/search?category=MLA385177&offset=0\n",
            "Total de resultados: 73825\n",
            "Total de llamadas necesarias: 1477\n",
            "\n",
            "procesando https://api.mercadolibre.com/sites/MLA/search?category=MLA385177&offset=50\n",
            "procesando https://api.mercadolibre.com/sites/MLA/search?category=MLA385177&offset=100\n",
            "procesando https://api.mercadolibre.com/sites/MLA/search?category=MLA385177&offset=150\n",
            "procesando https://api.mercadolibre.com/sites/MLA/search?category=MLA385177&offset=200\n",
            "procesando https://api.mercadolibre.com/sites/MLA/search?category=MLA385177&offset=250\n",
            "procesando https://api.mercadolibre.com/sites/MLA/search?category=MLA385177&offset=300\n",
            "procesando https://api.mercadolibre.com/sites/MLA/search?category=MLA385177&offset=350\n",
            "procesando https://api.mercadolibre.com/sites/MLA/search?category=MLA385177&offset=400\n",
            "procesando https://api.mercadolibre.com/sites/MLA/search?category=MLA385177&offset=450\n",
            "procesando https://api.mercadolibre.com/sites/MLA/search?category=MLA385177&offset=500\n",
            "procesando https://api.mercadolibre.com/sites/MLA/search?category=MLA385177&offset=550\n",
            "procesando https://api.mercadolibre.com/sites/MLA/search?category=MLA385177&offset=600\n",
            "procesando https://api.mercadolibre.com/sites/MLA/search?category=MLA385177&offset=650\n",
            "procesando https://api.mercadolibre.com/sites/MLA/search?category=MLA385177&offset=700\n",
            "procesando https://api.mercadolibre.com/sites/MLA/search?category=MLA385177&offset=750\n",
            "procesando https://api.mercadolibre.com/sites/MLA/search?category=MLA385177&offset=800\n",
            "procesando https://api.mercadolibre.com/sites/MLA/search?category=MLA385177&offset=850\n",
            "procesando https://api.mercadolibre.com/sites/MLA/search?category=MLA385177&offset=900\n",
            "procesando https://api.mercadolibre.com/sites/MLA/search?category=MLA385177&offset=950\n",
            "procesando https://api.mercadolibre.com/sites/MLA/search?category=MLA385177&offset=1000\n",
            "\n",
            "Procesando categoría MLA1700\n",
            "\n",
            "procesando https://api.mercadolibre.com/sites/MLA/search?category=MLA1700&offset=0\n",
            "Total de resultados: 56927\n",
            "Total de llamadas necesarias: 1139\n",
            "\n",
            "procesando https://api.mercadolibre.com/sites/MLA/search?category=MLA1700&offset=50\n",
            "procesando https://api.mercadolibre.com/sites/MLA/search?category=MLA1700&offset=100\n",
            "procesando https://api.mercadolibre.com/sites/MLA/search?category=MLA1700&offset=150\n",
            "procesando https://api.mercadolibre.com/sites/MLA/search?category=MLA1700&offset=200\n",
            "procesando https://api.mercadolibre.com/sites/MLA/search?category=MLA1700&offset=250\n",
            "procesando https://api.mercadolibre.com/sites/MLA/search?category=MLA1700&offset=300\n",
            "procesando https://api.mercadolibre.com/sites/MLA/search?category=MLA1700&offset=350\n",
            "procesando https://api.mercadolibre.com/sites/MLA/search?category=MLA1700&offset=400\n",
            "procesando https://api.mercadolibre.com/sites/MLA/search?category=MLA1700&offset=450\n",
            "procesando https://api.mercadolibre.com/sites/MLA/search?category=MLA1700&offset=500\n",
            "procesando https://api.mercadolibre.com/sites/MLA/search?category=MLA1700&offset=550\n",
            "procesando https://api.mercadolibre.com/sites/MLA/search?category=MLA1700&offset=600\n",
            "procesando https://api.mercadolibre.com/sites/MLA/search?category=MLA1700&offset=650\n",
            "procesando https://api.mercadolibre.com/sites/MLA/search?category=MLA1700&offset=700\n",
            "procesando https://api.mercadolibre.com/sites/MLA/search?category=MLA1700&offset=750\n",
            "procesando https://api.mercadolibre.com/sites/MLA/search?category=MLA1700&offset=800\n",
            "procesando https://api.mercadolibre.com/sites/MLA/search?category=MLA1700&offset=850\n",
            "procesando https://api.mercadolibre.com/sites/MLA/search?category=MLA1700&offset=900\n",
            "procesando https://api.mercadolibre.com/sites/MLA/search?category=MLA1700&offset=950\n",
            "procesando https://api.mercadolibre.com/sites/MLA/search?category=MLA1700&offset=1000\n",
            "\n",
            "Procesando categoría MLA7841\n",
            "\n",
            "procesando https://api.mercadolibre.com/sites/MLA/search?category=MLA7841&offset=0\n",
            "Total de resultados: 17755\n",
            "Total de llamadas necesarias: 356\n",
            "\n",
            "procesando https://api.mercadolibre.com/sites/MLA/search?category=MLA7841&offset=50\n",
            "procesando https://api.mercadolibre.com/sites/MLA/search?category=MLA7841&offset=100\n",
            "procesando https://api.mercadolibre.com/sites/MLA/search?category=MLA7841&offset=150\n",
            "procesando https://api.mercadolibre.com/sites/MLA/search?category=MLA7841&offset=200\n",
            "procesando https://api.mercadolibre.com/sites/MLA/search?category=MLA7841&offset=250\n",
            "procesando https://api.mercadolibre.com/sites/MLA/search?category=MLA7841&offset=300\n",
            "procesando https://api.mercadolibre.com/sites/MLA/search?category=MLA7841&offset=350\n",
            "procesando https://api.mercadolibre.com/sites/MLA/search?category=MLA7841&offset=400\n",
            "procesando https://api.mercadolibre.com/sites/MLA/search?category=MLA7841&offset=450\n",
            "procesando https://api.mercadolibre.com/sites/MLA/search?category=MLA7841&offset=500\n",
            "procesando https://api.mercadolibre.com/sites/MLA/search?category=MLA7841&offset=550\n",
            "procesando https://api.mercadolibre.com/sites/MLA/search?category=MLA7841&offset=600\n",
            "procesando https://api.mercadolibre.com/sites/MLA/search?category=MLA7841&offset=650\n",
            "procesando https://api.mercadolibre.com/sites/MLA/search?category=MLA7841&offset=700\n",
            "procesando https://api.mercadolibre.com/sites/MLA/search?category=MLA7841&offset=750\n",
            "procesando https://api.mercadolibre.com/sites/MLA/search?category=MLA7841&offset=800\n",
            "procesando https://api.mercadolibre.com/sites/MLA/search?category=MLA7841&offset=850\n",
            "procesando https://api.mercadolibre.com/sites/MLA/search?category=MLA7841&offset=900\n",
            "procesando https://api.mercadolibre.com/sites/MLA/search?category=MLA7841&offset=950\n",
            "procesando https://api.mercadolibre.com/sites/MLA/search?category=MLA7841&offset=1000\n",
            "\n",
            "Procesando categoría MLA430687\n",
            "\n",
            "procesando https://api.mercadolibre.com/sites/MLA/search?category=MLA430687&offset=0\n",
            "Total de resultados: 174231\n",
            "Total de llamadas necesarias: 3485\n",
            "\n",
            "procesando https://api.mercadolibre.com/sites/MLA/search?category=MLA430687&offset=50\n",
            "procesando https://api.mercadolibre.com/sites/MLA/search?category=MLA430687&offset=100\n",
            "procesando https://api.mercadolibre.com/sites/MLA/search?category=MLA430687&offset=150\n",
            "procesando https://api.mercadolibre.com/sites/MLA/search?category=MLA430687&offset=200\n",
            "procesando https://api.mercadolibre.com/sites/MLA/search?category=MLA430687&offset=250\n",
            "procesando https://api.mercadolibre.com/sites/MLA/search?category=MLA430687&offset=300\n",
            "procesando https://api.mercadolibre.com/sites/MLA/search?category=MLA430687&offset=350\n",
            "procesando https://api.mercadolibre.com/sites/MLA/search?category=MLA430687&offset=400\n",
            "procesando https://api.mercadolibre.com/sites/MLA/search?category=MLA430687&offset=450\n",
            "procesando https://api.mercadolibre.com/sites/MLA/search?category=MLA430687&offset=500\n",
            "procesando https://api.mercadolibre.com/sites/MLA/search?category=MLA430687&offset=550\n",
            "procesando https://api.mercadolibre.com/sites/MLA/search?category=MLA430687&offset=600\n",
            "procesando https://api.mercadolibre.com/sites/MLA/search?category=MLA430687&offset=650\n",
            "procesando https://api.mercadolibre.com/sites/MLA/search?category=MLA430687&offset=700\n",
            "procesando https://api.mercadolibre.com/sites/MLA/search?category=MLA430687&offset=750\n",
            "procesando https://api.mercadolibre.com/sites/MLA/search?category=MLA430687&offset=800\n",
            "procesando https://api.mercadolibre.com/sites/MLA/search?category=MLA430687&offset=850\n",
            "procesando https://api.mercadolibre.com/sites/MLA/search?category=MLA430687&offset=900\n",
            "procesando https://api.mercadolibre.com/sites/MLA/search?category=MLA430687&offset=950\n",
            "procesando https://api.mercadolibre.com/sites/MLA/search?category=MLA430687&offset=1000\n",
            "\n",
            "Procesando categoría MLA7312\n",
            "\n",
            "procesando https://api.mercadolibre.com/sites/MLA/search?category=MLA7312&offset=0\n",
            "Total de resultados: 3842\n",
            "Total de llamadas necesarias: 77\n",
            "\n",
            "procesando https://api.mercadolibre.com/sites/MLA/search?category=MLA7312&offset=50\n",
            "procesando https://api.mercadolibre.com/sites/MLA/search?category=MLA7312&offset=100\n",
            "procesando https://api.mercadolibre.com/sites/MLA/search?category=MLA7312&offset=150\n",
            "procesando https://api.mercadolibre.com/sites/MLA/search?category=MLA7312&offset=200\n",
            "procesando https://api.mercadolibre.com/sites/MLA/search?category=MLA7312&offset=250\n",
            "procesando https://api.mercadolibre.com/sites/MLA/search?category=MLA7312&offset=300\n",
            "procesando https://api.mercadolibre.com/sites/MLA/search?category=MLA7312&offset=350\n",
            "procesando https://api.mercadolibre.com/sites/MLA/search?category=MLA7312&offset=400\n",
            "procesando https://api.mercadolibre.com/sites/MLA/search?category=MLA7312&offset=450\n",
            "procesando https://api.mercadolibre.com/sites/MLA/search?category=MLA7312&offset=500\n",
            "procesando https://api.mercadolibre.com/sites/MLA/search?category=MLA7312&offset=550\n",
            "procesando https://api.mercadolibre.com/sites/MLA/search?category=MLA7312&offset=600\n",
            "procesando https://api.mercadolibre.com/sites/MLA/search?category=MLA7312&offset=650\n",
            "procesando https://api.mercadolibre.com/sites/MLA/search?category=MLA7312&offset=700\n",
            "procesando https://api.mercadolibre.com/sites/MLA/search?category=MLA7312&offset=750\n",
            "procesando https://api.mercadolibre.com/sites/MLA/search?category=MLA7312&offset=800\n",
            "procesando https://api.mercadolibre.com/sites/MLA/search?category=MLA7312&offset=850\n",
            "procesando https://api.mercadolibre.com/sites/MLA/search?category=MLA7312&offset=900\n",
            "procesando https://api.mercadolibre.com/sites/MLA/search?category=MLA7312&offset=950\n",
            "procesando https://api.mercadolibre.com/sites/MLA/search?category=MLA7312&offset=1000\n",
            "\n",
            "Procesando categoría MLA404419\n",
            "\n",
            "procesando https://api.mercadolibre.com/sites/MLA/search?category=MLA404419&offset=0\n",
            "Total de resultados: 3957\n",
            "Total de llamadas necesarias: 80\n",
            "\n",
            "procesando https://api.mercadolibre.com/sites/MLA/search?category=MLA404419&offset=50\n",
            "procesando https://api.mercadolibre.com/sites/MLA/search?category=MLA404419&offset=100\n",
            "procesando https://api.mercadolibre.com/sites/MLA/search?category=MLA404419&offset=150\n",
            "procesando https://api.mercadolibre.com/sites/MLA/search?category=MLA404419&offset=200\n",
            "procesando https://api.mercadolibre.com/sites/MLA/search?category=MLA404419&offset=250\n",
            "procesando https://api.mercadolibre.com/sites/MLA/search?category=MLA404419&offset=300\n",
            "procesando https://api.mercadolibre.com/sites/MLA/search?category=MLA404419&offset=350\n",
            "procesando https://api.mercadolibre.com/sites/MLA/search?category=MLA404419&offset=400\n",
            "procesando https://api.mercadolibre.com/sites/MLA/search?category=MLA404419&offset=450\n",
            "procesando https://api.mercadolibre.com/sites/MLA/search?category=MLA404419&offset=500\n",
            "procesando https://api.mercadolibre.com/sites/MLA/search?category=MLA404419&offset=550\n",
            "procesando https://api.mercadolibre.com/sites/MLA/search?category=MLA404419&offset=600\n",
            "procesando https://api.mercadolibre.com/sites/MLA/search?category=MLA404419&offset=650\n",
            "procesando https://api.mercadolibre.com/sites/MLA/search?category=MLA404419&offset=700\n",
            "procesando https://api.mercadolibre.com/sites/MLA/search?category=MLA404419&offset=750\n",
            "procesando https://api.mercadolibre.com/sites/MLA/search?category=MLA404419&offset=800\n",
            "procesando https://api.mercadolibre.com/sites/MLA/search?category=MLA404419&offset=850\n",
            "procesando https://api.mercadolibre.com/sites/MLA/search?category=MLA404419&offset=900\n",
            "procesando https://api.mercadolibre.com/sites/MLA/search?category=MLA404419&offset=950\n",
            "procesando https://api.mercadolibre.com/sites/MLA/search?category=MLA404419&offset=1000\n",
            "\n",
            "Procesando categoría MLA1055\n",
            "\n",
            "procesando https://api.mercadolibre.com/sites/MLA/search?category=MLA1055&offset=0\n",
            "Total de resultados: 57532\n",
            "Total de llamadas necesarias: 1151\n",
            "\n",
            "procesando https://api.mercadolibre.com/sites/MLA/search?category=MLA1055&offset=50\n",
            "procesando https://api.mercadolibre.com/sites/MLA/search?category=MLA1055&offset=100\n",
            "procesando https://api.mercadolibre.com/sites/MLA/search?category=MLA1055&offset=150\n",
            "procesando https://api.mercadolibre.com/sites/MLA/search?category=MLA1055&offset=200\n",
            "procesando https://api.mercadolibre.com/sites/MLA/search?category=MLA1055&offset=250\n",
            "procesando https://api.mercadolibre.com/sites/MLA/search?category=MLA1055&offset=300\n",
            "procesando https://api.mercadolibre.com/sites/MLA/search?category=MLA1055&offset=350\n",
            "procesando https://api.mercadolibre.com/sites/MLA/search?category=MLA1055&offset=400\n",
            "procesando https://api.mercadolibre.com/sites/MLA/search?category=MLA1055&offset=450\n",
            "procesando https://api.mercadolibre.com/sites/MLA/search?category=MLA1055&offset=500\n",
            "procesando https://api.mercadolibre.com/sites/MLA/search?category=MLA1055&offset=550\n",
            "procesando https://api.mercadolibre.com/sites/MLA/search?category=MLA1055&offset=600\n",
            "procesando https://api.mercadolibre.com/sites/MLA/search?category=MLA1055&offset=650\n",
            "procesando https://api.mercadolibre.com/sites/MLA/search?category=MLA1055&offset=700\n",
            "procesando https://api.mercadolibre.com/sites/MLA/search?category=MLA1055&offset=750\n",
            "procesando https://api.mercadolibre.com/sites/MLA/search?category=MLA1055&offset=800\n",
            "procesando https://api.mercadolibre.com/sites/MLA/search?category=MLA1055&offset=850\n",
            "procesando https://api.mercadolibre.com/sites/MLA/search?category=MLA1055&offset=900\n",
            "procesando https://api.mercadolibre.com/sites/MLA/search?category=MLA1055&offset=950\n",
            "procesando https://api.mercadolibre.com/sites/MLA/search?category=MLA1055&offset=1000\n",
            "\n",
            "Procesando categoría MLA1002\n",
            "\n",
            "procesando https://api.mercadolibre.com/sites/MLA/search?category=MLA1002&offset=0\n",
            "Total de resultados: 11491\n",
            "Total de llamadas necesarias: 230\n",
            "\n",
            "procesando https://api.mercadolibre.com/sites/MLA/search?category=MLA1002&offset=50\n",
            "procesando https://api.mercadolibre.com/sites/MLA/search?category=MLA1002&offset=100\n",
            "procesando https://api.mercadolibre.com/sites/MLA/search?category=MLA1002&offset=150\n",
            "procesando https://api.mercadolibre.com/sites/MLA/search?category=MLA1002&offset=200\n",
            "procesando https://api.mercadolibre.com/sites/MLA/search?category=MLA1002&offset=250\n",
            "procesando https://api.mercadolibre.com/sites/MLA/search?category=MLA1002&offset=300\n",
            "procesando https://api.mercadolibre.com/sites/MLA/search?category=MLA1002&offset=350\n",
            "procesando https://api.mercadolibre.com/sites/MLA/search?category=MLA1002&offset=400\n",
            "procesando https://api.mercadolibre.com/sites/MLA/search?category=MLA1002&offset=450\n",
            "procesando https://api.mercadolibre.com/sites/MLA/search?category=MLA1002&offset=500\n",
            "procesando https://api.mercadolibre.com/sites/MLA/search?category=MLA1002&offset=550\n",
            "procesando https://api.mercadolibre.com/sites/MLA/search?category=MLA1002&offset=600\n",
            "procesando https://api.mercadolibre.com/sites/MLA/search?category=MLA1002&offset=650\n",
            "procesando https://api.mercadolibre.com/sites/MLA/search?category=MLA1002&offset=700\n",
            "procesando https://api.mercadolibre.com/sites/MLA/search?category=MLA1002&offset=750\n",
            "procesando https://api.mercadolibre.com/sites/MLA/search?category=MLA1002&offset=800\n",
            "procesando https://api.mercadolibre.com/sites/MLA/search?category=MLA1002&offset=850\n",
            "procesando https://api.mercadolibre.com/sites/MLA/search?category=MLA1002&offset=900\n",
            "procesando https://api.mercadolibre.com/sites/MLA/search?category=MLA1002&offset=950\n",
            "procesando https://api.mercadolibre.com/sites/MLA/search?category=MLA1002&offset=1000\n",
            "\n",
            "\n",
            "Listo\n"
          ],
          "name": "stdout"
        }
      ]
    },
    {
      "cell_type": "markdown",
      "metadata": {
        "id": "AgGvHHMMY_OI"
      },
      "source": [
        "## Un poco de limpieza teniendo en cuenta el análisis preliminar"
      ]
    },
    {
      "cell_type": "code",
      "metadata": {
        "id": "qdvM3zt-Y3qQ"
      },
      "source": [
        "# Reemplazamos cadenas vacías por nan.\n",
        "dataset.replace('', np.nan, inplace=True)\n",
        "\n",
        "# Dropeamos columnas con todos valores vacíos\n",
        "dataset.dropna(axis=1, how='all', inplace=True)\n",
        "\n",
        "# Dropeamos columnas con todos valores constantes\n",
        "dataset = dataset.loc[:, (dataset != dataset.iloc[0]).any()]\n",
        "\n",
        "# Dropeamos las variables asociadas a URL's\n",
        "dataset.drop(['seller_permalink', 'seller_eshop_eshop_logo_url', 'permalink', \n",
        "              'thumbnail', 'seller_car_dealer_logo', 'seller_home_image_url'],\n",
        "             axis=1, inplace=True)\n",
        "\n",
        "# Nos quedamos con las variables que parecieran relevantes para un análisis preliminar.\n",
        "# TODO, revisar las variables de atributos para parsearlas correctamente.\n",
        "dataset = dataset[['seller_registration_date', 'seller_car_dealer', 'seller_eshop_eshop_status_id',\n",
        "                   'seller_seller_reputation_transactions_total', 'seller_seller_reputation_transactions_canceled',\n",
        "                   'seller_seller_reputation_transactions_ratings_negative',\n",
        "                   'seller_seller_reputation_transactions_ratings_positive',\n",
        "                   'seller_seller_reputation_transactions_ratings_neutral',\n",
        "                   'seller_seller_reputation_transactions_completed', 'seller_seller_reputation_power_seller_status',\n",
        "                   'seller_seller_reputation_metrics_claims_rate', 'seller_seller_reputation_metrics_claims_value',\n",
        "                   'seller_seller_reputation_metrics_delayed_handling_time_rate',\n",
        "                   'seller_seller_reputation_metrics_delayed_handling_time_value',\n",
        "                   'seller_seller_reputation_metrics_sales_completed',\n",
        "                   'seller_seller_reputation_metrics_cancellations_rate',\n",
        "                   'seller_seller_reputation_metrics_cancellations_value', 'seller_seller_reputation_level_id', 'price',\n",
        "                   'currency_id', 'available_quantity', 'sold_quantity', 'buying_mode', 'listing_type_id', 'condition',\n",
        "                   'installments_quantity', 'installments_amount', 'installments_rate', 'shipping_free_shipping',\n",
        "                   'shipping_mode', 'seller_address_state_name', 'original_price', 'official_store_id', 'domain_id',\n",
        "                   'category_name', 'seller_seller_reputation_metrics_claims_excluded_real_rate',\n",
        "                   'seller_seller_reputation_metrics_claims_excluded_real_value',\n",
        "                   'seller_seller_reputation_metrics_delayed_handling_time_excluded_real_rate',\n",
        "                   'seller_seller_reputation_metrics_delayed_handling_time_excluded_real_value',\n",
        "                   'seller_seller_reputation_metrics_cancellations_excluded_real_rate',\n",
        "                   'seller_seller_reputation_metrics_cancellations_excluded_real_value',\n",
        "                   'seller_seller_reputation_real_level', 'seller_eshop_eshop_rubro_name']]\n",
        "\n",
        "# Antigüedad del vendedor\n",
        "dataset['seller_registration_date'] = pd.to_datetime(dataset['seller_registration_date']).dt.tz_localize(None).dt.normalize()\n",
        "dataset['seller_year_aprox'] = round((pd.to_datetime('now').normalize() - dataset['seller_registration_date']).dt.days.fillna(0) / 360).astype('int32')\n",
        "\n",
        "# Marca de tienda oficial?\n",
        "dataset['flag_official_store'] = np.where(dataset['official_store_id'].fillna(0) == 0, 'No', 'Si')\n",
        "\n",
        "# Borramos lo que ya no sirve\n",
        "dataset.drop(['seller_registration_date', 'official_store_id'], axis=1, inplace=True)\n",
        "\n",
        "# Borramos índices duplicados\n",
        "dataset = dataset[~dataset.index.duplicated(keep='first')]"
      ],
      "execution_count": 6,
      "outputs": []
    },
    {
      "cell_type": "markdown",
      "metadata": {
        "id": "MqbLvXPBcZpL"
      },
      "source": [
        "## Separamos el target"
      ]
    },
    {
      "cell_type": "code",
      "metadata": {
        "id": "ygQvVl18bW9k",
        "outputId": "f662d9fc-2d4b-400e-a1c5-da5e5755a568",
        "colab": {
          "base_uri": "https://localhost:8080/"
        }
      },
      "source": [
        "data = dataset.loc[:, dataset.columns != 'sold_quantity'].copy()\n",
        "target = dataset.loc[:, dataset.columns == 'sold_quantity'].rename(columns={'sold_quantity': 'target'}).copy()\n",
        "print('Forma data: {}'.format(data.shape))\n",
        "print('Forma target: {}'.format(target.shape))"
      ],
      "execution_count": 7,
      "outputs": [
        {
          "output_type": "stream",
          "text": [
            "Forma data: (10436, 42)\n",
            "Forma target: (10436, 1)\n"
          ],
          "name": "stdout"
        }
      ]
    },
    {
      "cell_type": "markdown",
      "metadata": {
        "id": "elEkkF2JgWu8"
      },
      "source": [
        "## Removemos variables correlacionadas"
      ]
    },
    {
      "cell_type": "code",
      "metadata": {
        "id": "ZZs2zN9odVl_",
        "outputId": "94093923-b144-419b-9a26-7101a49afcac",
        "colab": {
          "base_uri": "https://localhost:8080/"
        }
      },
      "source": [
        "# Matriz de correlaciones\n",
        "print('Forma antes: {}'.format(data.shape))\n",
        "data_corr = data.select_dtypes(include=['number']).fillna(0).corr().abs()\n",
        "upper = data_corr.where(np.triu(np.ones(data_corr.shape), k=1).astype(np.bool))\n",
        "to_drop = [column for column in upper.columns if any(upper[column] > 0.75)]\n",
        "data.drop(data[to_drop], axis=1, inplace=True)\n",
        "print('Forma luego: {}'.format(data.shape))"
      ],
      "execution_count": 8,
      "outputs": [
        {
          "output_type": "stream",
          "text": [
            "Forma antes: (10436, 42)\n",
            "Forma luego: (10436, 35)\n"
          ],
          "name": "stdout"
        }
      ]
    },
    {
      "cell_type": "markdown",
      "metadata": {
        "id": "jgayki15h4qU"
      },
      "source": [
        "## Codificamos variables categóricas"
      ]
    },
    {
      "cell_type": "code",
      "metadata": {
        "id": "8kZaddF9iAQz",
        "outputId": "9211dda4-3ad1-4999-d126-84145be46572",
        "colab": {
          "base_uri": "https://localhost:8080/"
        }
      },
      "source": [
        "print('Forma antes: {}'.format(data.shape))\n",
        "data_cat = data.select_dtypes(exclude=['number'])\n",
        "to_drop = data_cat.columns.to_list()\n",
        "enc = OneHotEncoder(handle_unknown=\"ignore\", sparse=False)\n",
        "data_cat = pd.DataFrame(enc.fit_transform(data_cat.fillna('None')), columns=enc.get_feature_names(), index=data_cat.index)\n",
        "data.drop(data[to_drop], axis=1, inplace=True)\n",
        "data = data.merge(data_cat, left_index=True, right_index=True)\n",
        "print('Forma luego: {}'.format(data.shape))"
      ],
      "execution_count": 9,
      "outputs": [
        {
          "output_type": "stream",
          "text": [
            "Forma antes: (10436, 35)\n",
            "Forma luego: (10436, 179)\n"
          ],
          "name": "stdout"
        }
      ]
    },
    {
      "cell_type": "markdown",
      "metadata": {
        "id": "KSxFA20g6a8d"
      },
      "source": [
        "## Separamos en train y test"
      ]
    },
    {
      "cell_type": "code",
      "metadata": {
        "id": "f3XatzGH6bYV"
      },
      "source": [
        "train_data, test_data, train_target, test_target = train_test_split(data, target, test_size=TEST_SIZE, random_state=SEED)"
      ],
      "execution_count": 10,
      "outputs": []
    },
    {
      "cell_type": "markdown",
      "metadata": {
        "id": "l0n1Aflo7Jsf"
      },
      "source": [
        "## Modelo de test con Regresión"
      ]
    },
    {
      "cell_type": "code",
      "metadata": {
        "id": "eQ_Ug5m97NTX",
        "outputId": "f290b4bf-a33a-4fc6-f430-4fbc8f9b148c",
        "colab": {
          "base_uri": "https://localhost:8080/"
        }
      },
      "source": [
        "print('Entrenando...\\n')\n",
        "\n",
        "fi = []\n",
        "val_probs = []\n",
        "test_probs = []\n",
        "i = 0\n",
        "\n",
        "for train_index, valid_index in KFold(n_splits=K_FOLD, shuffle=True, random_state=SEED).split(train_data, train_target):\n",
        "    i += 1\n",
        "    train_data_fold = train_data.iloc[train_index]\n",
        "    train_target_fold = train_target.loc[train_data.index].iloc[train_index]\n",
        "\n",
        "    val_data_fold = train_data.iloc[valid_index]\n",
        "    val_target_fold = train_target.loc[train_data.index].iloc[valid_index]\n",
        "\n",
        "    learner = LGBMRegressor(n_estimators=10000, random_state=SEED)\n",
        "    learner.fit(train_data_fold, train_target_fold, early_stopping_rounds=200, eval_metric=\"mae\",\n",
        "                eval_set=[(train_data_fold, train_target_fold), (val_data_fold, val_target_fold)],\n",
        "                verbose=50)\n",
        "\n",
        "    val_probs.append(pd.Series(learner.predict(val_data_fold), index=val_data_fold.index, name=\"fold_\" + str(i)))\n",
        "    test_probs.append(pd.Series(learner.predict(test_data), index=test_data.index,\n",
        "                                name=\"fold_\" + str(i)))\n",
        "    fi.append(pd.Series(learner.feature_importances_ /\n",
        "                        learner.feature_importances_.sum(), index=train_data_fold.columns))\n",
        "\n",
        "test_probs = pd.concat(test_probs, axis=1).mean(axis=1)\n",
        "fi = pd.concat(fi, axis=1).mean(axis=1).sort_values(ascending=False)\n",
        "\n",
        "print('\\nListo!')"
      ],
      "execution_count": 11,
      "outputs": [
        {
          "output_type": "stream",
          "text": [
            "Entrenando...\n",
            "\n",
            "Training until validation scores don't improve for 200 rounds.\n",
            "[50]\ttraining's l2: 23450.6\ttraining's l1: 38.2615\tvalid_1's l2: 20246.5\tvalid_1's l1: 45.0887\n",
            "[100]\ttraining's l2: 16988.2\ttraining's l1: 35.1575\tvalid_1's l2: 16035.8\tvalid_1's l1: 44.5117\n",
            "[150]\ttraining's l2: 13192.1\ttraining's l1: 33.1335\tvalid_1's l2: 14276\tvalid_1's l1: 45.561\n",
            "[200]\ttraining's l2: 10647\ttraining's l1: 31.4343\tvalid_1's l2: 13962.6\tvalid_1's l1: 45.9781\n",
            "[250]\ttraining's l2: 8677.34\ttraining's l1: 29.8329\tvalid_1's l2: 14019.2\tvalid_1's l1: 46.1835\n",
            "Early stopping, best iteration is:\n",
            "[84]\ttraining's l2: 18751\ttraining's l1: 36.2454\tvalid_1's l2: 16910.4\tvalid_1's l1: 44.4122\n",
            "Training until validation scores don't improve for 200 rounds.\n",
            "[50]\ttraining's l2: 24134.4\ttraining's l1: 38.5893\tvalid_1's l2: 9380.93\tvalid_1's l1: 41.3774\n",
            "[100]\ttraining's l2: 17535\ttraining's l1: 35.6358\tvalid_1's l2: 10511.9\tvalid_1's l1: 44.1586\n",
            "[150]\ttraining's l2: 13237.3\ttraining's l1: 33.2636\tvalid_1's l2: 10872.6\tvalid_1's l1: 45.544\n",
            "[200]\ttraining's l2: 10581.7\ttraining's l1: 31.3724\tvalid_1's l2: 11014.6\tvalid_1's l1: 46.1701\n",
            "Early stopping, best iteration is:\n",
            "[12]\ttraining's l2: 35029.3\ttraining's l1: 48.7491\tvalid_1's l2: 7027.49\tvalid_1's l1: 44.4383\n",
            "Training until validation scores don't improve for 200 rounds.\n",
            "[50]\ttraining's l2: 23526.3\ttraining's l1: 38.3999\tvalid_1's l2: 18053\tvalid_1's l1: 40.5963\n",
            "[100]\ttraining's l2: 16793.8\ttraining's l1: 35.3658\tvalid_1's l2: 15590.3\tvalid_1's l1: 42.064\n",
            "[150]\ttraining's l2: 12616.8\ttraining's l1: 33.2649\tvalid_1's l2: 15684.3\tvalid_1's l1: 43.0987\n",
            "[200]\ttraining's l2: 9988.33\ttraining's l1: 31.4315\tvalid_1's l2: 17682.7\tvalid_1's l1: 44.2584\n",
            "[250]\ttraining's l2: 8117.28\ttraining's l1: 29.7854\tvalid_1's l2: 19298.5\tvalid_1's l1: 45.0411\n",
            "Early stopping, best iteration is:\n",
            "[50]\ttraining's l2: 23526.3\ttraining's l1: 38.3999\tvalid_1's l2: 18053\tvalid_1's l1: 40.5963\n",
            "Training until validation scores don't improve for 200 rounds.\n",
            "[50]\ttraining's l2: 22374.1\ttraining's l1: 37.1005\tvalid_1's l2: 37423\tvalid_1's l1: 45.6147\n",
            "[100]\ttraining's l2: 16508.4\ttraining's l1: 34.3051\tvalid_1's l2: 38498.1\tvalid_1's l1: 47.5444\n",
            "[150]\ttraining's l2: 12465.7\ttraining's l1: 32.1717\tvalid_1's l2: 38871.9\tvalid_1's l1: 48.3895\n",
            "[200]\ttraining's l2: 10040.6\ttraining's l1: 30.2957\tvalid_1's l2: 38649.6\tvalid_1's l1: 48.9216\n",
            "Early stopping, best iteration is:\n",
            "[37]\ttraining's l2: 24640.9\ttraining's l1: 38.518\tvalid_1's l2: 37391.2\tvalid_1's l1: 45.2845\n",
            "Training until validation scores don't improve for 200 rounds.\n",
            "[50]\ttraining's l2: 22296\ttraining's l1: 38.1225\tvalid_1's l2: 36843.8\tvalid_1's l1: 45.2483\n",
            "[100]\ttraining's l2: 15909.7\ttraining's l1: 35.1577\tvalid_1's l2: 41324.4\tvalid_1's l1: 46.64\n",
            "[150]\ttraining's l2: 12023.7\ttraining's l1: 32.6008\tvalid_1's l2: 43610\tvalid_1's l1: 47.5668\n",
            "[200]\ttraining's l2: 9803.94\ttraining's l1: 30.729\tvalid_1's l2: 44310.7\tvalid_1's l1: 47.7943\n",
            "Early stopping, best iteration is:\n",
            "[12]\ttraining's l2: 32680\ttraining's l1: 48.5492\tvalid_1's l2: 34117.9\tvalid_1's l1: 49.5647\n",
            "Training until validation scores don't improve for 200 rounds.\n",
            "[50]\ttraining's l2: 23371\ttraining's l1: 38.3923\tvalid_1's l2: 29700.2\tvalid_1's l1: 43.2864\n",
            "[100]\ttraining's l2: 16242.9\ttraining's l1: 35.252\tvalid_1's l2: 32222.1\tvalid_1's l1: 45.6967\n",
            "[150]\ttraining's l2: 12239.8\ttraining's l1: 32.7687\tvalid_1's l2: 33079.8\tvalid_1's l1: 46.4281\n",
            "[200]\ttraining's l2: 9715.35\ttraining's l1: 30.7776\tvalid_1's l2: 34148.2\tvalid_1's l1: 46.6996\n",
            "Early stopping, best iteration is:\n",
            "[15]\ttraining's l2: 32181.9\ttraining's l1: 46.4159\tvalid_1's l2: 28244.7\tvalid_1's l1: 46.6215\n",
            "Training until validation scores don't improve for 200 rounds.\n",
            "[50]\ttraining's l2: 21905.5\ttraining's l1: 37.8341\tvalid_1's l2: 36491.4\tvalid_1's l1: 46.98\n",
            "[100]\ttraining's l2: 15609.8\ttraining's l1: 34.7353\tvalid_1's l2: 37162.5\tvalid_1's l1: 47.554\n",
            "[150]\ttraining's l2: 11897.4\ttraining's l1: 32.4241\tvalid_1's l2: 36838.5\tvalid_1's l1: 48.1835\n",
            "[200]\ttraining's l2: 9520.87\ttraining's l1: 30.6158\tvalid_1's l2: 36882.1\tvalid_1's l1: 48.4422\n",
            "Early stopping, best iteration is:\n",
            "[13]\ttraining's l2: 31814.8\ttraining's l1: 47.1834\tvalid_1's l2: 34070.5\tvalid_1's l1: 49.8724\n",
            "Training until validation scores don't improve for 200 rounds.\n",
            "[50]\ttraining's l2: 21113\ttraining's l1: 36.8236\tvalid_1's l2: 60592.5\tvalid_1's l1: 53.0576\n",
            "[100]\ttraining's l2: 14844.8\ttraining's l1: 33.9248\tvalid_1's l2: 60526.1\tvalid_1's l1: 52.9371\n",
            "[150]\ttraining's l2: 10956.2\ttraining's l1: 31.7067\tvalid_1's l2: 60478.1\tvalid_1's l1: 53.0174\n",
            "[200]\ttraining's l2: 8705.43\ttraining's l1: 29.6659\tvalid_1's l2: 60655.4\tvalid_1's l1: 52.8229\n",
            "[250]\ttraining's l2: 7143.97\ttraining's l1: 28.1488\tvalid_1's l2: 60912.3\tvalid_1's l1: 53.0939\n",
            "Early stopping, best iteration is:\n",
            "[80]\ttraining's l2: 16863.6\ttraining's l1: 34.9999\tvalid_1's l2: 60217.8\tvalid_1's l1: 52.6234\n",
            "Training until validation scores don't improve for 200 rounds.\n",
            "[50]\ttraining's l2: 19593.2\ttraining's l1: 36.2077\tvalid_1's l2: 73524.5\tvalid_1's l1: 54.1774\n",
            "[100]\ttraining's l2: 14138.5\ttraining's l1: 33.6034\tvalid_1's l2: 73340.7\tvalid_1's l1: 54.8126\n",
            "[150]\ttraining's l2: 10816\ttraining's l1: 31.2368\tvalid_1's l2: 74756.1\tvalid_1's l1: 55.7138\n",
            "[200]\ttraining's l2: 8775.2\ttraining's l1: 29.3878\tvalid_1's l2: 76234.9\tvalid_1's l1: 56.5514\n",
            "Early stopping, best iteration is:\n",
            "[44]\ttraining's l2: 20575.6\ttraining's l1: 36.7991\tvalid_1's l2: 73621.2\tvalid_1's l1: 53.9091\n",
            "Training until validation scores don't improve for 200 rounds.\n",
            "[50]\ttraining's l2: 22541.7\ttraining's l1: 37.9647\tvalid_1's l2: 35271.5\tvalid_1's l1: 45.5206\n",
            "[100]\ttraining's l2: 16181\ttraining's l1: 35.0321\tvalid_1's l2: 32675.4\tvalid_1's l1: 45.3263\n",
            "[150]\ttraining's l2: 12638.1\ttraining's l1: 33.1474\tvalid_1's l2: 31187.5\tvalid_1's l1: 45.9578\n",
            "[200]\ttraining's l2: 10273.4\ttraining's l1: 31.4292\tvalid_1's l2: 29461.6\tvalid_1's l1: 45.9257\n",
            "Early stopping, best iteration is:\n",
            "[44]\ttraining's l2: 23516.3\ttraining's l1: 38.5045\tvalid_1's l2: 35230.7\tvalid_1's l1: 44.9832\n",
            "\n",
            "Listo!\n"
          ],
          "name": "stdout"
        }
      ]
    },
    {
      "cell_type": "code",
      "metadata": {
        "id": "zLP6v37CAH9x",
        "outputId": "e47ef799-1345-4870-d23e-cfb590dc7c77",
        "colab": {
          "base_uri": "https://localhost:8080/"
        }
      },
      "source": [
        "print(\"Performance del modelo\")\n",
        "print(\"--------------------------------------\")\n",
        "print('MAE {}'.format(mean_absolute_error(test_target, test_probs)))\n",
        "print('MSE {}'.format(mean_squared_error(test_target, test_probs)))\n",
        "print('RMSE {}'.format(mean_squared_error(test_target, test_probs, squared=False)))"
      ],
      "execution_count": 12,
      "outputs": [
        {
          "output_type": "stream",
          "text": [
            "Performance del modelo\n",
            "--------------------------------------\n",
            "MAE 51.5247394948012\n",
            "MSE 51910.031436579855\n",
            "RMSE 227.83773049383163\n"
          ],
          "name": "stdout"
        }
      ]
    },
    {
      "cell_type": "markdown",
      "metadata": {
        "id": "rRiJJI_MXYwQ"
      },
      "source": [
        "## Importancia de variables"
      ]
    },
    {
      "cell_type": "code",
      "metadata": {
        "id": "3khQTlP-XbF-",
        "outputId": "fc450e1e-a228-42e6-ad4c-59471f44d9c0",
        "colab": {
          "base_uri": "https://localhost:8080/",
          "height": 698
        }
      },
      "source": [
        "sns.barplot(x=fi.head(10), y=fi.head(10).index, orient='h')\n",
        "#Add chart labels\n",
        "plt.title('Importancia de variables')\n",
        "plt.xlabel('Importancia')\n",
        "plt.ylabel('Variables')"
      ],
      "execution_count": 13,
      "outputs": [
        {
          "output_type": "execute_result",
          "data": {
            "text/plain": [
              "Text(0, 0.5, 'Variables')"
            ]
          },
          "metadata": {
            "tags": []
          },
          "execution_count": 13
        },
        {
          "output_type": "display_data",
          "data": {
            "image/png": "[encoded data removed]",
            "text/plain": [
              "<Figure size 1728x864 with 1 Axes>"
            ]
          },
          "metadata": {
            "tags": []
          }
        }
      ]
    },
    {
      "cell_type": "markdown",
      "metadata": {
        "id": "6_2Pph5XNy1_"
      },
      "source": [
        "## Modelo de test con clasificación binaria"
      ]
    },
    {
      "cell_type": "code",
      "metadata": {
        "id": "aOrH_R7oN2xl",
        "outputId": "83e2fcd2-77d5-473f-a5a0-1aa88a38770d",
        "colab": {
          "base_uri": "https://localhost:8080/"
        }
      },
      "source": [
        "target_bi = pd.Series(np.where(target['target'] > 0, 'Vende', 'No vende'), index=target.index)\n",
        "print('distribución de clases: \\n{}'.format(target_bi.value_counts()))\n",
        "\n",
        "# codificamos el target\n",
        "le = LabelEncoder()\n",
        "target_bi = le.fit_transform(target_bi)\n",
        "num_clase = le.classes_"
      ],
      "execution_count": 14,
      "outputs": [
        {
          "output_type": "stream",
          "text": [
            "distribución de clases: \n",
            "Vende       7543\n",
            "No vende    2893\n",
            "dtype: int64\n"
          ],
          "name": "stdout"
        }
      ]
    },
    {
      "cell_type": "markdown",
      "metadata": {
        "id": "96eFyw2xjvcO"
      },
      "source": [
        "## Separamos en train y test"
      ]
    },
    {
      "cell_type": "code",
      "metadata": {
        "id": "PuQZ3697h39_"
      },
      "source": [
        "train_data, test_data, train_target, test_target = train_test_split(data, target_bi, test_size=TEST_SIZE,\n",
        "                                                                    random_state=SEED, stratify=target_bi)"
      ],
      "execution_count": 15,
      "outputs": []
    },
    {
      "cell_type": "code",
      "metadata": {
        "id": "zpvLci2Dhopw",
        "outputId": "663cc8bf-a325-47e8-b9d9-58d83bc61564",
        "colab": {
          "base_uri": "https://localhost:8080/"
        }
      },
      "source": [
        "fi = []\n",
        "val_probs = []\n",
        "test_probs = []\n",
        "i = 0\n",
        "\n",
        "for train_index, valid_index in StratifiedKFold(n_splits=K_FOLD, shuffle=True, random_state=SEED).split(train_data,\n",
        "                                                                                                        train_target):\n",
        "    i += 1\n",
        "    train_data_fold = train_data.iloc[train_index]\n",
        "    train_target_fold = train_target[train_index]\n",
        "\n",
        "    val_data_fold = train_data.iloc[valid_index]\n",
        "    val_target_fold = train_target[valid_index]\n",
        "\n",
        "    learner = LGBMClassifier(n_estimators=10000, random_state=SEED, objective='binary')\n",
        "    learner.fit(train_data_fold, train_target_fold, early_stopping_rounds=50, eval_metric=\"auc\",\n",
        "                eval_set=[(train_data_fold, train_target_fold), (val_data_fold, val_target_fold)],\n",
        "                verbose=50)\n",
        "\n",
        "    val_probs.append(pd.Series(learner.predict_proba(val_data_fold)[:, -1], name=\"fold_\" + str(i)))\n",
        "    test_probs.append(pd.Series(learner.predict_proba(test_data)[:, -1], index=test_data.index,\n",
        "                                name=\"fold_\" + str(i)))\n",
        "    fi.append(pd.Series(learner.feature_importances_ /\n",
        "                        learner.feature_importances_.sum(), index=train_data_fold.columns))\n",
        "\n",
        "test_probs = pd.concat(test_probs, axis=1).mean(axis=1)\n",
        "fi = pd.concat(fi, axis=1).mean(axis=1).sort_values(ascending=False)"
      ],
      "execution_count": 16,
      "outputs": [
        {
          "output_type": "stream",
          "text": [
            "Training until validation scores don't improve for 50 rounds.\n",
            "[50]\ttraining's binary_logloss: 0.0762985\ttraining's auc: 0.99635\tvalid_1's binary_logloss: 0.106088\tvalid_1's auc: 0.991379\n",
            "[100]\ttraining's binary_logloss: 0.0468458\ttraining's auc: 0.999072\tvalid_1's binary_logloss: 0.102175\tvalid_1's auc: 0.991797\n",
            "[150]\ttraining's binary_logloss: 0.0320355\ttraining's auc: 0.999678\tvalid_1's binary_logloss: 0.10514\tvalid_1's auc: 0.991808\n",
            "Early stopping, best iteration is:\n",
            "[105]\ttraining's binary_logloss: 0.0453138\ttraining's auc: 0.999159\tvalid_1's binary_logloss: 0.101913\tvalid_1's auc: 0.991998\n",
            "Training until validation scores don't improve for 50 rounds.\n",
            "[50]\ttraining's binary_logloss: 0.0737197\ttraining's auc: 0.996492\tvalid_1's binary_logloss: 0.137885\tvalid_1's auc: 0.982419\n",
            "Early stopping, best iteration is:\n",
            "[38]\ttraining's binary_logloss: 0.0887871\ttraining's auc: 0.994812\tvalid_1's binary_logloss: 0.140278\tvalid_1's auc: 0.982737\n",
            "Training until validation scores don't improve for 50 rounds.\n",
            "[50]\ttraining's binary_logloss: 0.0742877\ttraining's auc: 0.996834\tvalid_1's binary_logloss: 0.115967\tvalid_1's auc: 0.984142\n",
            "Early stopping, best iteration is:\n",
            "[47]\ttraining's binary_logloss: 0.0776345\ttraining's auc: 0.9965\tvalid_1's binary_logloss: 0.116675\tvalid_1's auc: 0.984242\n",
            "Training until validation scores don't improve for 50 rounds.\n",
            "[50]\ttraining's binary_logloss: 0.0752383\ttraining's auc: 0.996485\tvalid_1's binary_logloss: 0.115037\tvalid_1's auc: 0.987898\n",
            "Early stopping, best iteration is:\n",
            "[36]\ttraining's binary_logloss: 0.0929003\ttraining's auc: 0.994369\tvalid_1's binary_logloss: 0.11989\tvalid_1's auc: 0.989053\n",
            "Training until validation scores don't improve for 50 rounds.\n",
            "[50]\ttraining's binary_logloss: 0.0743578\ttraining's auc: 0.996536\tvalid_1's binary_logloss: 0.131562\tvalid_1's auc: 0.984956\n",
            "Early stopping, best iteration is:\n",
            "[45]\ttraining's binary_logloss: 0.0800043\ttraining's auc: 0.995642\tvalid_1's binary_logloss: 0.131726\tvalid_1's auc: 0.985451\n",
            "Training until validation scores don't improve for 50 rounds.\n",
            "[50]\ttraining's binary_logloss: 0.0733209\ttraining's auc: 0.996741\tvalid_1's binary_logloss: 0.128711\tvalid_1's auc: 0.986909\n",
            "[100]\ttraining's binary_logloss: 0.0454736\ttraining's auc: 0.99912\tvalid_1's binary_logloss: 0.13584\tvalid_1's auc: 0.986063\n",
            "Early stopping, best iteration is:\n",
            "[52]\ttraining's binary_logloss: 0.0713713\ttraining's auc: 0.996911\tvalid_1's binary_logloss: 0.128135\tvalid_1's auc: 0.986952\n",
            "Training until validation scores don't improve for 50 rounds.\n",
            "[50]\ttraining's binary_logloss: 0.0727846\ttraining's auc: 0.996905\tvalid_1's binary_logloss: 0.144147\tvalid_1's auc: 0.983476\n",
            "Early stopping, best iteration is:\n",
            "[43]\ttraining's binary_logloss: 0.0800245\ttraining's auc: 0.995998\tvalid_1's binary_logloss: 0.145909\tvalid_1's auc: 0.983634\n",
            "Training until validation scores don't improve for 50 rounds.\n",
            "[50]\ttraining's binary_logloss: 0.0745767\ttraining's auc: 0.996494\tvalid_1's binary_logloss: 0.114962\tvalid_1's auc: 0.987812\n",
            "Early stopping, best iteration is:\n",
            "[24]\ttraining's binary_logloss: 0.124296\ttraining's auc: 0.991197\tvalid_1's binary_logloss: 0.134553\tvalid_1's auc: 0.98959\n",
            "Training until validation scores don't improve for 50 rounds.\n",
            "[50]\ttraining's binary_logloss: 0.0768225\ttraining's auc: 0.99656\tvalid_1's binary_logloss: 0.0935569\tvalid_1's auc: 0.992074\n",
            "[100]\ttraining's binary_logloss: 0.046759\ttraining's auc: 0.99911\tvalid_1's binary_logloss: 0.0892672\tvalid_1's auc: 0.993029\n",
            "Early stopping, best iteration is:\n",
            "[80]\ttraining's binary_logloss: 0.0558116\ttraining's auc: 0.998478\tvalid_1's binary_logloss: 0.0887117\tvalid_1's auc: 0.993008\n",
            "Training until validation scores don't improve for 50 rounds.\n",
            "[50]\ttraining's binary_logloss: 0.0739982\ttraining's auc: 0.996659\tvalid_1's binary_logloss: 0.124163\tvalid_1's auc: 0.981765\n",
            "Early stopping, best iteration is:\n",
            "[48]\ttraining's binary_logloss: 0.0759231\ttraining's auc: 0.996457\tvalid_1's binary_logloss: 0.123483\tvalid_1's auc: 0.981912\n"
          ],
          "name": "stdout"
        }
      ]
    },
    {
      "cell_type": "code",
      "metadata": {
        "id": "8gOxDRCHifEu",
        "outputId": "5919f7c1-5415-4e3b-d2ec-6d004ad1cf8e",
        "colab": {
          "base_uri": "https://localhost:8080/"
        }
      },
      "source": [
        "def find_optimal_cutoff(true_label, prediction):\n",
        "    \"\"\"Encuentra la probabilidad de corte óptima para un problema de clasificación binaria basandose en la curva ROC\"\"\"\n",
        "    fpr, tpr, thresh = roc_curve(true_label, prediction)\n",
        "    idx = np.arange(len(tpr))\n",
        "    roc = pd.DataFrame({'tf': pd.Series(tpr-(1-fpr), index=idx), 'threshold': pd.Series(thresh, index=idx)})\n",
        "    roc_t = roc.iloc[(roc.tf-0).abs().argsort()[:1]]\n",
        "    return list(roc_t['threshold'])\n",
        "\n",
        "print(\"Performance del modelo\")\n",
        "print(\"--------------------------------------\")\n",
        "# predicción del resultado\n",
        "threshold = find_optimal_cutoff(test_target, test_probs)\n",
        "pred_target = pd.Series(np.where(test_probs > threshold[0], 1, 0), index=test_probs.index)\n",
        "conf_mat = pd.DataFrame(confusion_matrix(test_target, pred_target), columns=num_clase, index=num_clase)\n",
        "print(\"\\nProbabilidad de corte: {}\".format(threshold[0]))\n",
        "print(\"\\nMatriz de Confusión (filas=real, columnas=prediccion)\")\n",
        "print(conf_mat)\n",
        "print(\"\\nReporte de Clasificación\")\n",
        "print(classification_report(test_target, pred_target, target_names=num_clase))\n",
        "print(\"\\nAccuracy_score: {}\".format(accuracy_score(test_target, pred_target)))\n",
        "print(\"\\nROC_auc_score: {}\\n\".format(roc_auc_score(test_target, test_probs)))"
      ],
      "execution_count": 17,
      "outputs": [
        {
          "output_type": "stream",
          "text": [
            "Performance del modelo\n",
            "--------------------------------------\n",
            "\n",
            "Probabilidad de corte: 0.7710749415086572\n",
            "\n",
            "Matriz de Confusión (filas=real, columnas=prediccion)\n",
            "          No vende  Vende\n",
            "No vende       556     23\n",
            "Vende           63   1446\n",
            "\n",
            "Reporte de Clasificación\n",
            "              precision    recall  f1-score   support\n",
            "\n",
            "    No vende       0.90      0.96      0.93       579\n",
            "       Vende       0.98      0.96      0.97      1509\n",
            "\n",
            "    accuracy                           0.96      2088\n",
            "   macro avg       0.94      0.96      0.95      2088\n",
            "weighted avg       0.96      0.96      0.96      2088\n",
            "\n",
            "\n",
            "Accuracy_score: 0.9588122605363985\n",
            "\n",
            "ROC_auc_score: 0.9907881439057078\n",
            "\n"
          ],
          "name": "stdout"
        }
      ]
    },
    {
      "cell_type": "code",
      "metadata": {
        "id": "Ia6XipIRaeiM",
        "outputId": "c117c2dd-46a1-451a-dbbe-705089531082",
        "colab": {
          "base_uri": "https://localhost:8080/",
          "height": 698
        }
      },
      "source": [
        "sns.barplot(x=fi.head(10), y=fi.head(10).index, orient='h')\n",
        "#Add chart labels\n",
        "plt.title('Importancia de variables')\n",
        "plt.xlabel('Importancia')\n",
        "plt.ylabel('Variables')"
      ],
      "execution_count": 18,
      "outputs": [
        {
          "output_type": "execute_result",
          "data": {
            "text/plain": [
              "Text(0, 0.5, 'Variables')"
            ]
          },
          "metadata": {
            "tags": []
          },
          "execution_count": 18
        },
        {
          "output_type": "display_data",
          "data": {
            "image/png": "[encoded data removed]",
            "text/plain": [
              "<Figure size 1728x864 with 1 Axes>"
            ]
          },
          "metadata": {
            "tags": []
          }
        }
      ]
    },
    {
      "cell_type": "markdown",
      "metadata": {
        "id": "Tf7efwjphPiv"
      },
      "source": [
        "## Modelo de test con clasificación multiclase"
      ]
    },
    {
      "cell_type": "code",
      "metadata": {
        "id": "xcv5ZjXChS1B",
        "outputId": "3d821d98-f9e3-4702-c709-350667fab229",
        "colab": {
          "base_uri": "https://localhost:8080/"
        }
      },
      "source": [
        "target_multi = pd.Series(np.select(\n",
        "    [\n",
        "        target['target'] == 0, \n",
        "        target['target'].between(1, 5, inclusive=True),\n",
        "        target['target'].between(6, 25, inclusive=True),\n",
        "        target['target'].between(26, 50, inclusive=True),\n",
        "        target['target'].between(51, 100, inclusive=True),\n",
        "        target['target'].between(101, 250, inclusive=True),     \n",
        "    ], \n",
        "    [\n",
        "        '0', \n",
        "        '1-5', \n",
        "        '6-25',\n",
        "        '26-50',\n",
        "        '51-100',\n",
        "        '101-250',\n",
        "    ], \n",
        "    default='>250'\n",
        "), index=target.index)\n",
        "print('distribución de clases: \\n{}'.format(target_multi.value_counts()))\n",
        "\n",
        "# codificamos el target\n",
        "le = LabelEncoder()\n",
        "target_multi = le.fit_transform(target_multi)\n",
        "num_clase = list(le.classes_)"
      ],
      "execution_count": 19,
      "outputs": [
        {
          "output_type": "stream",
          "text": [
            "distribución de clases: \n",
            "1-5        4688\n",
            "0          2893\n",
            "6-25        788\n",
            "101-250     747\n",
            "26-50       608\n",
            ">250        403\n",
            "51-100      309\n",
            "dtype: int64\n"
          ],
          "name": "stdout"
        }
      ]
    },
    {
      "cell_type": "markdown",
      "metadata": {
        "id": "2wAlzIWUh1gd"
      },
      "source": [
        "## Separamos en train y test"
      ]
    },
    {
      "cell_type": "code",
      "metadata": {
        "id": "IFmY7Vkkj30I"
      },
      "source": [
        "train_data, test_data, train_target, test_target = train_test_split(data, target_multi, test_size=TEST_SIZE,\n",
        "                                                                    random_state=SEED, stratify=target_multi)"
      ],
      "execution_count": 20,
      "outputs": []
    },
    {
      "cell_type": "code",
      "metadata": {
        "id": "QeuW25xgj6vL",
        "outputId": "c9e50aa1-2da2-400e-d9e8-d51bc213f4f4",
        "colab": {
          "base_uri": "https://localhost:8080/"
        }
      },
      "source": [
        "fi = []\n",
        "val_probs = []\n",
        "test_probs = []\n",
        "i = 0\n",
        "\n",
        "for train_index, valid_index in StratifiedKFold(n_splits=K_FOLD, shuffle=True, random_state=SEED).split(train_data,\n",
        "                                                                                                        train_target):\n",
        "    i += 1\n",
        "    train_data_fold = train_data.iloc[train_index]\n",
        "    train_target_fold = train_target[train_index]\n",
        "\n",
        "    val_data_fold = train_data.iloc[valid_index]\n",
        "    val_target_fold = train_target[valid_index]\n",
        "\n",
        "    learner = LGBMClassifier(n_estimators=10000, random_state=SEED, objective='multiclass')\n",
        "    learner.fit(train_data_fold, train_target_fold, early_stopping_rounds=50, eval_metric=\"multi_logloss\",\n",
        "                eval_set=[(train_data_fold, train_target_fold), (val_data_fold, val_target_fold)],\n",
        "                verbose=50)\n",
        "    val_pred = learner.predict_proba(val_data_fold)\n",
        "    test_pred = learner.predict_proba(test_data)\n",
        "    \n",
        "    val_probs.append(pd.DataFrame(val_pred, index=val_data_fold.index))\n",
        "    test_probs.append(pd.DataFrame(test_pred, index=test_data.index))\n",
        "\n",
        "    fi.append(pd.Series(learner.feature_importances_ /\n",
        "                        learner.feature_importances_.sum(), index=train_data_fold.columns))\n",
        "\n",
        "test_probs = pd.concat([pd.DataFrame(test_probs[i]) for i in range(len(test_probs))])\n",
        "test_probs = test_probs.groupby('id').mean()\n",
        "fi = pd.concat(fi, axis=1).mean(axis=1).sort_values(ascending=False)"
      ],
      "execution_count": 21,
      "outputs": [
        {
          "output_type": "stream",
          "text": [
            "Training until validation scores don't improve for 50 rounds.\n",
            "[50]\ttraining's multi_logloss: 0.555915\ttraining's multi_logloss: 0.555915\tvalid_1's multi_logloss: 0.840266\tvalid_1's multi_logloss: 0.840266\n",
            "[100]\ttraining's multi_logloss: 0.424668\ttraining's multi_logloss: 0.424668\tvalid_1's multi_logloss: 0.8555\tvalid_1's multi_logloss: 0.8555\n",
            "Early stopping, best iteration is:\n",
            "[53]\ttraining's multi_logloss: 0.544785\ttraining's multi_logloss: 0.544785\tvalid_1's multi_logloss: 0.838655\tvalid_1's multi_logloss: 0.838655\n",
            "Training until validation scores don't improve for 50 rounds.\n",
            "[50]\ttraining's multi_logloss: 0.561782\ttraining's multi_logloss: 0.561782\tvalid_1's multi_logloss: 0.801269\tvalid_1's multi_logloss: 0.801269\n",
            "[100]\ttraining's multi_logloss: 0.431802\ttraining's multi_logloss: 0.431802\tvalid_1's multi_logloss: 0.797684\tvalid_1's multi_logloss: 0.797684\n",
            "Early stopping, best iteration is:\n",
            "[73]\ttraining's multi_logloss: 0.490657\ttraining's multi_logloss: 0.490657\tvalid_1's multi_logloss: 0.792239\tvalid_1's multi_logloss: 0.792239\n",
            "Training until validation scores don't improve for 50 rounds.\n",
            "[50]\ttraining's multi_logloss: 0.558787\ttraining's multi_logloss: 0.558787\tvalid_1's multi_logloss: 0.800208\tvalid_1's multi_logloss: 0.800208\n",
            "[100]\ttraining's multi_logloss: 0.427977\ttraining's multi_logloss: 0.427977\tvalid_1's multi_logloss: 0.804528\tvalid_1's multi_logloss: 0.804528\n",
            "Early stopping, best iteration is:\n",
            "[66]\ttraining's multi_logloss: 0.506553\ttraining's multi_logloss: 0.506553\tvalid_1's multi_logloss: 0.794252\tvalid_1's multi_logloss: 0.794252\n",
            "Training until validation scores don't improve for 50 rounds.\n",
            "[50]\ttraining's multi_logloss: 0.556672\ttraining's multi_logloss: 0.556672\tvalid_1's multi_logloss: 0.816\tvalid_1's multi_logloss: 0.816\n",
            "[100]\ttraining's multi_logloss: 0.42596\ttraining's multi_logloss: 0.42596\tvalid_1's multi_logloss: 0.811137\tvalid_1's multi_logloss: 0.811137\n",
            "Early stopping, best iteration is:\n",
            "[69]\ttraining's multi_logloss: 0.496647\ttraining's multi_logloss: 0.496647\tvalid_1's multi_logloss: 0.804448\tvalid_1's multi_logloss: 0.804448\n",
            "Training until validation scores don't improve for 50 rounds.\n",
            "[50]\ttraining's multi_logloss: 0.555105\ttraining's multi_logloss: 0.555105\tvalid_1's multi_logloss: 0.847147\tvalid_1's multi_logloss: 0.847147\n",
            "Early stopping, best iteration is:\n",
            "[49]\ttraining's multi_logloss: 0.559049\ttraining's multi_logloss: 0.559049\tvalid_1's multi_logloss: 0.846528\tvalid_1's multi_logloss: 0.846528\n",
            "Training until validation scores don't improve for 50 rounds.\n",
            "[50]\ttraining's multi_logloss: 0.560144\ttraining's multi_logloss: 0.560144\tvalid_1's multi_logloss: 0.784938\tvalid_1's multi_logloss: 0.784938\n",
            "[100]\ttraining's multi_logloss: 0.429657\ttraining's multi_logloss: 0.429657\tvalid_1's multi_logloss: 0.792307\tvalid_1's multi_logloss: 0.792307\n",
            "Early stopping, best iteration is:\n",
            "[67]\ttraining's multi_logloss: 0.504812\ttraining's multi_logloss: 0.504812\tvalid_1's multi_logloss: 0.780762\tvalid_1's multi_logloss: 0.780762\n",
            "Training until validation scores don't improve for 50 rounds.\n",
            "[50]\ttraining's multi_logloss: 0.557487\ttraining's multi_logloss: 0.557487\tvalid_1's multi_logloss: 0.812526\tvalid_1's multi_logloss: 0.812526\n",
            "[100]\ttraining's multi_logloss: 0.424171\ttraining's multi_logloss: 0.424171\tvalid_1's multi_logloss: 0.818564\tvalid_1's multi_logloss: 0.818564\n",
            "Early stopping, best iteration is:\n",
            "[72]\ttraining's multi_logloss: 0.488506\ttraining's multi_logloss: 0.488506\tvalid_1's multi_logloss: 0.804167\tvalid_1's multi_logloss: 0.804167\n",
            "Training until validation scores don't improve for 50 rounds.\n",
            "[50]\ttraining's multi_logloss: 0.558292\ttraining's multi_logloss: 0.558292\tvalid_1's multi_logloss: 0.805187\tvalid_1's multi_logloss: 0.805187\n",
            "[100]\ttraining's multi_logloss: 0.427083\ttraining's multi_logloss: 0.427083\tvalid_1's multi_logloss: 0.82588\tvalid_1's multi_logloss: 0.82588\n",
            "Early stopping, best iteration is:\n",
            "[55]\ttraining's multi_logloss: 0.540001\ttraining's multi_logloss: 0.540001\tvalid_1's multi_logloss: 0.804787\tvalid_1's multi_logloss: 0.804787\n",
            "Training until validation scores don't improve for 50 rounds.\n",
            "[50]\ttraining's multi_logloss: 0.555566\ttraining's multi_logloss: 0.555566\tvalid_1's multi_logloss: 0.824045\tvalid_1's multi_logloss: 0.824045\n",
            "[100]\ttraining's multi_logloss: 0.424804\ttraining's multi_logloss: 0.424804\tvalid_1's multi_logloss: 0.831732\tvalid_1's multi_logloss: 0.831732\n",
            "Early stopping, best iteration is:\n",
            "[61]\ttraining's multi_logloss: 0.517982\ttraining's multi_logloss: 0.517982\tvalid_1's multi_logloss: 0.819703\tvalid_1's multi_logloss: 0.819703\n",
            "Training until validation scores don't improve for 50 rounds.\n",
            "[50]\ttraining's multi_logloss: 0.556434\ttraining's multi_logloss: 0.556434\tvalid_1's multi_logloss: 0.825297\tvalid_1's multi_logloss: 0.825297\n",
            "[100]\ttraining's multi_logloss: 0.426014\ttraining's multi_logloss: 0.426014\tvalid_1's multi_logloss: 0.833206\tvalid_1's multi_logloss: 0.833206\n",
            "Early stopping, best iteration is:\n",
            "[62]\ttraining's multi_logloss: 0.5158\ttraining's multi_logloss: 0.5158\tvalid_1's multi_logloss: 0.81931\tvalid_1's multi_logloss: 0.81931\n"
          ],
          "name": "stdout"
        }
      ]
    },
    {
      "cell_type": "code",
      "metadata": {
        "id": "dllXdxaBNTTu",
        "outputId": "8eab67c1-fc4d-4092-ade2-88dedfe6fc50",
        "colab": {
          "base_uri": "https://localhost:8080/"
        }
      },
      "source": [
        "print(\"Performance del modelo\")\n",
        "print(\"--------------------------------------\")\n",
        "test_probs.idxmax(axis=1)\n",
        "pred_target = pd.Series(test_probs.idxmax(axis=1), index=test_probs.index)\n",
        "conf_mat = pd.DataFrame(confusion_matrix(test_target, pred_target), columns=num_clase, index=num_clase)\n",
        "print(\"\\nMatriz de Confusión (filas=real, columnas=prediccion)\")\n",
        "print(conf_mat)\n",
        "print(\"\\nReporte de Clasificación\")\n",
        "print(classification_report(test_target, pred_target, target_names=num_clase))\n",
        "print(\"\\nAccuracy_score: {}\".format(accuracy_score(test_target, pred_target)))"
      ],
      "execution_count": 22,
      "outputs": [
        {
          "output_type": "stream",
          "text": [
            "Performance del modelo\n",
            "--------------------------------------\n",
            "\n",
            "Matriz de Confusión (filas=real, columnas=prediccion)\n",
            "           0  1-5  101-250  26-50  51-100  6-25  >250\n",
            "0        155  324       43     16       1    13    27\n",
            "1-5      236  515       99     19       6    20    43\n",
            "101-250   48   90        5      2       0     1     3\n",
            "26-50     36   67        9      2       1     3     4\n",
            "51-100    18   30        6      4       1     1     2\n",
            "6-25      60   75       10      1       0     2    10\n",
            ">250      19   49        6      2       0     1     3\n",
            "\n",
            "Reporte de Clasificación\n",
            "              precision    recall  f1-score   support\n",
            "\n",
            "           0       0.27      0.27      0.27       579\n",
            "         1-5       0.45      0.55      0.49       938\n",
            "     101-250       0.03      0.03      0.03       149\n",
            "       26-50       0.04      0.02      0.02       122\n",
            "      51-100       0.11      0.02      0.03        62\n",
            "        6-25       0.05      0.01      0.02       158\n",
            "        >250       0.03      0.04      0.03        80\n",
            "\n",
            "    accuracy                           0.33      2088\n",
            "   macro avg       0.14      0.13      0.13      2088\n",
            "weighted avg       0.29      0.33      0.30      2088\n",
            "\n",
            "\n",
            "Accuracy_score: 0.3271072796934866\n"
          ],
          "name": "stdout"
        }
      ]
    },
    {
      "cell_type": "code",
      "metadata": {
        "id": "4R6_eJEQdMei",
        "outputId": "c61025a6-1281-49c7-f5d8-7f27099f651a",
        "colab": {
          "base_uri": "https://localhost:8080/",
          "height": 698
        }
      },
      "source": [
        "sns.barplot(x=fi.head(10), y=fi.head(10).index, orient='h')\n",
        "#Add chart labels\n",
        "plt.title('Importancia de variables')\n",
        "plt.xlabel('Importancia')\n",
        "plt.ylabel('Variables')"
      ],
      "execution_count": 23,
      "outputs": [
        {
          "output_type": "execute_result",
          "data": {
            "text/plain": [
              "Text(0, 0.5, 'Variables')"
            ]
          },
          "metadata": {
            "tags": []
          },
          "execution_count": 23
        },
        {
          "output_type": "display_data",
          "data": {
            "image/png": "[encoded data removed]",
            "text/plain": [
              "<Figure size 1728x864 with 1 Axes>"
            ]
          },
          "metadata": {
            "tags": []
          }
        }
      ]
    }
  ]
}