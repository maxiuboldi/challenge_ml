{
  "nbformat": 4,
  "nbformat_minor": 0,
  "metadata": {
    "colab": {
      "name": "model.ipynb",
      "provenance": [],
      "collapsed_sections": [],
      "authorship_tag": "ABX9TyPs4wg73Fe56hmRMMkgTkwa",
      "include_colab_link": true
    },
    "kernelspec": {
      "name": "python3",
      "display_name": "Python 3"
    }
  },
  "cells": [
    {
      "cell_type": "markdown",
      "metadata": {
        "id": "view-in-github",
        "colab_type": "text"
      },
      "source": [
        "<a href=\"https://colab.research.google.com/github/maxiuboldi/challenge_ml/blob/main/model.ipynb\" target=\"_parent\"><img src=\"https://colab.research.google.com/assets/colab-badge.svg\" alt=\"Open In Colab\"/></a>"
      ]
    },
    {
      "cell_type": "markdown",
      "metadata": {
        "id": "PdHcRMwYX_G4"
      },
      "source": [
        "#Data Science Challenge Mercado Libre - BI Team"
      ]
    },
    {
      "cell_type": "markdown",
      "metadata": {
        "id": "-N-iNn8vX7GI"
      },
      "source": [
        "## Instalar dependencias"
      ]
    },
    {
      "cell_type": "code",
      "metadata": {
        "id": "BEN91rg4XvBN",
        "outputId": "c515510e-f2b7-4b7c-d03a-a5f03185cd4b",
        "colab": {
          "base_uri": "https://localhost:8080/"
        }
      },
      "source": [
        "!pip install cherrypicker"
      ],
      "execution_count": 2,
      "outputs": [
        {
          "output_type": "stream",
          "text": [
            "Collecting cherrypicker\n",
            "  Downloading https://files.pythonhosted.org/packages/e3/13/2c4cb539cb42a1d0f239f578949816e0d6c6f2e30d654c3d487638f60418/cherrypicker-0.3.1.tar.gz\n",
            "Requirement already satisfied: joblib>=0.13.0 in /usr/local/lib/python3.6/dist-packages (from cherrypicker) (0.17.0)\n",
            "Building wheels for collected packages: cherrypicker\n",
            "  Building wheel for cherrypicker (setup.py) ... \u001b[?25l\u001b[?25hdone\n",
            "  Created wheel for cherrypicker: filename=cherrypicker-0.3.1-cp36-none-any.whl size=13178 sha256=f4b0c07edd999adae32cff95009a305e509954cdcd4d9e94c689f1086ca3aa5f\n",
            "  Stored in directory: /root/.cache/pip/wheels/ec/97/e2/90eef106c1f605a61836d9a5a8e8e47e96e1426e1ded7a10ee\n",
            "Successfully built cherrypicker\n",
            "Installing collected packages: cherrypicker\n",
            "Successfully installed cherrypicker-0.3.1\n"
          ],
          "name": "stdout"
        }
      ]
    },
    {
      "cell_type": "markdown",
      "metadata": {
        "id": "Eoxz63btYJMJ"
      },
      "source": [
        "## Importar librerias"
      ]
    },
    {
      "cell_type": "code",
      "metadata": {
        "id": "i08P36kRYKS-"
      },
      "source": [
        "import urllib.request\n",
        "import urllib.parse\n",
        "import json\n",
        "import pandas as pd\n",
        "import numpy as np\n",
        "from math import ceil\n",
        "from cherrypicker import CherryPicker\n",
        "from time import sleep\n",
        "import gc\n",
        "from sklearn.preprocessing import OneHotEncoder"
      ],
      "execution_count": 36,
      "outputs": []
    },
    {
      "cell_type": "markdown",
      "metadata": {
        "id": "5CDEXimGYNvQ"
      },
      "source": [
        "## Contantes"
      ]
    },
    {
      "cell_type": "code",
      "metadata": {
        "id": "CDeYOfC8YPIz",
        "outputId": "8b7b9da8-8b25-4642-cd0f-6ce82ecf8d12",
        "colab": {
          "base_uri": "https://localhost:8080/"
        }
      },
      "source": [
        "# API ML\n",
        "URL_CATEGORIES = 'https://api.mercadolibre.com/sites/MLA/categories'\n",
        "URL_CHILD_CATEGORIES = 'https://api.mercadolibre.com/categories/'\n",
        "URL_SEARCH = 'https://api.mercadolibre.com/sites/MLA/search?'\n",
        "LIMIT_CALLS = 1050 / 50\n",
        "SLEEP = 0  # No encontré en la documentación límites, pero por las dudas...\n",
        "\n",
        "# Modelo\n",
        "SEED = 8888\n",
        "K_FOLD = 5\n",
        "TEST_SIZE = 0.20\n",
        "\n",
        "# Opciones de Pandas\n",
        "\n",
        "pd_options = {\n",
        "'display.max_rows': None,\n",
        "'display.max_columns': None,\n",
        "'display.width': None,\n",
        "'display.float_format': '{:.2f}'.format\n",
        "}\n",
        "\n",
        "[pd.set_option(option, setting) for option, setting in pd_options.items()]"
      ],
      "execution_count": 8,
      "outputs": [
        {
          "output_type": "execute_result",
          "data": {
            "text/plain": [
              "[None, None, None, None]"
            ]
          },
          "metadata": {
            "tags": []
          },
          "execution_count": 8
        }
      ]
    },
    {
      "cell_type": "markdown",
      "metadata": {
        "id": "vcgjCmNsYhwp"
      },
      "source": [
        "## Descarga de categorías"
      ]
    },
    {
      "cell_type": "code",
      "metadata": {
        "id": "pSz5TsmXYiAs",
        "outputId": "d4710dde-d7dd-49db-c31e-21f4a4e10b9d",
        "colab": {
          "base_uri": "https://localhost:8080/"
        }
      },
      "source": [
        "print('Descargando categorías {}\\n'.format(URL_CATEGORIES))\n",
        "with urllib.request.urlopen(URL_CATEGORIES) as handler:\n",
        "    categories = json.loads(handler.read())\n",
        "sleep(SLEEP)\n",
        "\n",
        "categories_list = []\n",
        "for category in categories:\n",
        "    url_categorie = URL_CHILD_CATEGORIES + category.get('id')\n",
        "    print('Descargando sub categorías {}'.format(url_categorie))\n",
        "    with urllib.request.urlopen(url_categorie) as handler:\n",
        "        category_detail = json.loads(handler.read())\n",
        "        for detalle in category_detail.get('children_categories'):\n",
        "            categories_list.append(detalle)\n",
        "    sleep(SLEEP)\n",
        "\n",
        "categories_df = pd.DataFrame(categories_list)\n",
        "categories_df.set_index('id', inplace=True)\n",
        "\n",
        "print('\\nListo')"
      ],
      "execution_count": 5,
      "outputs": [
        {
          "output_type": "stream",
          "text": [
            "Descargando categorías https://api.mercadolibre.com/sites/MLA/categories\n",
            "\n",
            "Descargando sub categorías https://api.mercadolibre.com/categories/MLA5725\n",
            "Descargando sub categorías https://api.mercadolibre.com/categories/MLA1512\n",
            "Descargando sub categorías https://api.mercadolibre.com/categories/MLA1403\n",
            "Descargando sub categorías https://api.mercadolibre.com/categories/MLA1071\n",
            "Descargando sub categorías https://api.mercadolibre.com/categories/MLA1367\n",
            "Descargando sub categorías https://api.mercadolibre.com/categories/MLA1368\n",
            "Descargando sub categorías https://api.mercadolibre.com/categories/MLA1743\n",
            "Descargando sub categorías https://api.mercadolibre.com/categories/MLA1384\n",
            "Descargando sub categorías https://api.mercadolibre.com/categories/MLA1246\n",
            "Descargando sub categorías https://api.mercadolibre.com/categories/MLA1039\n",
            "Descargando sub categorías https://api.mercadolibre.com/categories/MLA1051\n",
            "Descargando sub categorías https://api.mercadolibre.com/categories/MLA1648\n",
            "Descargando sub categorías https://api.mercadolibre.com/categories/MLA1144\n",
            "Descargando sub categorías https://api.mercadolibre.com/categories/MLA1276\n",
            "Descargando sub categorías https://api.mercadolibre.com/categories/MLA5726\n",
            "Descargando sub categorías https://api.mercadolibre.com/categories/MLA1000\n",
            "Descargando sub categorías https://api.mercadolibre.com/categories/MLA2547\n",
            "Descargando sub categorías https://api.mercadolibre.com/categories/MLA407134\n",
            "Descargando sub categorías https://api.mercadolibre.com/categories/MLA1574\n",
            "Descargando sub categorías https://api.mercadolibre.com/categories/MLA1499\n",
            "Descargando sub categorías https://api.mercadolibre.com/categories/MLA1459\n",
            "Descargando sub categorías https://api.mercadolibre.com/categories/MLA1182\n",
            "Descargando sub categorías https://api.mercadolibre.com/categories/MLA3937\n",
            "Descargando sub categorías https://api.mercadolibre.com/categories/MLA1132\n",
            "Descargando sub categorías https://api.mercadolibre.com/categories/MLA3025\n",
            "Descargando sub categorías https://api.mercadolibre.com/categories/MLA1168\n",
            "Descargando sub categorías https://api.mercadolibre.com/categories/MLA1430\n",
            "Descargando sub categorías https://api.mercadolibre.com/categories/MLA409431\n",
            "Descargando sub categorías https://api.mercadolibre.com/categories/MLA1540\n",
            "Descargando sub categorías https://api.mercadolibre.com/categories/MLA9304\n",
            "Descargando sub categorías https://api.mercadolibre.com/categories/MLA1953\n",
            "\n",
            "Listo\n"
          ],
          "name": "stdout"
        }
      ]
    },
    {
      "cell_type": "markdown",
      "metadata": {
        "id": "P-Il383MYuKg"
      },
      "source": [
        "## Muestreo de categorías adicionales y descarga de datos"
      ]
    },
    {
      "cell_type": "code",
      "metadata": {
        "id": "lDMeV2f4YvBJ",
        "outputId": "3d11023c-9399-4806-9900-1505a71c67ca",
        "colab": {
          "base_uri": "https://localhost:8080/"
        }
      },
      "source": [
        "print('\\nMuestreando categorías')\n",
        "categories_search_dict = categories_df[~categories_df['name'].str.lower().str.contains(\n",
        "    r'tvs|smartphones')]['name'].sample(8, random_state=8888).to_dict()\n",
        "categories_search_dict.update(categories_df[categories_df['name'].str.lower().str.contains(r'tvs|smartphones')]['name'])\n",
        "\n",
        "print('Categorías seleccionadas')\n",
        "for category, name in categories_search_dict.items():\n",
        "    print(category, ': ', name)\n",
        "\n",
        "print('Descargando resultados de búsqueda\\n')\n",
        "results_list = []\n",
        "for category, name in categories_search_dict.items():\n",
        "    print('Procesando categoría {}\\n'.format(category))\n",
        "    current_call = 0\n",
        "    # La API sólo permite pasar un offset hasta 1.000, que devuelve un máximo de 1.050 artículos\n",
        "    # con un máximo de 21 llamadas.\n",
        "    for offset in range(0, 1050, 50):\n",
        "        current_call += 1\n",
        "        url_search_category = URL_SEARCH + urllib.parse.urlencode({'category': category, 'offset': offset})\n",
        "        print('procesando {}'.format(url_search_category))\n",
        "        with urllib.request.urlopen(url_search_category) as handler:\n",
        "            search_result = json.loads(handler.read())\n",
        "            total = search_result['paging'].get('total')\n",
        "            if current_call == 1:\n",
        "                print('Total de resultados: {}'.format(total))\n",
        "            if total == 0:  # Por las dudas, hay categorías sin productos que pudieran salir del aleatorio\n",
        "                break\n",
        "            calls = ceil(total / 50)\n",
        "            if current_call == 1:\n",
        "                print('Total de llamadas necesarias: {}\\n'.format(calls))\n",
        "            results = search_result['results']\n",
        "            for result in results:\n",
        "                picker = CherryPicker(result)\n",
        "                picker_dict = picker.flatten().get()\n",
        "                picker_dict.update({'category_name': name})\n",
        "                results_list.append(picker_dict)\n",
        "            if current_call == calls:  # Si no hace falta llamar más, cortamos.\n",
        "                break\n",
        "            sleep(SLEEP)\n",
        "    print('')\n",
        "\n",
        "dataset = pd.DataFrame(results_list)\n",
        "dataset.set_index('id', inplace=True)\n",
        "\n",
        "del results_list, categories_search_dict, categories_list\n",
        "gc.collect()\n",
        "\n",
        "print('\\nListo')"
      ],
      "execution_count": 6,
      "outputs": [
        {
          "output_type": "stream",
          "text": [
            "\n",
            "Muestreando categorías\n",
            "Categorías seleccionadas\n",
            "MLA1912 :  Otros\n",
            "MLA1228 :  Otros\n",
            "MLA385177 :  Climatización\n",
            "MLA1700 :  Conectividad y Redes\n",
            "MLA7841 :  Series de TV\n",
            "MLA430687 :  Laptops y Accesorios\n",
            "MLA7312 :  Maquinaria Agrícola\n",
            "MLA404419 :  Insumos para Joyería\n",
            "MLA1055 :  Celulares y Smartphones\n",
            "MLA1002 :  TVs\n",
            "Descargando resultados de búsqueda\n",
            "\n",
            "Procesando categoría MLA1912\n",
            "\n",
            "procesando https://api.mercadolibre.com/sites/MLA/search?category=MLA1912&offset=0\n",
            "Total de resultados: 7387\n",
            "Total de llamadas necesarias: 148\n",
            "\n",
            "procesando https://api.mercadolibre.com/sites/MLA/search?category=MLA1912&offset=50\n",
            "procesando https://api.mercadolibre.com/sites/MLA/search?category=MLA1912&offset=100\n",
            "procesando https://api.mercadolibre.com/sites/MLA/search?category=MLA1912&offset=150\n",
            "procesando https://api.mercadolibre.com/sites/MLA/search?category=MLA1912&offset=200\n",
            "procesando https://api.mercadolibre.com/sites/MLA/search?category=MLA1912&offset=250\n",
            "procesando https://api.mercadolibre.com/sites/MLA/search?category=MLA1912&offset=300\n",
            "procesando https://api.mercadolibre.com/sites/MLA/search?category=MLA1912&offset=350\n",
            "procesando https://api.mercadolibre.com/sites/MLA/search?category=MLA1912&offset=400\n",
            "procesando https://api.mercadolibre.com/sites/MLA/search?category=MLA1912&offset=450\n",
            "procesando https://api.mercadolibre.com/sites/MLA/search?category=MLA1912&offset=500\n",
            "procesando https://api.mercadolibre.com/sites/MLA/search?category=MLA1912&offset=550\n",
            "procesando https://api.mercadolibre.com/sites/MLA/search?category=MLA1912&offset=600\n",
            "procesando https://api.mercadolibre.com/sites/MLA/search?category=MLA1912&offset=650\n",
            "procesando https://api.mercadolibre.com/sites/MLA/search?category=MLA1912&offset=700\n",
            "procesando https://api.mercadolibre.com/sites/MLA/search?category=MLA1912&offset=750\n",
            "procesando https://api.mercadolibre.com/sites/MLA/search?category=MLA1912&offset=800\n",
            "procesando https://api.mercadolibre.com/sites/MLA/search?category=MLA1912&offset=850\n",
            "procesando https://api.mercadolibre.com/sites/MLA/search?category=MLA1912&offset=900\n",
            "procesando https://api.mercadolibre.com/sites/MLA/search?category=MLA1912&offset=950\n",
            "procesando https://api.mercadolibre.com/sites/MLA/search?category=MLA1912&offset=1000\n",
            "\n",
            "Procesando categoría MLA1228\n",
            "\n",
            "procesando https://api.mercadolibre.com/sites/MLA/search?category=MLA1228&offset=0\n",
            "Total de resultados: 23410\n",
            "Total de llamadas necesarias: 469\n",
            "\n",
            "procesando https://api.mercadolibre.com/sites/MLA/search?category=MLA1228&offset=50\n",
            "procesando https://api.mercadolibre.com/sites/MLA/search?category=MLA1228&offset=100\n",
            "procesando https://api.mercadolibre.com/sites/MLA/search?category=MLA1228&offset=150\n",
            "procesando https://api.mercadolibre.com/sites/MLA/search?category=MLA1228&offset=200\n",
            "procesando https://api.mercadolibre.com/sites/MLA/search?category=MLA1228&offset=250\n",
            "procesando https://api.mercadolibre.com/sites/MLA/search?category=MLA1228&offset=300\n",
            "procesando https://api.mercadolibre.com/sites/MLA/search?category=MLA1228&offset=350\n",
            "procesando https://api.mercadolibre.com/sites/MLA/search?category=MLA1228&offset=400\n",
            "procesando https://api.mercadolibre.com/sites/MLA/search?category=MLA1228&offset=450\n",
            "procesando https://api.mercadolibre.com/sites/MLA/search?category=MLA1228&offset=500\n",
            "procesando https://api.mercadolibre.com/sites/MLA/search?category=MLA1228&offset=550\n",
            "procesando https://api.mercadolibre.com/sites/MLA/search?category=MLA1228&offset=600\n",
            "procesando https://api.mercadolibre.com/sites/MLA/search?category=MLA1228&offset=650\n",
            "procesando https://api.mercadolibre.com/sites/MLA/search?category=MLA1228&offset=700\n",
            "procesando https://api.mercadolibre.com/sites/MLA/search?category=MLA1228&offset=750\n",
            "procesando https://api.mercadolibre.com/sites/MLA/search?category=MLA1228&offset=800\n",
            "procesando https://api.mercadolibre.com/sites/MLA/search?category=MLA1228&offset=850\n",
            "procesando https://api.mercadolibre.com/sites/MLA/search?category=MLA1228&offset=900\n",
            "procesando https://api.mercadolibre.com/sites/MLA/search?category=MLA1228&offset=950\n",
            "procesando https://api.mercadolibre.com/sites/MLA/search?category=MLA1228&offset=1000\n",
            "\n",
            "Procesando categoría MLA385177\n",
            "\n",
            "procesando https://api.mercadolibre.com/sites/MLA/search?category=MLA385177&offset=0\n",
            "Total de resultados: 73818\n",
            "Total de llamadas necesarias: 1477\n",
            "\n",
            "procesando https://api.mercadolibre.com/sites/MLA/search?category=MLA385177&offset=50\n",
            "procesando https://api.mercadolibre.com/sites/MLA/search?category=MLA385177&offset=100\n",
            "procesando https://api.mercadolibre.com/sites/MLA/search?category=MLA385177&offset=150\n",
            "procesando https://api.mercadolibre.com/sites/MLA/search?category=MLA385177&offset=200\n",
            "procesando https://api.mercadolibre.com/sites/MLA/search?category=MLA385177&offset=250\n",
            "procesando https://api.mercadolibre.com/sites/MLA/search?category=MLA385177&offset=300\n",
            "procesando https://api.mercadolibre.com/sites/MLA/search?category=MLA385177&offset=350\n",
            "procesando https://api.mercadolibre.com/sites/MLA/search?category=MLA385177&offset=400\n",
            "procesando https://api.mercadolibre.com/sites/MLA/search?category=MLA385177&offset=450\n",
            "procesando https://api.mercadolibre.com/sites/MLA/search?category=MLA385177&offset=500\n",
            "procesando https://api.mercadolibre.com/sites/MLA/search?category=MLA385177&offset=550\n",
            "procesando https://api.mercadolibre.com/sites/MLA/search?category=MLA385177&offset=600\n",
            "procesando https://api.mercadolibre.com/sites/MLA/search?category=MLA385177&offset=650\n",
            "procesando https://api.mercadolibre.com/sites/MLA/search?category=MLA385177&offset=700\n",
            "procesando https://api.mercadolibre.com/sites/MLA/search?category=MLA385177&offset=750\n",
            "procesando https://api.mercadolibre.com/sites/MLA/search?category=MLA385177&offset=800\n",
            "procesando https://api.mercadolibre.com/sites/MLA/search?category=MLA385177&offset=850\n",
            "procesando https://api.mercadolibre.com/sites/MLA/search?category=MLA385177&offset=900\n",
            "procesando https://api.mercadolibre.com/sites/MLA/search?category=MLA385177&offset=950\n",
            "procesando https://api.mercadolibre.com/sites/MLA/search?category=MLA385177&offset=1000\n",
            "\n",
            "Procesando categoría MLA1700\n",
            "\n",
            "procesando https://api.mercadolibre.com/sites/MLA/search?category=MLA1700&offset=0\n",
            "Total de resultados: 57015\n",
            "Total de llamadas necesarias: 1141\n",
            "\n",
            "procesando https://api.mercadolibre.com/sites/MLA/search?category=MLA1700&offset=50\n",
            "procesando https://api.mercadolibre.com/sites/MLA/search?category=MLA1700&offset=100\n",
            "procesando https://api.mercadolibre.com/sites/MLA/search?category=MLA1700&offset=150\n",
            "procesando https://api.mercadolibre.com/sites/MLA/search?category=MLA1700&offset=200\n",
            "procesando https://api.mercadolibre.com/sites/MLA/search?category=MLA1700&offset=250\n",
            "procesando https://api.mercadolibre.com/sites/MLA/search?category=MLA1700&offset=300\n",
            "procesando https://api.mercadolibre.com/sites/MLA/search?category=MLA1700&offset=350\n",
            "procesando https://api.mercadolibre.com/sites/MLA/search?category=MLA1700&offset=400\n",
            "procesando https://api.mercadolibre.com/sites/MLA/search?category=MLA1700&offset=450\n",
            "procesando https://api.mercadolibre.com/sites/MLA/search?category=MLA1700&offset=500\n",
            "procesando https://api.mercadolibre.com/sites/MLA/search?category=MLA1700&offset=550\n",
            "procesando https://api.mercadolibre.com/sites/MLA/search?category=MLA1700&offset=600\n",
            "procesando https://api.mercadolibre.com/sites/MLA/search?category=MLA1700&offset=650\n",
            "procesando https://api.mercadolibre.com/sites/MLA/search?category=MLA1700&offset=700\n",
            "procesando https://api.mercadolibre.com/sites/MLA/search?category=MLA1700&offset=750\n",
            "procesando https://api.mercadolibre.com/sites/MLA/search?category=MLA1700&offset=800\n",
            "procesando https://api.mercadolibre.com/sites/MLA/search?category=MLA1700&offset=850\n",
            "procesando https://api.mercadolibre.com/sites/MLA/search?category=MLA1700&offset=900\n",
            "procesando https://api.mercadolibre.com/sites/MLA/search?category=MLA1700&offset=950\n",
            "procesando https://api.mercadolibre.com/sites/MLA/search?category=MLA1700&offset=1000\n",
            "\n",
            "Procesando categoría MLA7841\n",
            "\n",
            "procesando https://api.mercadolibre.com/sites/MLA/search?category=MLA7841&offset=0\n",
            "Total de resultados: 17666\n",
            "Total de llamadas necesarias: 354\n",
            "\n",
            "procesando https://api.mercadolibre.com/sites/MLA/search?category=MLA7841&offset=50\n",
            "procesando https://api.mercadolibre.com/sites/MLA/search?category=MLA7841&offset=100\n",
            "procesando https://api.mercadolibre.com/sites/MLA/search?category=MLA7841&offset=150\n",
            "procesando https://api.mercadolibre.com/sites/MLA/search?category=MLA7841&offset=200\n",
            "procesando https://api.mercadolibre.com/sites/MLA/search?category=MLA7841&offset=250\n",
            "procesando https://api.mercadolibre.com/sites/MLA/search?category=MLA7841&offset=300\n",
            "procesando https://api.mercadolibre.com/sites/MLA/search?category=MLA7841&offset=350\n",
            "procesando https://api.mercadolibre.com/sites/MLA/search?category=MLA7841&offset=400\n",
            "procesando https://api.mercadolibre.com/sites/MLA/search?category=MLA7841&offset=450\n",
            "procesando https://api.mercadolibre.com/sites/MLA/search?category=MLA7841&offset=500\n",
            "procesando https://api.mercadolibre.com/sites/MLA/search?category=MLA7841&offset=550\n",
            "procesando https://api.mercadolibre.com/sites/MLA/search?category=MLA7841&offset=600\n",
            "procesando https://api.mercadolibre.com/sites/MLA/search?category=MLA7841&offset=650\n",
            "procesando https://api.mercadolibre.com/sites/MLA/search?category=MLA7841&offset=700\n",
            "procesando https://api.mercadolibre.com/sites/MLA/search?category=MLA7841&offset=750\n",
            "procesando https://api.mercadolibre.com/sites/MLA/search?category=MLA7841&offset=800\n",
            "procesando https://api.mercadolibre.com/sites/MLA/search?category=MLA7841&offset=850\n",
            "procesando https://api.mercadolibre.com/sites/MLA/search?category=MLA7841&offset=900\n",
            "procesando https://api.mercadolibre.com/sites/MLA/search?category=MLA7841&offset=950\n",
            "procesando https://api.mercadolibre.com/sites/MLA/search?category=MLA7841&offset=1000\n",
            "\n",
            "Procesando categoría MLA430687\n",
            "\n",
            "procesando https://api.mercadolibre.com/sites/MLA/search?category=MLA430687&offset=0\n",
            "Total de resultados: 174127\n",
            "Total de llamadas necesarias: 3483\n",
            "\n",
            "procesando https://api.mercadolibre.com/sites/MLA/search?category=MLA430687&offset=50\n",
            "procesando https://api.mercadolibre.com/sites/MLA/search?category=MLA430687&offset=100\n",
            "procesando https://api.mercadolibre.com/sites/MLA/search?category=MLA430687&offset=150\n",
            "procesando https://api.mercadolibre.com/sites/MLA/search?category=MLA430687&offset=200\n",
            "procesando https://api.mercadolibre.com/sites/MLA/search?category=MLA430687&offset=250\n",
            "procesando https://api.mercadolibre.com/sites/MLA/search?category=MLA430687&offset=300\n",
            "procesando https://api.mercadolibre.com/sites/MLA/search?category=MLA430687&offset=350\n",
            "procesando https://api.mercadolibre.com/sites/MLA/search?category=MLA430687&offset=400\n",
            "procesando https://api.mercadolibre.com/sites/MLA/search?category=MLA430687&offset=450\n",
            "procesando https://api.mercadolibre.com/sites/MLA/search?category=MLA430687&offset=500\n",
            "procesando https://api.mercadolibre.com/sites/MLA/search?category=MLA430687&offset=550\n",
            "procesando https://api.mercadolibre.com/sites/MLA/search?category=MLA430687&offset=600\n",
            "procesando https://api.mercadolibre.com/sites/MLA/search?category=MLA430687&offset=650\n",
            "procesando https://api.mercadolibre.com/sites/MLA/search?category=MLA430687&offset=700\n",
            "procesando https://api.mercadolibre.com/sites/MLA/search?category=MLA430687&offset=750\n",
            "procesando https://api.mercadolibre.com/sites/MLA/search?category=MLA430687&offset=800\n",
            "procesando https://api.mercadolibre.com/sites/MLA/search?category=MLA430687&offset=850\n",
            "procesando https://api.mercadolibre.com/sites/MLA/search?category=MLA430687&offset=900\n",
            "procesando https://api.mercadolibre.com/sites/MLA/search?category=MLA430687&offset=950\n",
            "procesando https://api.mercadolibre.com/sites/MLA/search?category=MLA430687&offset=1000\n",
            "\n",
            "Procesando categoría MLA7312\n",
            "\n",
            "procesando https://api.mercadolibre.com/sites/MLA/search?category=MLA7312&offset=0\n",
            "Total de resultados: 3859\n",
            "Total de llamadas necesarias: 78\n",
            "\n",
            "procesando https://api.mercadolibre.com/sites/MLA/search?category=MLA7312&offset=50\n",
            "procesando https://api.mercadolibre.com/sites/MLA/search?category=MLA7312&offset=100\n",
            "procesando https://api.mercadolibre.com/sites/MLA/search?category=MLA7312&offset=150\n",
            "procesando https://api.mercadolibre.com/sites/MLA/search?category=MLA7312&offset=200\n",
            "procesando https://api.mercadolibre.com/sites/MLA/search?category=MLA7312&offset=250\n",
            "procesando https://api.mercadolibre.com/sites/MLA/search?category=MLA7312&offset=300\n",
            "procesando https://api.mercadolibre.com/sites/MLA/search?category=MLA7312&offset=350\n",
            "procesando https://api.mercadolibre.com/sites/MLA/search?category=MLA7312&offset=400\n",
            "procesando https://api.mercadolibre.com/sites/MLA/search?category=MLA7312&offset=450\n",
            "procesando https://api.mercadolibre.com/sites/MLA/search?category=MLA7312&offset=500\n",
            "procesando https://api.mercadolibre.com/sites/MLA/search?category=MLA7312&offset=550\n",
            "procesando https://api.mercadolibre.com/sites/MLA/search?category=MLA7312&offset=600\n",
            "procesando https://api.mercadolibre.com/sites/MLA/search?category=MLA7312&offset=650\n",
            "procesando https://api.mercadolibre.com/sites/MLA/search?category=MLA7312&offset=700\n",
            "procesando https://api.mercadolibre.com/sites/MLA/search?category=MLA7312&offset=750\n",
            "procesando https://api.mercadolibre.com/sites/MLA/search?category=MLA7312&offset=800\n",
            "procesando https://api.mercadolibre.com/sites/MLA/search?category=MLA7312&offset=850\n",
            "procesando https://api.mercadolibre.com/sites/MLA/search?category=MLA7312&offset=900\n",
            "procesando https://api.mercadolibre.com/sites/MLA/search?category=MLA7312&offset=950\n",
            "procesando https://api.mercadolibre.com/sites/MLA/search?category=MLA7312&offset=1000\n",
            "\n",
            "Procesando categoría MLA404419\n",
            "\n",
            "procesando https://api.mercadolibre.com/sites/MLA/search?category=MLA404419&offset=0\n",
            "Total de resultados: 3958\n",
            "Total de llamadas necesarias: 80\n",
            "\n",
            "procesando https://api.mercadolibre.com/sites/MLA/search?category=MLA404419&offset=50\n",
            "procesando https://api.mercadolibre.com/sites/MLA/search?category=MLA404419&offset=100\n",
            "procesando https://api.mercadolibre.com/sites/MLA/search?category=MLA404419&offset=150\n",
            "procesando https://api.mercadolibre.com/sites/MLA/search?category=MLA404419&offset=200\n",
            "procesando https://api.mercadolibre.com/sites/MLA/search?category=MLA404419&offset=250\n",
            "procesando https://api.mercadolibre.com/sites/MLA/search?category=MLA404419&offset=300\n",
            "procesando https://api.mercadolibre.com/sites/MLA/search?category=MLA404419&offset=350\n",
            "procesando https://api.mercadolibre.com/sites/MLA/search?category=MLA404419&offset=400\n",
            "procesando https://api.mercadolibre.com/sites/MLA/search?category=MLA404419&offset=450\n",
            "procesando https://api.mercadolibre.com/sites/MLA/search?category=MLA404419&offset=500\n",
            "procesando https://api.mercadolibre.com/sites/MLA/search?category=MLA404419&offset=550\n",
            "procesando https://api.mercadolibre.com/sites/MLA/search?category=MLA404419&offset=600\n",
            "procesando https://api.mercadolibre.com/sites/MLA/search?category=MLA404419&offset=650\n",
            "procesando https://api.mercadolibre.com/sites/MLA/search?category=MLA404419&offset=700\n",
            "procesando https://api.mercadolibre.com/sites/MLA/search?category=MLA404419&offset=750\n",
            "procesando https://api.mercadolibre.com/sites/MLA/search?category=MLA404419&offset=800\n",
            "procesando https://api.mercadolibre.com/sites/MLA/search?category=MLA404419&offset=850\n",
            "procesando https://api.mercadolibre.com/sites/MLA/search?category=MLA404419&offset=900\n",
            "procesando https://api.mercadolibre.com/sites/MLA/search?category=MLA404419&offset=950\n",
            "procesando https://api.mercadolibre.com/sites/MLA/search?category=MLA404419&offset=1000\n",
            "\n",
            "Procesando categoría MLA1055\n",
            "\n",
            "procesando https://api.mercadolibre.com/sites/MLA/search?category=MLA1055&offset=0\n",
            "Total de resultados: 57665\n",
            "Total de llamadas necesarias: 1154\n",
            "\n",
            "procesando https://api.mercadolibre.com/sites/MLA/search?category=MLA1055&offset=50\n",
            "procesando https://api.mercadolibre.com/sites/MLA/search?category=MLA1055&offset=100\n",
            "procesando https://api.mercadolibre.com/sites/MLA/search?category=MLA1055&offset=150\n",
            "procesando https://api.mercadolibre.com/sites/MLA/search?category=MLA1055&offset=200\n",
            "procesando https://api.mercadolibre.com/sites/MLA/search?category=MLA1055&offset=250\n",
            "procesando https://api.mercadolibre.com/sites/MLA/search?category=MLA1055&offset=300\n",
            "procesando https://api.mercadolibre.com/sites/MLA/search?category=MLA1055&offset=350\n",
            "procesando https://api.mercadolibre.com/sites/MLA/search?category=MLA1055&offset=400\n",
            "procesando https://api.mercadolibre.com/sites/MLA/search?category=MLA1055&offset=450\n",
            "procesando https://api.mercadolibre.com/sites/MLA/search?category=MLA1055&offset=500\n",
            "procesando https://api.mercadolibre.com/sites/MLA/search?category=MLA1055&offset=550\n",
            "procesando https://api.mercadolibre.com/sites/MLA/search?category=MLA1055&offset=600\n",
            "procesando https://api.mercadolibre.com/sites/MLA/search?category=MLA1055&offset=650\n",
            "procesando https://api.mercadolibre.com/sites/MLA/search?category=MLA1055&offset=700\n",
            "procesando https://api.mercadolibre.com/sites/MLA/search?category=MLA1055&offset=750\n",
            "procesando https://api.mercadolibre.com/sites/MLA/search?category=MLA1055&offset=800\n",
            "procesando https://api.mercadolibre.com/sites/MLA/search?category=MLA1055&offset=850\n",
            "procesando https://api.mercadolibre.com/sites/MLA/search?category=MLA1055&offset=900\n",
            "procesando https://api.mercadolibre.com/sites/MLA/search?category=MLA1055&offset=950\n",
            "procesando https://api.mercadolibre.com/sites/MLA/search?category=MLA1055&offset=1000\n",
            "\n",
            "Procesando categoría MLA1002\n",
            "\n",
            "procesando https://api.mercadolibre.com/sites/MLA/search?category=MLA1002&offset=0\n",
            "Total de resultados: 11487\n",
            "Total de llamadas necesarias: 230\n",
            "\n",
            "procesando https://api.mercadolibre.com/sites/MLA/search?category=MLA1002&offset=50\n",
            "procesando https://api.mercadolibre.com/sites/MLA/search?category=MLA1002&offset=100\n",
            "procesando https://api.mercadolibre.com/sites/MLA/search?category=MLA1002&offset=150\n",
            "procesando https://api.mercadolibre.com/sites/MLA/search?category=MLA1002&offset=200\n",
            "procesando https://api.mercadolibre.com/sites/MLA/search?category=MLA1002&offset=250\n",
            "procesando https://api.mercadolibre.com/sites/MLA/search?category=MLA1002&offset=300\n",
            "procesando https://api.mercadolibre.com/sites/MLA/search?category=MLA1002&offset=350\n",
            "procesando https://api.mercadolibre.com/sites/MLA/search?category=MLA1002&offset=400\n",
            "procesando https://api.mercadolibre.com/sites/MLA/search?category=MLA1002&offset=450\n",
            "procesando https://api.mercadolibre.com/sites/MLA/search?category=MLA1002&offset=500\n",
            "procesando https://api.mercadolibre.com/sites/MLA/search?category=MLA1002&offset=550\n",
            "procesando https://api.mercadolibre.com/sites/MLA/search?category=MLA1002&offset=600\n",
            "procesando https://api.mercadolibre.com/sites/MLA/search?category=MLA1002&offset=650\n",
            "procesando https://api.mercadolibre.com/sites/MLA/search?category=MLA1002&offset=700\n",
            "procesando https://api.mercadolibre.com/sites/MLA/search?category=MLA1002&offset=750\n",
            "procesando https://api.mercadolibre.com/sites/MLA/search?category=MLA1002&offset=800\n",
            "procesando https://api.mercadolibre.com/sites/MLA/search?category=MLA1002&offset=850\n",
            "procesando https://api.mercadolibre.com/sites/MLA/search?category=MLA1002&offset=900\n",
            "procesando https://api.mercadolibre.com/sites/MLA/search?category=MLA1002&offset=950\n",
            "procesando https://api.mercadolibre.com/sites/MLA/search?category=MLA1002&offset=1000\n",
            "\n",
            "\n",
            "Listo\n"
          ],
          "name": "stdout"
        }
      ]
    },
    {
      "cell_type": "markdown",
      "metadata": {
        "id": "AgGvHHMMY_OI"
      },
      "source": [
        "## Un poco de limpieza teniendo en cuenta el análisis preliminar"
      ]
    },
    {
      "cell_type": "code",
      "metadata": {
        "id": "qdvM3zt-Y3qQ"
      },
      "source": [
        "# Reemplazamos cadenas vacías por nan.\n",
        "dataset.replace('', np.nan, inplace=True)\n",
        "\n",
        "# Dropeamos columnas con todos valores vacíos\n",
        "dataset.dropna(axis=1, how='all', inplace=True)\n",
        "\n",
        "# Dropeamos columnas con todos valores constantes\n",
        "dataset = dataset.loc[:, (dataset != dataset.iloc[0]).any()]\n",
        "\n",
        "# Dropeamos las variables asociadas a URL's\n",
        "dataset.drop(['seller_permalink', 'seller_eshop_eshop_logo_url', 'permalink', \n",
        "              'thumbnail', 'seller_car_dealer_logo', 'seller_home_image_url'],\n",
        "             axis=1, inplace=True)\n",
        "\n",
        "# Nos quedamos con las variables que parecieran relevantes para un análisis preliminar.\n",
        "# TODO, revisar las variables de atributos para parsearlas correctamente.\n",
        "dataset = dataset[['seller_registration_date', 'seller_car_dealer', 'seller_eshop_eshop_status_id',\n",
        "                   'seller_seller_reputation_transactions_total', 'seller_seller_reputation_transactions_canceled',\n",
        "                   'seller_seller_reputation_transactions_ratings_negative',\n",
        "                   'seller_seller_reputation_transactions_ratings_positive',\n",
        "                   'seller_seller_reputation_transactions_ratings_neutral',\n",
        "                   'seller_seller_reputation_transactions_completed', 'seller_seller_reputation_power_seller_status',\n",
        "                   'seller_seller_reputation_metrics_claims_rate', 'seller_seller_reputation_metrics_claims_value',\n",
        "                   'seller_seller_reputation_metrics_delayed_handling_time_rate',\n",
        "                   'seller_seller_reputation_metrics_delayed_handling_time_value',\n",
        "                   'seller_seller_reputation_metrics_sales_completed',\n",
        "                   'seller_seller_reputation_metrics_cancellations_rate',\n",
        "                   'seller_seller_reputation_metrics_cancellations_value', 'seller_seller_reputation_level_id', 'price',\n",
        "                   'currency_id', 'available_quantity', 'sold_quantity', 'buying_mode', 'listing_type_id', 'condition',\n",
        "                   'installments_quantity', 'installments_amount', 'installments_rate', 'shipping_free_shipping',\n",
        "                   'shipping_mode', 'seller_address_state_name', 'original_price', 'official_store_id', 'domain_id',\n",
        "                   'category_name', 'seller_seller_reputation_metrics_claims_excluded_real_rate',\n",
        "                   'seller_seller_reputation_metrics_claims_excluded_real_value',\n",
        "                   'seller_seller_reputation_metrics_delayed_handling_time_excluded_real_rate',\n",
        "                   'seller_seller_reputation_metrics_delayed_handling_time_excluded_real_value',\n",
        "                   'seller_seller_reputation_metrics_cancellations_excluded_real_rate',\n",
        "                   'seller_seller_reputation_metrics_cancellations_excluded_real_value',\n",
        "                   'seller_seller_reputation_real_level', 'seller_eshop_eshop_rubro_name']]\n",
        "\n",
        "# Antigüedad del vendedor\n",
        "dataset['seller_registration_date'] = pd.to_datetime(dataset['seller_registration_date']).dt.tz_localize(None).dt.normalize()\n",
        "dataset['seller_year_aprox'] = round((pd.to_datetime('now').normalize() - dataset['seller_registration_date']).dt.days.fillna(0) / 360).astype('int32')\n",
        "\n",
        "# Marca de tienda oficial?\n",
        "dataset['flag_official_store'] = np.where(dataset['official_store_id'].fillna(0) == 0, 'No', 'Si')\n",
        "\n",
        "# Borramos lo que ya no sirve\n",
        "dataset.drop(['seller_registration_date', 'official_store_id'], axis=1, inplace=True)"
      ],
      "execution_count": 7,
      "outputs": []
    },
    {
      "cell_type": "markdown",
      "metadata": {
        "id": "MqbLvXPBcZpL"
      },
      "source": [
        "## Separamos el target"
      ]
    },
    {
      "cell_type": "code",
      "metadata": {
        "id": "ygQvVl18bW9k"
      },
      "source": [
        "data = dataset.loc[:, dataset.columns != 'sold_quantity']\n",
        "target = dataset.loc[:, dataset.columns == 'sold_quantity'].rename(columns={'sold_quantity': 'target'})"
      ],
      "execution_count": 24,
      "outputs": []
    },
    {
      "cell_type": "markdown",
      "metadata": {
        "id": "elEkkF2JgWu8"
      },
      "source": [
        "## Removemos variables correlacionadas"
      ]
    },
    {
      "cell_type": "code",
      "metadata": {
        "id": "ZZs2zN9odVl_",
        "outputId": "4e00b46f-34be-4b13-e6a9-9be087764226",
        "colab": {
          "base_uri": "https://localhost:8080/"
        }
      },
      "source": [
        "data_num = data.select_dtypes(include='number').fillna(0)\n",
        "data_cat = data.select_dtypes(exclude='number')\n",
        "\n",
        "# Matriz de correlaciones\n",
        "print('Forma antes: {}'.format(data_num.shape))\n",
        "data_corr = data_num.corr().abs()\n",
        "upper = data_corr.where(np.triu(np.ones(data_corr.shape), k=1).astype(np.bool))\n",
        "to_drop = [column for column in upper.columns if any(upper[column] > 0.75)]\n",
        "data_num.drop(data_num[to_drop], axis=1, inplace=True)\n",
        "print('Forma luego: {}'.format(data_num.shape))"
      ],
      "execution_count": 35,
      "outputs": [
        {
          "output_type": "stream",
          "text": [
            "Forma antes: (10441, 27)\n",
            "Forma luego: (10441, 21)\n"
          ],
          "name": "stdout"
        }
      ]
    },
    {
      "cell_type": "markdown",
      "metadata": {
        "id": "jgayki15h4qU"
      },
      "source": [
        "## Codificamos variables categóricas"
      ]
    },
    {
      "cell_type": "code",
      "metadata": {
        "id": "8kZaddF9iAQz"
      },
      "source": [
        "enc = OneHotEncoder(handle_unknown=\"ignore\", sparse=False)\n",
        "gender = pd.DataFrame(enc.fit_transform(gender[\"legislador_genero\"].values.reshape(-1, 1)),\n",
        "                      columns=enc.get_feature_names([\"legislador_genero\"]), index=gender.index)"
      ],
      "execution_count": null,
      "outputs": []
    }
  ]
}