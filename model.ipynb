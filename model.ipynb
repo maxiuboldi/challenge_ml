{
  "nbformat": 4,
  "nbformat_minor": 0,
  "metadata": {
    "colab": {
      "name": "model.ipynb",
      "provenance": [],
      "collapsed_sections": [],
      "authorship_tag": "ABX9TyN+6igkbuv9F5Diz+JD9lus",
      "include_colab_link": true
    },
    "kernelspec": {
      "name": "python3",
      "display_name": "Python 3"
    }
  },
  "cells": [
    {
      "cell_type": "markdown",
      "metadata": {
        "id": "view-in-github",
        "colab_type": "text"
      },
      "source": [
        "<a href=\"https://colab.research.google.com/github/maxiuboldi/challenge_ml/blob/main/model.ipynb\" target=\"_parent\"><img src=\"https://colab.research.google.com/assets/colab-badge.svg\" alt=\"Open In Colab\"/></a>"
      ]
    },
    {
      "cell_type": "markdown",
      "metadata": {
        "id": "PdHcRMwYX_G4"
      },
      "source": [
        "#Data Science Challenge Mercado Libre - BI Team"
      ]
    },
    {
      "cell_type": "markdown",
      "metadata": {
        "id": "-N-iNn8vX7GI"
      },
      "source": [
        "## Instalar dependencias"
      ]
    },
    {
      "cell_type": "code",
      "metadata": {
        "id": "BEN91rg4XvBN",
        "outputId": "4941f044-6d5f-480e-d22e-ea6e1ec08a1d",
        "colab": {
          "base_uri": "https://localhost:8080/"
        }
      },
      "source": [
        "!pip install cherrypicker"
      ],
      "execution_count": 1,
      "outputs": [
        {
          "output_type": "stream",
          "text": [
            "Requirement already satisfied: cherrypicker in /usr/local/lib/python3.6/dist-packages (0.3.1)\n",
            "Requirement already satisfied: joblib>=0.13.0 in /usr/local/lib/python3.6/dist-packages (from cherrypicker) (0.17.0)\n"
          ],
          "name": "stdout"
        }
      ]
    },
    {
      "cell_type": "markdown",
      "metadata": {
        "id": "Eoxz63btYJMJ"
      },
      "source": [
        "## Importar librerias"
      ]
    },
    {
      "cell_type": "code",
      "metadata": {
        "id": "i08P36kRYKS-"
      },
      "source": [
        "import urllib.request\n",
        "import urllib.parse\n",
        "import json\n",
        "import pandas as pd\n",
        "import numpy as np\n",
        "from math import ceil\n",
        "from cherrypicker import CherryPicker\n",
        "from time import sleep\n",
        "import gc\n",
        "from sklearn.preprocessing import OneHotEncoder\n",
        "from sklearn.model_selection import train_test_split\n",
        "from lightgbm import LGBMRegressor, LGBMClassifier\n",
        "from sklearn.model_selection import KFold, StratifiedKFold\n",
        "from sklearn.metrics import mean_absolute_error, mean_squared_error, r2_score, roc_curve, roc_auc_score, classification_report, confusion_matrix, accuracy_score\n",
        "import seaborn as sns \n",
        "import matplotlib.pyplot as plt"
      ],
      "execution_count": 2,
      "outputs": []
    },
    {
      "cell_type": "markdown",
      "metadata": {
        "id": "5CDEXimGYNvQ"
      },
      "source": [
        "## Contantes"
      ]
    },
    {
      "cell_type": "code",
      "metadata": {
        "id": "CDeYOfC8YPIz"
      },
      "source": [
        "# API ML\n",
        "URL_CATEGORIES = 'https://api.mercadolibre.com/sites/MLA/categories'\n",
        "URL_CHILD_CATEGORIES = 'https://api.mercadolibre.com/categories/'\n",
        "URL_SEARCH = 'https://api.mercadolibre.com/sites/MLA/search?'\n",
        "LIMIT_CALLS = 1050 / 50\n",
        "SLEEP = 0  # No encontré en la documentación límites, pero por las dudas...\n",
        "\n",
        "# Modelo\n",
        "SEED = 8888\n",
        "K_FOLD = 10\n",
        "TEST_SIZE = 0.20\n",
        "\n",
        "# Opciones de Pandas\n",
        "pd_options = {\n",
        "'display.max_rows': None,\n",
        "'display.max_columns': None,\n",
        "'display.width': None,\n",
        "'display.float_format': '{:.2f}'.format\n",
        "}\n",
        "[pd.set_option(option, setting) for option, setting in pd_options.items()]\n",
        "\n",
        "# Otras opciones\n",
        "plt.rcParams['figure.figsize'] = (24, 12)\n",
        "sns.set()"
      ],
      "execution_count": 3,
      "outputs": []
    },
    {
      "cell_type": "markdown",
      "metadata": {
        "id": "vcgjCmNsYhwp"
      },
      "source": [
        "## Descarga de categorías"
      ]
    },
    {
      "cell_type": "code",
      "metadata": {
        "id": "pSz5TsmXYiAs",
        "outputId": "9e5d7815-8a98-4ac1-bca0-5d5dd7cdfba7",
        "colab": {
          "base_uri": "https://localhost:8080/"
        }
      },
      "source": [
        "print('Descargando categorías {}\\n'.format(URL_CATEGORIES))\n",
        "with urllib.request.urlopen(URL_CATEGORIES) as handler:\n",
        "    categories = json.loads(handler.read())\n",
        "sleep(SLEEP)\n",
        "\n",
        "categories_list = []\n",
        "for category in categories:\n",
        "    url_categorie = URL_CHILD_CATEGORIES + category.get('id')\n",
        "    print('Descargando sub categorías {}'.format(url_categorie))\n",
        "    with urllib.request.urlopen(url_categorie) as handler:\n",
        "        category_detail = json.loads(handler.read())\n",
        "        for detalle in category_detail.get('children_categories'):\n",
        "            categories_list.append(detalle)\n",
        "    sleep(SLEEP)\n",
        "\n",
        "categories_df = pd.DataFrame(categories_list)\n",
        "categories_df.set_index('id', inplace=True)\n",
        "\n",
        "print('\\nListo')"
      ],
      "execution_count": 4,
      "outputs": [
        {
          "output_type": "stream",
          "text": [
            "Descargando categorías https://api.mercadolibre.com/sites/MLA/categories\n",
            "\n",
            "Descargando sub categorías https://api.mercadolibre.com/categories/MLA5725\n",
            "Descargando sub categorías https://api.mercadolibre.com/categories/MLA1512\n",
            "Descargando sub categorías https://api.mercadolibre.com/categories/MLA1403\n",
            "Descargando sub categorías https://api.mercadolibre.com/categories/MLA1071\n",
            "Descargando sub categorías https://api.mercadolibre.com/categories/MLA1367\n",
            "Descargando sub categorías https://api.mercadolibre.com/categories/MLA1368\n",
            "Descargando sub categorías https://api.mercadolibre.com/categories/MLA1743\n",
            "Descargando sub categorías https://api.mercadolibre.com/categories/MLA1384\n",
            "Descargando sub categorías https://api.mercadolibre.com/categories/MLA1246\n",
            "Descargando sub categorías https://api.mercadolibre.com/categories/MLA1039\n",
            "Descargando sub categorías https://api.mercadolibre.com/categories/MLA1051\n",
            "Descargando sub categorías https://api.mercadolibre.com/categories/MLA1648\n",
            "Descargando sub categorías https://api.mercadolibre.com/categories/MLA1144\n",
            "Descargando sub categorías https://api.mercadolibre.com/categories/MLA1276\n",
            "Descargando sub categorías https://api.mercadolibre.com/categories/MLA5726\n",
            "Descargando sub categorías https://api.mercadolibre.com/categories/MLA1000\n",
            "Descargando sub categorías https://api.mercadolibre.com/categories/MLA2547\n",
            "Descargando sub categorías https://api.mercadolibre.com/categories/MLA407134\n",
            "Descargando sub categorías https://api.mercadolibre.com/categories/MLA1574\n",
            "Descargando sub categorías https://api.mercadolibre.com/categories/MLA1499\n",
            "Descargando sub categorías https://api.mercadolibre.com/categories/MLA1459\n",
            "Descargando sub categorías https://api.mercadolibre.com/categories/MLA1182\n",
            "Descargando sub categorías https://api.mercadolibre.com/categories/MLA3937\n",
            "Descargando sub categorías https://api.mercadolibre.com/categories/MLA1132\n",
            "Descargando sub categorías https://api.mercadolibre.com/categories/MLA3025\n",
            "Descargando sub categorías https://api.mercadolibre.com/categories/MLA1168\n",
            "Descargando sub categorías https://api.mercadolibre.com/categories/MLA1430\n",
            "Descargando sub categorías https://api.mercadolibre.com/categories/MLA409431\n",
            "Descargando sub categorías https://api.mercadolibre.com/categories/MLA1540\n",
            "Descargando sub categorías https://api.mercadolibre.com/categories/MLA9304\n",
            "Descargando sub categorías https://api.mercadolibre.com/categories/MLA1953\n",
            "\n",
            "Listo\n"
          ],
          "name": "stdout"
        }
      ]
    },
    {
      "cell_type": "markdown",
      "metadata": {
        "id": "P-Il383MYuKg"
      },
      "source": [
        "## Muestreo de categorías adicionales y descarga de datos"
      ]
    },
    {
      "cell_type": "code",
      "metadata": {
        "id": "lDMeV2f4YvBJ",
        "outputId": "3001fc5d-6329-44f2-d854-d955dac66404",
        "colab": {
          "base_uri": "https://localhost:8080/"
        }
      },
      "source": [
        "print('\\nMuestreando categorías')\n",
        "categories_search_dict = categories_df[~categories_df['name'].str.lower().str.contains(\n",
        "    r'tvs|smartphones')]['name'].sample(8, random_state=8888).to_dict()\n",
        "categories_search_dict.update(categories_df[categories_df['name'].str.lower().str.contains(r'tvs|smartphones')]['name'])\n",
        "\n",
        "print('Categorías seleccionadas')\n",
        "for category, name in categories_search_dict.items():\n",
        "    print(category, ': ', name)\n",
        "\n",
        "print('Descargando resultados de búsqueda\\n')\n",
        "results_list = []\n",
        "for category, name in categories_search_dict.items():\n",
        "    print('Procesando categoría {}\\n'.format(category))\n",
        "    current_call = 0\n",
        "    # La API sólo permite pasar un offset hasta 1.000, que devuelve un máximo de 1.050 artículos\n",
        "    # con un máximo de 21 llamadas.\n",
        "    for offset in range(0, 1050, 50):\n",
        "        current_call += 1\n",
        "        url_search_category = URL_SEARCH + urllib.parse.urlencode({'category': category, 'offset': offset})\n",
        "        print('procesando {}'.format(url_search_category))\n",
        "        with urllib.request.urlopen(url_search_category) as handler:\n",
        "            search_result = json.loads(handler.read())\n",
        "            total = search_result['paging'].get('total')\n",
        "            if current_call == 1:\n",
        "                print('Total de resultados: {}'.format(total))\n",
        "            if total == 0:  # Por las dudas, hay categorías sin productos que pudieran salir del aleatorio\n",
        "                break\n",
        "            calls = ceil(total / 50)\n",
        "            if current_call == 1:\n",
        "                print('Total de llamadas necesarias: {}\\n'.format(calls))\n",
        "            results = search_result['results']\n",
        "            for result in results:\n",
        "                picker = CherryPicker(result)\n",
        "                picker_dict = picker.flatten().get()\n",
        "                picker_dict.update({'category_name': name})\n",
        "                results_list.append(picker_dict)\n",
        "            if current_call == calls:  # Si no hace falta llamar más, cortamos.\n",
        "                break\n",
        "            sleep(SLEEP)\n",
        "    print('')\n",
        "\n",
        "dataset = pd.DataFrame(results_list)\n",
        "dataset.set_index('id', inplace=True)\n",
        "\n",
        "del results_list, categories_search_dict, categories_list\n",
        "gc.collect()\n",
        "\n",
        "print('\\nListo')"
      ],
      "execution_count": 5,
      "outputs": [
        {
          "output_type": "stream",
          "text": [
            "\n",
            "Muestreando categorías\n",
            "Categorías seleccionadas\n",
            "MLA1912 :  Otros\n",
            "MLA1228 :  Otros\n",
            "MLA385177 :  Climatización\n",
            "MLA1700 :  Conectividad y Redes\n",
            "MLA7841 :  Series de TV\n",
            "MLA430687 :  Laptops y Accesorios\n",
            "MLA7312 :  Maquinaria Agrícola\n",
            "MLA404419 :  Insumos para Joyería\n",
            "MLA1055 :  Celulares y Smartphones\n",
            "MLA1002 :  TVs\n",
            "Descargando resultados de búsqueda\n",
            "\n",
            "Procesando categoría MLA1912\n",
            "\n",
            "procesando https://api.mercadolibre.com/sites/MLA/search?category=MLA1912&offset=0\n",
            "Total de resultados: 7387\n",
            "Total de llamadas necesarias: 148\n",
            "\n",
            "procesando https://api.mercadolibre.com/sites/MLA/search?category=MLA1912&offset=50\n",
            "procesando https://api.mercadolibre.com/sites/MLA/search?category=MLA1912&offset=100\n",
            "procesando https://api.mercadolibre.com/sites/MLA/search?category=MLA1912&offset=150\n",
            "procesando https://api.mercadolibre.com/sites/MLA/search?category=MLA1912&offset=200\n",
            "procesando https://api.mercadolibre.com/sites/MLA/search?category=MLA1912&offset=250\n",
            "procesando https://api.mercadolibre.com/sites/MLA/search?category=MLA1912&offset=300\n",
            "procesando https://api.mercadolibre.com/sites/MLA/search?category=MLA1912&offset=350\n",
            "procesando https://api.mercadolibre.com/sites/MLA/search?category=MLA1912&offset=400\n",
            "procesando https://api.mercadolibre.com/sites/MLA/search?category=MLA1912&offset=450\n",
            "procesando https://api.mercadolibre.com/sites/MLA/search?category=MLA1912&offset=500\n",
            "procesando https://api.mercadolibre.com/sites/MLA/search?category=MLA1912&offset=550\n",
            "procesando https://api.mercadolibre.com/sites/MLA/search?category=MLA1912&offset=600\n",
            "procesando https://api.mercadolibre.com/sites/MLA/search?category=MLA1912&offset=650\n",
            "procesando https://api.mercadolibre.com/sites/MLA/search?category=MLA1912&offset=700\n",
            "procesando https://api.mercadolibre.com/sites/MLA/search?category=MLA1912&offset=750\n",
            "procesando https://api.mercadolibre.com/sites/MLA/search?category=MLA1912&offset=800\n",
            "procesando https://api.mercadolibre.com/sites/MLA/search?category=MLA1912&offset=850\n",
            "procesando https://api.mercadolibre.com/sites/MLA/search?category=MLA1912&offset=900\n",
            "procesando https://api.mercadolibre.com/sites/MLA/search?category=MLA1912&offset=950\n",
            "procesando https://api.mercadolibre.com/sites/MLA/search?category=MLA1912&offset=1000\n",
            "\n",
            "Procesando categoría MLA1228\n",
            "\n",
            "procesando https://api.mercadolibre.com/sites/MLA/search?category=MLA1228&offset=0\n",
            "Total de resultados: 23407\n",
            "Total de llamadas necesarias: 469\n",
            "\n",
            "procesando https://api.mercadolibre.com/sites/MLA/search?category=MLA1228&offset=50\n",
            "procesando https://api.mercadolibre.com/sites/MLA/search?category=MLA1228&offset=100\n",
            "procesando https://api.mercadolibre.com/sites/MLA/search?category=MLA1228&offset=150\n",
            "procesando https://api.mercadolibre.com/sites/MLA/search?category=MLA1228&offset=200\n",
            "procesando https://api.mercadolibre.com/sites/MLA/search?category=MLA1228&offset=250\n",
            "procesando https://api.mercadolibre.com/sites/MLA/search?category=MLA1228&offset=300\n",
            "procesando https://api.mercadolibre.com/sites/MLA/search?category=MLA1228&offset=350\n",
            "procesando https://api.mercadolibre.com/sites/MLA/search?category=MLA1228&offset=400\n",
            "procesando https://api.mercadolibre.com/sites/MLA/search?category=MLA1228&offset=450\n",
            "procesando https://api.mercadolibre.com/sites/MLA/search?category=MLA1228&offset=500\n",
            "procesando https://api.mercadolibre.com/sites/MLA/search?category=MLA1228&offset=550\n",
            "procesando https://api.mercadolibre.com/sites/MLA/search?category=MLA1228&offset=600\n",
            "procesando https://api.mercadolibre.com/sites/MLA/search?category=MLA1228&offset=650\n",
            "procesando https://api.mercadolibre.com/sites/MLA/search?category=MLA1228&offset=700\n",
            "procesando https://api.mercadolibre.com/sites/MLA/search?category=MLA1228&offset=750\n",
            "procesando https://api.mercadolibre.com/sites/MLA/search?category=MLA1228&offset=800\n",
            "procesando https://api.mercadolibre.com/sites/MLA/search?category=MLA1228&offset=850\n",
            "procesando https://api.mercadolibre.com/sites/MLA/search?category=MLA1228&offset=900\n",
            "procesando https://api.mercadolibre.com/sites/MLA/search?category=MLA1228&offset=950\n",
            "procesando https://api.mercadolibre.com/sites/MLA/search?category=MLA1228&offset=1000\n",
            "\n",
            "Procesando categoría MLA385177\n",
            "\n",
            "procesando https://api.mercadolibre.com/sites/MLA/search?category=MLA385177&offset=0\n",
            "Total de resultados: 73693\n",
            "Total de llamadas necesarias: 1474\n",
            "\n",
            "procesando https://api.mercadolibre.com/sites/MLA/search?category=MLA385177&offset=50\n",
            "procesando https://api.mercadolibre.com/sites/MLA/search?category=MLA385177&offset=100\n",
            "procesando https://api.mercadolibre.com/sites/MLA/search?category=MLA385177&offset=150\n",
            "procesando https://api.mercadolibre.com/sites/MLA/search?category=MLA385177&offset=200\n",
            "procesando https://api.mercadolibre.com/sites/MLA/search?category=MLA385177&offset=250\n",
            "procesando https://api.mercadolibre.com/sites/MLA/search?category=MLA385177&offset=300\n",
            "procesando https://api.mercadolibre.com/sites/MLA/search?category=MLA385177&offset=350\n",
            "procesando https://api.mercadolibre.com/sites/MLA/search?category=MLA385177&offset=400\n",
            "procesando https://api.mercadolibre.com/sites/MLA/search?category=MLA385177&offset=450\n",
            "procesando https://api.mercadolibre.com/sites/MLA/search?category=MLA385177&offset=500\n",
            "procesando https://api.mercadolibre.com/sites/MLA/search?category=MLA385177&offset=550\n",
            "procesando https://api.mercadolibre.com/sites/MLA/search?category=MLA385177&offset=600\n",
            "procesando https://api.mercadolibre.com/sites/MLA/search?category=MLA385177&offset=650\n",
            "procesando https://api.mercadolibre.com/sites/MLA/search?category=MLA385177&offset=700\n",
            "procesando https://api.mercadolibre.com/sites/MLA/search?category=MLA385177&offset=750\n",
            "procesando https://api.mercadolibre.com/sites/MLA/search?category=MLA385177&offset=800\n",
            "procesando https://api.mercadolibre.com/sites/MLA/search?category=MLA385177&offset=850\n",
            "procesando https://api.mercadolibre.com/sites/MLA/search?category=MLA385177&offset=900\n",
            "procesando https://api.mercadolibre.com/sites/MLA/search?category=MLA385177&offset=950\n",
            "procesando https://api.mercadolibre.com/sites/MLA/search?category=MLA385177&offset=1000\n",
            "\n",
            "Procesando categoría MLA1700\n",
            "\n",
            "procesando https://api.mercadolibre.com/sites/MLA/search?category=MLA1700&offset=0\n",
            "Total de resultados: 56988\n",
            "Total de llamadas necesarias: 1140\n",
            "\n",
            "procesando https://api.mercadolibre.com/sites/MLA/search?category=MLA1700&offset=50\n",
            "procesando https://api.mercadolibre.com/sites/MLA/search?category=MLA1700&offset=100\n",
            "procesando https://api.mercadolibre.com/sites/MLA/search?category=MLA1700&offset=150\n",
            "procesando https://api.mercadolibre.com/sites/MLA/search?category=MLA1700&offset=200\n",
            "procesando https://api.mercadolibre.com/sites/MLA/search?category=MLA1700&offset=250\n",
            "procesando https://api.mercadolibre.com/sites/MLA/search?category=MLA1700&offset=300\n",
            "procesando https://api.mercadolibre.com/sites/MLA/search?category=MLA1700&offset=350\n",
            "procesando https://api.mercadolibre.com/sites/MLA/search?category=MLA1700&offset=400\n",
            "procesando https://api.mercadolibre.com/sites/MLA/search?category=MLA1700&offset=450\n",
            "procesando https://api.mercadolibre.com/sites/MLA/search?category=MLA1700&offset=500\n",
            "procesando https://api.mercadolibre.com/sites/MLA/search?category=MLA1700&offset=550\n",
            "procesando https://api.mercadolibre.com/sites/MLA/search?category=MLA1700&offset=600\n",
            "procesando https://api.mercadolibre.com/sites/MLA/search?category=MLA1700&offset=650\n",
            "procesando https://api.mercadolibre.com/sites/MLA/search?category=MLA1700&offset=700\n",
            "procesando https://api.mercadolibre.com/sites/MLA/search?category=MLA1700&offset=750\n",
            "procesando https://api.mercadolibre.com/sites/MLA/search?category=MLA1700&offset=800\n",
            "procesando https://api.mercadolibre.com/sites/MLA/search?category=MLA1700&offset=850\n",
            "procesando https://api.mercadolibre.com/sites/MLA/search?category=MLA1700&offset=900\n",
            "procesando https://api.mercadolibre.com/sites/MLA/search?category=MLA1700&offset=950\n",
            "procesando https://api.mercadolibre.com/sites/MLA/search?category=MLA1700&offset=1000\n",
            "\n",
            "Procesando categoría MLA7841\n",
            "\n",
            "procesando https://api.mercadolibre.com/sites/MLA/search?category=MLA7841&offset=0\n",
            "Total de resultados: 17640\n",
            "Total de llamadas necesarias: 353\n",
            "\n",
            "procesando https://api.mercadolibre.com/sites/MLA/search?category=MLA7841&offset=50\n",
            "procesando https://api.mercadolibre.com/sites/MLA/search?category=MLA7841&offset=100\n",
            "procesando https://api.mercadolibre.com/sites/MLA/search?category=MLA7841&offset=150\n",
            "procesando https://api.mercadolibre.com/sites/MLA/search?category=MLA7841&offset=200\n",
            "procesando https://api.mercadolibre.com/sites/MLA/search?category=MLA7841&offset=250\n",
            "procesando https://api.mercadolibre.com/sites/MLA/search?category=MLA7841&offset=300\n",
            "procesando https://api.mercadolibre.com/sites/MLA/search?category=MLA7841&offset=350\n",
            "procesando https://api.mercadolibre.com/sites/MLA/search?category=MLA7841&offset=400\n",
            "procesando https://api.mercadolibre.com/sites/MLA/search?category=MLA7841&offset=450\n",
            "procesando https://api.mercadolibre.com/sites/MLA/search?category=MLA7841&offset=500\n",
            "procesando https://api.mercadolibre.com/sites/MLA/search?category=MLA7841&offset=550\n",
            "procesando https://api.mercadolibre.com/sites/MLA/search?category=MLA7841&offset=600\n",
            "procesando https://api.mercadolibre.com/sites/MLA/search?category=MLA7841&offset=650\n",
            "procesando https://api.mercadolibre.com/sites/MLA/search?category=MLA7841&offset=700\n",
            "procesando https://api.mercadolibre.com/sites/MLA/search?category=MLA7841&offset=750\n",
            "procesando https://api.mercadolibre.com/sites/MLA/search?category=MLA7841&offset=800\n",
            "procesando https://api.mercadolibre.com/sites/MLA/search?category=MLA7841&offset=850\n",
            "procesando https://api.mercadolibre.com/sites/MLA/search?category=MLA7841&offset=900\n",
            "procesando https://api.mercadolibre.com/sites/MLA/search?category=MLA7841&offset=950\n",
            "procesando https://api.mercadolibre.com/sites/MLA/search?category=MLA7841&offset=1000\n",
            "\n",
            "Procesando categoría MLA430687\n",
            "\n",
            "procesando https://api.mercadolibre.com/sites/MLA/search?category=MLA430687&offset=0\n",
            "Total de resultados: 173572\n",
            "Total de llamadas necesarias: 3472\n",
            "\n",
            "procesando https://api.mercadolibre.com/sites/MLA/search?category=MLA430687&offset=50\n",
            "procesando https://api.mercadolibre.com/sites/MLA/search?category=MLA430687&offset=100\n",
            "procesando https://api.mercadolibre.com/sites/MLA/search?category=MLA430687&offset=150\n",
            "procesando https://api.mercadolibre.com/sites/MLA/search?category=MLA430687&offset=200\n",
            "procesando https://api.mercadolibre.com/sites/MLA/search?category=MLA430687&offset=250\n",
            "procesando https://api.mercadolibre.com/sites/MLA/search?category=MLA430687&offset=300\n",
            "procesando https://api.mercadolibre.com/sites/MLA/search?category=MLA430687&offset=350\n",
            "procesando https://api.mercadolibre.com/sites/MLA/search?category=MLA430687&offset=400\n",
            "procesando https://api.mercadolibre.com/sites/MLA/search?category=MLA430687&offset=450\n",
            "procesando https://api.mercadolibre.com/sites/MLA/search?category=MLA430687&offset=500\n",
            "procesando https://api.mercadolibre.com/sites/MLA/search?category=MLA430687&offset=550\n",
            "procesando https://api.mercadolibre.com/sites/MLA/search?category=MLA430687&offset=600\n",
            "procesando https://api.mercadolibre.com/sites/MLA/search?category=MLA430687&offset=650\n",
            "procesando https://api.mercadolibre.com/sites/MLA/search?category=MLA430687&offset=700\n",
            "procesando https://api.mercadolibre.com/sites/MLA/search?category=MLA430687&offset=750\n",
            "procesando https://api.mercadolibre.com/sites/MLA/search?category=MLA430687&offset=800\n",
            "procesando https://api.mercadolibre.com/sites/MLA/search?category=MLA430687&offset=850\n",
            "procesando https://api.mercadolibre.com/sites/MLA/search?category=MLA430687&offset=900\n",
            "procesando https://api.mercadolibre.com/sites/MLA/search?category=MLA430687&offset=950\n",
            "procesando https://api.mercadolibre.com/sites/MLA/search?category=MLA430687&offset=1000\n",
            "\n",
            "Procesando categoría MLA7312\n",
            "\n",
            "procesando https://api.mercadolibre.com/sites/MLA/search?category=MLA7312&offset=0\n",
            "Total de resultados: 3845\n",
            "Total de llamadas necesarias: 77\n",
            "\n",
            "procesando https://api.mercadolibre.com/sites/MLA/search?category=MLA7312&offset=50\n",
            "procesando https://api.mercadolibre.com/sites/MLA/search?category=MLA7312&offset=100\n",
            "procesando https://api.mercadolibre.com/sites/MLA/search?category=MLA7312&offset=150\n",
            "procesando https://api.mercadolibre.com/sites/MLA/search?category=MLA7312&offset=200\n",
            "procesando https://api.mercadolibre.com/sites/MLA/search?category=MLA7312&offset=250\n",
            "procesando https://api.mercadolibre.com/sites/MLA/search?category=MLA7312&offset=300\n",
            "procesando https://api.mercadolibre.com/sites/MLA/search?category=MLA7312&offset=350\n",
            "procesando https://api.mercadolibre.com/sites/MLA/search?category=MLA7312&offset=400\n",
            "procesando https://api.mercadolibre.com/sites/MLA/search?category=MLA7312&offset=450\n",
            "procesando https://api.mercadolibre.com/sites/MLA/search?category=MLA7312&offset=500\n",
            "procesando https://api.mercadolibre.com/sites/MLA/search?category=MLA7312&offset=550\n",
            "procesando https://api.mercadolibre.com/sites/MLA/search?category=MLA7312&offset=600\n",
            "procesando https://api.mercadolibre.com/sites/MLA/search?category=MLA7312&offset=650\n",
            "procesando https://api.mercadolibre.com/sites/MLA/search?category=MLA7312&offset=700\n",
            "procesando https://api.mercadolibre.com/sites/MLA/search?category=MLA7312&offset=750\n",
            "procesando https://api.mercadolibre.com/sites/MLA/search?category=MLA7312&offset=800\n",
            "procesando https://api.mercadolibre.com/sites/MLA/search?category=MLA7312&offset=850\n",
            "procesando https://api.mercadolibre.com/sites/MLA/search?category=MLA7312&offset=900\n",
            "procesando https://api.mercadolibre.com/sites/MLA/search?category=MLA7312&offset=950\n",
            "procesando https://api.mercadolibre.com/sites/MLA/search?category=MLA7312&offset=1000\n",
            "\n",
            "Procesando categoría MLA404419\n",
            "\n",
            "procesando https://api.mercadolibre.com/sites/MLA/search?category=MLA404419&offset=0\n",
            "Total de resultados: 3956\n",
            "Total de llamadas necesarias: 80\n",
            "\n",
            "procesando https://api.mercadolibre.com/sites/MLA/search?category=MLA404419&offset=50\n",
            "procesando https://api.mercadolibre.com/sites/MLA/search?category=MLA404419&offset=100\n",
            "procesando https://api.mercadolibre.com/sites/MLA/search?category=MLA404419&offset=150\n",
            "procesando https://api.mercadolibre.com/sites/MLA/search?category=MLA404419&offset=200\n",
            "procesando https://api.mercadolibre.com/sites/MLA/search?category=MLA404419&offset=250\n",
            "procesando https://api.mercadolibre.com/sites/MLA/search?category=MLA404419&offset=300\n",
            "procesando https://api.mercadolibre.com/sites/MLA/search?category=MLA404419&offset=350\n",
            "procesando https://api.mercadolibre.com/sites/MLA/search?category=MLA404419&offset=400\n",
            "procesando https://api.mercadolibre.com/sites/MLA/search?category=MLA404419&offset=450\n",
            "procesando https://api.mercadolibre.com/sites/MLA/search?category=MLA404419&offset=500\n",
            "procesando https://api.mercadolibre.com/sites/MLA/search?category=MLA404419&offset=550\n",
            "procesando https://api.mercadolibre.com/sites/MLA/search?category=MLA404419&offset=600\n",
            "procesando https://api.mercadolibre.com/sites/MLA/search?category=MLA404419&offset=650\n",
            "procesando https://api.mercadolibre.com/sites/MLA/search?category=MLA404419&offset=700\n",
            "procesando https://api.mercadolibre.com/sites/MLA/search?category=MLA404419&offset=750\n",
            "procesando https://api.mercadolibre.com/sites/MLA/search?category=MLA404419&offset=800\n",
            "procesando https://api.mercadolibre.com/sites/MLA/search?category=MLA404419&offset=850\n",
            "procesando https://api.mercadolibre.com/sites/MLA/search?category=MLA404419&offset=900\n",
            "procesando https://api.mercadolibre.com/sites/MLA/search?category=MLA404419&offset=950\n",
            "procesando https://api.mercadolibre.com/sites/MLA/search?category=MLA404419&offset=1000\n",
            "\n",
            "Procesando categoría MLA1055\n",
            "\n",
            "procesando https://api.mercadolibre.com/sites/MLA/search?category=MLA1055&offset=0\n",
            "Total de resultados: 57369\n",
            "Total de llamadas necesarias: 1148\n",
            "\n",
            "procesando https://api.mercadolibre.com/sites/MLA/search?category=MLA1055&offset=50\n",
            "procesando https://api.mercadolibre.com/sites/MLA/search?category=MLA1055&offset=100\n",
            "procesando https://api.mercadolibre.com/sites/MLA/search?category=MLA1055&offset=150\n",
            "procesando https://api.mercadolibre.com/sites/MLA/search?category=MLA1055&offset=200\n",
            "procesando https://api.mercadolibre.com/sites/MLA/search?category=MLA1055&offset=250\n",
            "procesando https://api.mercadolibre.com/sites/MLA/search?category=MLA1055&offset=300\n",
            "procesando https://api.mercadolibre.com/sites/MLA/search?category=MLA1055&offset=350\n",
            "procesando https://api.mercadolibre.com/sites/MLA/search?category=MLA1055&offset=400\n",
            "procesando https://api.mercadolibre.com/sites/MLA/search?category=MLA1055&offset=450\n",
            "procesando https://api.mercadolibre.com/sites/MLA/search?category=MLA1055&offset=500\n",
            "procesando https://api.mercadolibre.com/sites/MLA/search?category=MLA1055&offset=550\n",
            "procesando https://api.mercadolibre.com/sites/MLA/search?category=MLA1055&offset=600\n",
            "procesando https://api.mercadolibre.com/sites/MLA/search?category=MLA1055&offset=650\n",
            "procesando https://api.mercadolibre.com/sites/MLA/search?category=MLA1055&offset=700\n",
            "procesando https://api.mercadolibre.com/sites/MLA/search?category=MLA1055&offset=750\n",
            "procesando https://api.mercadolibre.com/sites/MLA/search?category=MLA1055&offset=800\n",
            "procesando https://api.mercadolibre.com/sites/MLA/search?category=MLA1055&offset=850\n",
            "procesando https://api.mercadolibre.com/sites/MLA/search?category=MLA1055&offset=900\n",
            "procesando https://api.mercadolibre.com/sites/MLA/search?category=MLA1055&offset=950\n",
            "procesando https://api.mercadolibre.com/sites/MLA/search?category=MLA1055&offset=1000\n",
            "\n",
            "Procesando categoría MLA1002\n",
            "\n",
            "procesando https://api.mercadolibre.com/sites/MLA/search?category=MLA1002&offset=0\n",
            "Total de resultados: 11435\n",
            "Total de llamadas necesarias: 229\n",
            "\n",
            "procesando https://api.mercadolibre.com/sites/MLA/search?category=MLA1002&offset=50\n",
            "procesando https://api.mercadolibre.com/sites/MLA/search?category=MLA1002&offset=100\n",
            "procesando https://api.mercadolibre.com/sites/MLA/search?category=MLA1002&offset=150\n",
            "procesando https://api.mercadolibre.com/sites/MLA/search?category=MLA1002&offset=200\n",
            "procesando https://api.mercadolibre.com/sites/MLA/search?category=MLA1002&offset=250\n",
            "procesando https://api.mercadolibre.com/sites/MLA/search?category=MLA1002&offset=300\n",
            "procesando https://api.mercadolibre.com/sites/MLA/search?category=MLA1002&offset=350\n",
            "procesando https://api.mercadolibre.com/sites/MLA/search?category=MLA1002&offset=400\n",
            "procesando https://api.mercadolibre.com/sites/MLA/search?category=MLA1002&offset=450\n",
            "procesando https://api.mercadolibre.com/sites/MLA/search?category=MLA1002&offset=500\n",
            "procesando https://api.mercadolibre.com/sites/MLA/search?category=MLA1002&offset=550\n",
            "procesando https://api.mercadolibre.com/sites/MLA/search?category=MLA1002&offset=600\n",
            "procesando https://api.mercadolibre.com/sites/MLA/search?category=MLA1002&offset=650\n",
            "procesando https://api.mercadolibre.com/sites/MLA/search?category=MLA1002&offset=700\n",
            "procesando https://api.mercadolibre.com/sites/MLA/search?category=MLA1002&offset=750\n",
            "procesando https://api.mercadolibre.com/sites/MLA/search?category=MLA1002&offset=800\n",
            "procesando https://api.mercadolibre.com/sites/MLA/search?category=MLA1002&offset=850\n",
            "procesando https://api.mercadolibre.com/sites/MLA/search?category=MLA1002&offset=900\n",
            "procesando https://api.mercadolibre.com/sites/MLA/search?category=MLA1002&offset=950\n",
            "procesando https://api.mercadolibre.com/sites/MLA/search?category=MLA1002&offset=1000\n",
            "\n",
            "\n",
            "Listo\n"
          ],
          "name": "stdout"
        }
      ]
    },
    {
      "cell_type": "markdown",
      "metadata": {
        "id": "AgGvHHMMY_OI"
      },
      "source": [
        "## Un poco de limpieza teniendo en cuenta el análisis preliminar"
      ]
    },
    {
      "cell_type": "code",
      "metadata": {
        "id": "qdvM3zt-Y3qQ"
      },
      "source": [
        "# Reemplazamos cadenas vacías por nan.\n",
        "dataset.replace('', np.nan, inplace=True)\n",
        "\n",
        "# Dropeamos columnas con todos valores vacíos\n",
        "dataset.dropna(axis=1, how='all', inplace=True)\n",
        "\n",
        "# Dropeamos columnas con todos valores constantes\n",
        "dataset = dataset.loc[:, (dataset != dataset.iloc[0]).any()]\n",
        "\n",
        "# Dropeamos las variables asociadas a URL's\n",
        "dataset.drop(['seller_permalink', 'seller_eshop_eshop_logo_url', 'permalink', \n",
        "              'thumbnail', 'seller_car_dealer_logo', 'seller_home_image_url'],\n",
        "             axis=1, inplace=True)\n",
        "\n",
        "# Nos quedamos con las variables que parecieran relevantes para un análisis preliminar.\n",
        "# TODO, revisar las variables de atributos para parsearlas correctamente.\n",
        "dataset = dataset[['seller_registration_date', 'seller_car_dealer', 'seller_eshop_eshop_status_id',\n",
        "                   'seller_seller_reputation_transactions_total', 'seller_seller_reputation_transactions_canceled',\n",
        "                   'seller_seller_reputation_transactions_ratings_negative',\n",
        "                   'seller_seller_reputation_transactions_ratings_positive',\n",
        "                   'seller_seller_reputation_transactions_ratings_neutral',\n",
        "                   'seller_seller_reputation_transactions_completed', 'seller_seller_reputation_power_seller_status',\n",
        "                   'seller_seller_reputation_metrics_claims_rate', 'seller_seller_reputation_metrics_claims_value',\n",
        "                   'seller_seller_reputation_metrics_delayed_handling_time_rate',\n",
        "                   'seller_seller_reputation_metrics_delayed_handling_time_value',\n",
        "                   'seller_seller_reputation_metrics_sales_completed',\n",
        "                   'seller_seller_reputation_metrics_cancellations_rate',\n",
        "                   'seller_seller_reputation_metrics_cancellations_value', 'seller_seller_reputation_level_id', 'price',\n",
        "                   'currency_id', 'available_quantity', 'sold_quantity', 'buying_mode', 'listing_type_id', 'condition',\n",
        "                   'installments_quantity', 'installments_amount', 'installments_rate', 'shipping_free_shipping',\n",
        "                   'shipping_mode', 'seller_address_state_name', 'original_price', 'official_store_id', 'domain_id',\n",
        "                   'category_name', 'seller_seller_reputation_metrics_claims_excluded_real_rate',\n",
        "                   'seller_seller_reputation_metrics_claims_excluded_real_value',\n",
        "                   'seller_seller_reputation_metrics_delayed_handling_time_excluded_real_rate',\n",
        "                   'seller_seller_reputation_metrics_delayed_handling_time_excluded_real_value',\n",
        "                   'seller_seller_reputation_metrics_cancellations_excluded_real_rate',\n",
        "                   'seller_seller_reputation_metrics_cancellations_excluded_real_value',\n",
        "                   'seller_seller_reputation_real_level', 'seller_eshop_eshop_rubro_name']]\n",
        "\n",
        "# Antigüedad del vendedor\n",
        "dataset['seller_registration_date'] = pd.to_datetime(dataset['seller_registration_date']).dt.tz_localize(None).dt.normalize()\n",
        "dataset['seller_year_aprox'] = round((pd.to_datetime('now').normalize() - dataset['seller_registration_date']).dt.days.fillna(0) / 360).astype('int32')\n",
        "\n",
        "# Marca de tienda oficial?\n",
        "dataset['flag_official_store'] = np.where(dataset['official_store_id'].fillna(0) == 0, 'No', 'Si')\n",
        "\n",
        "# Borramos lo que ya no sirve\n",
        "dataset.drop(['seller_registration_date', 'official_store_id'], axis=1, inplace=True)\n",
        "\n",
        "# Borramos índices duplicados\n",
        "dataset = dataset[~dataset.index.duplicated(keep='first')]"
      ],
      "execution_count": 6,
      "outputs": []
    },
    {
      "cell_type": "markdown",
      "metadata": {
        "id": "MqbLvXPBcZpL"
      },
      "source": [
        "## Separamos el target"
      ]
    },
    {
      "cell_type": "code",
      "metadata": {
        "id": "ygQvVl18bW9k",
        "outputId": "bccf57f5-5a0e-4149-8da8-aebc007b62ac",
        "colab": {
          "base_uri": "https://localhost:8080/"
        }
      },
      "source": [
        "data = dataset.loc[:, dataset.columns != 'sold_quantity'].copy()\n",
        "target = dataset.loc[:, dataset.columns == 'sold_quantity'].rename(columns={'sold_quantity': 'target'}).copy()\n",
        "print('Forma data: {}'.format(data.shape))\n",
        "print('Forma target: {}'.format(target.shape))"
      ],
      "execution_count": 7,
      "outputs": [
        {
          "output_type": "stream",
          "text": [
            "Forma data: (10245, 42)\n",
            "Forma target: (10245, 1)\n"
          ],
          "name": "stdout"
        }
      ]
    },
    {
      "cell_type": "markdown",
      "metadata": {
        "id": "elEkkF2JgWu8"
      },
      "source": [
        "## Removemos variables correlacionadas"
      ]
    },
    {
      "cell_type": "code",
      "metadata": {
        "id": "ZZs2zN9odVl_",
        "outputId": "14fd4dae-560c-4588-ebf0-95808e79ae5d",
        "colab": {
          "base_uri": "https://localhost:8080/"
        }
      },
      "source": [
        "# Matriz de correlaciones\n",
        "print('Forma antes: {}'.format(data.shape))\n",
        "data_corr = data.select_dtypes(include=['number']).fillna(0).corr().abs()\n",
        "upper = data_corr.where(np.triu(np.ones(data_corr.shape), k=1).astype(np.bool))\n",
        "to_drop = [column for column in upper.columns if any(upper[column] > 0.75)]\n",
        "data.drop(data[to_drop], axis=1, inplace=True)\n",
        "print('Forma luego: {}'.format(data.shape))"
      ],
      "execution_count": 8,
      "outputs": [
        {
          "output_type": "stream",
          "text": [
            "Forma antes: (10245, 42)\n",
            "Forma luego: (10245, 37)\n"
          ],
          "name": "stdout"
        }
      ]
    },
    {
      "cell_type": "markdown",
      "metadata": {
        "id": "jgayki15h4qU"
      },
      "source": [
        "## Codificamos variables categóricas"
      ]
    },
    {
      "cell_type": "code",
      "metadata": {
        "id": "8kZaddF9iAQz",
        "outputId": "f9980e2c-41b8-4da2-e9d2-cda04155842d",
        "colab": {
          "base_uri": "https://localhost:8080/"
        }
      },
      "source": [
        "print('Forma antes: {}'.format(data.shape))\n",
        "data_cat = data.select_dtypes(exclude=['number'])\n",
        "to_drop = data_cat.columns.to_list()\n",
        "enc = OneHotEncoder(handle_unknown=\"ignore\", sparse=False)\n",
        "data_cat = pd.DataFrame(enc.fit_transform(data_cat.fillna('None')), columns=enc.get_feature_names(), index=data_cat.index)\n",
        "data.drop(data[to_drop], axis=1, inplace=True)\n",
        "data = data.merge(data_cat, left_index=True, right_index=True)\n",
        "print('Forma luego: {}'.format(data.shape))"
      ],
      "execution_count": 9,
      "outputs": [
        {
          "output_type": "stream",
          "text": [
            "Forma antes: (10245, 37)\n",
            "Forma luego: (10245, 179)\n"
          ],
          "name": "stdout"
        }
      ]
    },
    {
      "cell_type": "markdown",
      "metadata": {
        "id": "KSxFA20g6a8d"
      },
      "source": [
        "## Separamos en train y test"
      ]
    },
    {
      "cell_type": "code",
      "metadata": {
        "id": "f3XatzGH6bYV"
      },
      "source": [
        "train_data, test_data, train_target, test_target = train_test_split(data, target, test_size=TEST_SIZE, random_state=SEED)"
      ],
      "execution_count": 10,
      "outputs": []
    },
    {
      "cell_type": "markdown",
      "metadata": {
        "id": "l0n1Aflo7Jsf"
      },
      "source": [
        "## Modelo de test con Regresión"
      ]
    },
    {
      "cell_type": "code",
      "metadata": {
        "id": "eQ_Ug5m97NTX",
        "outputId": "c1929b93-5792-4294-d85e-deeceb38b844",
        "colab": {
          "base_uri": "https://localhost:8080/"
        }
      },
      "source": [
        "print('Entrenando...\\n')\n",
        "\n",
        "fi = []\n",
        "val_probs = []\n",
        "test_probs = []\n",
        "i = 0\n",
        "\n",
        "for train_index, valid_index in KFold(n_splits=K_FOLD, shuffle=True, random_state=SEED).split(train_data, train_target):\n",
        "    i += 1\n",
        "    train_data_fold = train_data.iloc[train_index]\n",
        "    train_target_fold = train_target.loc[train_data.index].iloc[train_index]\n",
        "\n",
        "    val_data_fold = train_data.iloc[valid_index]\n",
        "    val_target_fold = train_target.loc[train_data.index].iloc[valid_index]\n",
        "\n",
        "    learner = LGBMRegressor(n_estimators=10000, random_state=SEED)\n",
        "    learner.fit(train_data_fold, train_target_fold, early_stopping_rounds=200, eval_metric=\"mae\",\n",
        "                eval_set=[(train_data_fold, train_target_fold), (val_data_fold, val_target_fold)],\n",
        "                verbose=50)\n",
        "\n",
        "    val_probs.append(pd.Series(learner.predict(val_data_fold), index=val_data_fold.index, name=\"fold_\" + str(i)))\n",
        "    test_probs.append(pd.Series(learner.predict(test_data), index=test_data.index,\n",
        "                                name=\"fold_\" + str(i)))\n",
        "    fi.append(pd.Series(learner.feature_importances_ /\n",
        "                        learner.feature_importances_.sum(), index=train_data_fold.columns))\n",
        "\n",
        "test_probs = pd.concat(test_probs, axis=1).mean(axis=1)\n",
        "fi = pd.concat(fi, axis=1).mean(axis=1).sort_values(ascending=False)\n",
        "\n",
        "print('\\nListo!')"
      ],
      "execution_count": 11,
      "outputs": [
        {
          "output_type": "stream",
          "text": [
            "Entrenando...\n",
            "\n",
            "Training until validation scores don't improve for 200 rounds.\n",
            "[50]\ttraining's l2: 26372.1\ttraining's l1: 39.653\tvalid_1's l2: 58108.2\tvalid_1's l1: 59.8062\n",
            "[100]\ttraining's l2: 18761.9\ttraining's l1: 36.4644\tvalid_1's l2: 54308.4\tvalid_1's l1: 59.5205\n",
            "[150]\ttraining's l2: 14524.1\ttraining's l1: 33.9994\tvalid_1's l2: 52487.1\tvalid_1's l1: 59.0935\n",
            "[200]\ttraining's l2: 11634.2\ttraining's l1: 32.0976\tvalid_1's l2: 52248.4\tvalid_1's l1: 59.3132\n",
            "[250]\ttraining's l2: 9199.59\ttraining's l1: 30.0455\tvalid_1's l2: 52146.9\tvalid_1's l1: 59.5108\n",
            "[300]\ttraining's l2: 7632\ttraining's l1: 28.2335\tvalid_1's l2: 52338.8\tvalid_1's l1: 59.1643\n",
            "[350]\ttraining's l2: 6482.85\ttraining's l1: 26.7284\tvalid_1's l2: 52571.8\tvalid_1's l1: 59.7877\n",
            "Early stopping, best iteration is:\n",
            "[162]\ttraining's l2: 13701.1\ttraining's l1: 33.4984\tvalid_1's l2: 52408.3\tvalid_1's l1: 58.8088\n",
            "Training until validation scores don't improve for 200 rounds.\n",
            "[50]\ttraining's l2: 25276.3\ttraining's l1: 40.2043\tvalid_1's l2: 60812.1\tvalid_1's l1: 49.147\n",
            "[100]\ttraining's l2: 17633.3\ttraining's l1: 36.3451\tvalid_1's l2: 62026.3\tvalid_1's l1: 49.8933\n",
            "[150]\ttraining's l2: 13411.2\ttraining's l1: 33.7276\tvalid_1's l2: 63060.7\tvalid_1's l1: 50.552\n",
            "[200]\ttraining's l2: 10541.9\ttraining's l1: 31.4289\tvalid_1's l2: 63107.3\tvalid_1's l1: 50.5086\n",
            "Early stopping, best iteration is:\n",
            "[26]\ttraining's l2: 32711.4\ttraining's l1: 44.1811\tvalid_1's l2: 59580.6\tvalid_1's l1: 48.4931\n",
            "Training until validation scores don't improve for 200 rounds.\n",
            "[50]\ttraining's l2: 22855.1\ttraining's l1: 38.8357\tvalid_1's l2: 94942.4\tvalid_1's l1: 55.2733\n",
            "[100]\ttraining's l2: 16681.7\ttraining's l1: 34.849\tvalid_1's l2: 91116.8\tvalid_1's l1: 54.5641\n",
            "[150]\ttraining's l2: 13013.6\ttraining's l1: 32.3493\tvalid_1's l2: 89862.2\tvalid_1's l1: 54.4306\n",
            "[200]\ttraining's l2: 10461.6\ttraining's l1: 30.5056\tvalid_1's l2: 89836.1\tvalid_1's l1: 54.6066\n",
            "[250]\ttraining's l2: 8659.52\ttraining's l1: 28.6457\tvalid_1's l2: 89167.9\tvalid_1's l1: 54.5553\n",
            "[300]\ttraining's l2: 7123.05\ttraining's l1: 26.9242\tvalid_1's l2: 88687\tvalid_1's l1: 54.9749\n",
            "Early stopping, best iteration is:\n",
            "[112]\ttraining's l2: 15650.3\ttraining's l1: 34.0852\tvalid_1's l2: 90337.8\tvalid_1's l1: 54.1768\n",
            "Training until validation scores don't improve for 200 rounds.\n",
            "[50]\ttraining's l2: 26659.4\ttraining's l1: 40.7338\tvalid_1's l2: 43527.9\tvalid_1's l1: 51.451\n",
            "[100]\ttraining's l2: 19108.2\ttraining's l1: 37.0443\tvalid_1's l2: 44123\tvalid_1's l1: 50.6635\n",
            "[150]\ttraining's l2: 14711.7\ttraining's l1: 34.3324\tvalid_1's l2: 43012.6\tvalid_1's l1: 50.2318\n",
            "[200]\ttraining's l2: 11812.3\ttraining's l1: 32.1879\tvalid_1's l2: 42738.6\tvalid_1's l1: 49.9614\n",
            "[250]\ttraining's l2: 9869.4\ttraining's l1: 30.4329\tvalid_1's l2: 42744\tvalid_1's l1: 49.9803\n",
            "[300]\ttraining's l2: 8291.27\ttraining's l1: 28.8579\tvalid_1's l2: 41959.6\tvalid_1's l1: 50.0387\n",
            "[350]\ttraining's l2: 7048.63\ttraining's l1: 27.5189\tvalid_1's l2: 41976.1\tvalid_1's l1: 50.1137\n",
            "[400]\ttraining's l2: 6093.75\ttraining's l1: 26.197\tvalid_1's l2: 42007.7\tvalid_1's l1: 50.2109\n",
            "Early stopping, best iteration is:\n",
            "[219]\ttraining's l2: 10990.4\ttraining's l1: 31.458\tvalid_1's l2: 42350.2\tvalid_1's l1: 49.561\n",
            "Training until validation scores don't improve for 200 rounds.\n",
            "[50]\ttraining's l2: 24950.4\ttraining's l1: 39.0615\tvalid_1's l2: 68888.2\tvalid_1's l1: 56.0714\n",
            "[100]\ttraining's l2: 17591.1\ttraining's l1: 35.9595\tvalid_1's l2: 63983.5\tvalid_1's l1: 55.5948\n",
            "[150]\ttraining's l2: 13263.1\ttraining's l1: 33.4426\tvalid_1's l2: 64057.7\tvalid_1's l1: 56.5722\n",
            "[200]\ttraining's l2: 10455\ttraining's l1: 31.3842\tvalid_1's l2: 64269.9\tvalid_1's l1: 56.9914\n",
            "[250]\ttraining's l2: 8338.27\ttraining's l1: 29.4467\tvalid_1's l2: 66087.4\tvalid_1's l1: 58.0722\n",
            "Early stopping, best iteration is:\n",
            "[94]\ttraining's l2: 18243.1\ttraining's l1: 36.2236\tvalid_1's l2: 64163.3\tvalid_1's l1: 55.378\n",
            "Training until validation scores don't improve for 200 rounds.\n",
            "[50]\ttraining's l2: 28111.9\ttraining's l1: 41.7704\tvalid_1's l2: 19345.1\tvalid_1's l1: 48.117\n",
            "[100]\ttraining's l2: 19893.9\ttraining's l1: 38.0087\tvalid_1's l2: 20963.5\tvalid_1's l1: 50.4601\n",
            "[150]\ttraining's l2: 15477.8\ttraining's l1: 35.1615\tvalid_1's l2: 21816.5\tvalid_1's l1: 50.6884\n",
            "[200]\ttraining's l2: 12324.4\ttraining's l1: 33.0111\tvalid_1's l2: 22263.9\tvalid_1's l1: 50.8685\n",
            "Early stopping, best iteration is:\n",
            "[6]\ttraining's l2: 51925.5\ttraining's l1: 61.7951\tvalid_1's l2: 8263.66\tvalid_1's l1: 53.4428\n",
            "Training until validation scores don't improve for 200 rounds.\n",
            "[50]\ttraining's l2: 27768.8\ttraining's l1: 40.9245\tvalid_1's l2: 35690.4\tvalid_1's l1: 46.1002\n",
            "[100]\ttraining's l2: 20242.1\ttraining's l1: 37.5341\tvalid_1's l2: 37102\tvalid_1's l1: 47.5807\n",
            "[150]\ttraining's l2: 15798.4\ttraining's l1: 34.9804\tvalid_1's l2: 37791.9\tvalid_1's l1: 48.2274\n",
            "[200]\ttraining's l2: 12628.4\ttraining's l1: 32.6293\tvalid_1's l2: 38948.9\tvalid_1's l1: 49.017\n",
            "Early stopping, best iteration is:\n",
            "[23]\ttraining's l2: 35729.4\ttraining's l1: 45.3291\tvalid_1's l2: 34421\tvalid_1's l1: 46.9858\n",
            "Training until validation scores don't improve for 200 rounds.\n",
            "[50]\ttraining's l2: 28025.2\ttraining's l1: 41.4546\tvalid_1's l2: 12554.1\tvalid_1's l1: 42.0109\n",
            "[100]\ttraining's l2: 19727.2\ttraining's l1: 37.4953\tvalid_1's l2: 13534.4\tvalid_1's l1: 43.7283\n",
            "[150]\ttraining's l2: 14905.9\ttraining's l1: 34.8913\tvalid_1's l2: 15856.9\tvalid_1's l1: 44.7382\n",
            "[200]\ttraining's l2: 11555.1\ttraining's l1: 32.563\tvalid_1's l2: 17048.6\tvalid_1's l1: 45.5562\n",
            "Early stopping, best iteration is:\n",
            "[32]\ttraining's l2: 33650.3\ttraining's l1: 43.9145\tvalid_1's l2: 12432\tvalid_1's l1: 41.2012\n",
            "Training until validation scores don't improve for 200 rounds.\n",
            "[50]\ttraining's l2: 27760.3\ttraining's l1: 41.3534\tvalid_1's l2: 32204.3\tvalid_1's l1: 47.1408\n",
            "[100]\ttraining's l2: 19467.4\ttraining's l1: 37.4406\tvalid_1's l2: 29333.9\tvalid_1's l1: 47.3766\n",
            "[150]\ttraining's l2: 14664.5\ttraining's l1: 34.4003\tvalid_1's l2: 27360.1\tvalid_1's l1: 47.1911\n",
            "[200]\ttraining's l2: 11656.3\ttraining's l1: 32.2549\tvalid_1's l2: 26286.3\tvalid_1's l1: 47.9405\n",
            "[250]\ttraining's l2: 9634.62\ttraining's l1: 30.6359\tvalid_1's l2: 24819.8\tvalid_1's l1: 47.741\n",
            "Early stopping, best iteration is:\n",
            "[68]\ttraining's l2: 24156.8\ttraining's l1: 39.8346\tvalid_1's l2: 31255.5\tvalid_1's l1: 46.643\n",
            "Training until validation scores don't improve for 200 rounds.\n",
            "[50]\ttraining's l2: 27682\ttraining's l1: 41.1925\tvalid_1's l2: 27493.3\tvalid_1's l1: 41.364\n",
            "[100]\ttraining's l2: 19351.4\ttraining's l1: 37.6879\tvalid_1's l2: 31476.2\tvalid_1's l1: 43.0046\n",
            "[150]\ttraining's l2: 14687.8\ttraining's l1: 34.9321\tvalid_1's l2: 33721.5\tvalid_1's l1: 44.2683\n",
            "[200]\ttraining's l2: 11488.5\ttraining's l1: 32.7389\tvalid_1's l2: 36840.5\tvalid_1's l1: 45.4339\n",
            "Early stopping, best iteration is:\n",
            "[23]\ttraining's l2: 36453.2\ttraining's l1: 45.9303\tvalid_1's l2: 25600.9\tvalid_1's l1: 42.9321\n",
            "\n",
            "Listo!\n"
          ],
          "name": "stdout"
        }
      ]
    },
    {
      "cell_type": "code",
      "metadata": {
        "id": "2bxJenYmCqTy",
        "outputId": "276ff9a7-15f4-44b8-d017-275a4230ec89",
        "colab": {
          "base_uri": "https://localhost:8080/",
          "height": 720
        }
      },
      "source": [
        "fig, ax = plt.subplots()\n",
        "ax.scatter(test_probs, test_target, edgecolors=(0, 0, 1))\n",
        "ax.plot([test_target.min(), test_target.max()], [test_target.min(), test_target.max()], 'r--', lw=3)\n",
        "ax.set_xlabel('Predicho')\n",
        "ax.set_ylabel('Real')\n",
        "plt.show()"
      ],
      "execution_count": 12,
      "outputs": [
        {
          "output_type": "display_data",
          "data": {
            "image/png": "[encoded data removed]",
            "text/plain": [
              "<Figure size 1728x864 with 1 Axes>"
            ]
          },
          "metadata": {
            "tags": []
          }
        }
      ]
    },
    {
      "cell_type": "code",
      "metadata": {
        "id": "zLP6v37CAH9x",
        "outputId": "59be834e-64d7-4aa8-b67d-ba043d272a01",
        "colab": {
          "base_uri": "https://localhost:8080/"
        }
      },
      "source": [
        "print(\"Performance del modelo\")\n",
        "print(\"--------------------------------------\")\n",
        "print('MAE {}'.format(mean_absolute_error(test_target, test_probs)))\n",
        "print('MSE {}'.format(mean_squared_error(test_target, test_probs)))\n",
        "print('RMSE {}'.format(mean_squared_error(test_target, test_probs, squared=False)))\n",
        "print('R2 score {}'.format(r2_score(test_target, test_probs)))"
      ],
      "execution_count": 13,
      "outputs": [
        {
          "output_type": "stream",
          "text": [
            "Performance del modelo\n",
            "--------------------------------------\n",
            "MAE 44.38035357436453\n",
            "MSE 14079.656915918034\n",
            "RMSE 118.65773011446845\n",
            "R2 score -0.08528045191305389\n"
          ],
          "name": "stdout"
        }
      ]
    },
    {
      "cell_type": "markdown",
      "metadata": {
        "id": "6_2Pph5XNy1_"
      },
      "source": [
        "## Modelo de test con clasificación"
      ]
    },
    {
      "cell_type": "code",
      "metadata": {
        "id": "aOrH_R7oN2xl",
        "outputId": "947021da-eb16-4dc4-b978-54029c7edc7f",
        "colab": {
          "base_uri": "https://localhost:8080/"
        }
      },
      "source": [
        "target = pd.Series(np.where(target['target'] > 0, 1, 0), index=target.index)\n",
        "print('distribución de clases: \\n{}'.format(target.value_counts()))"
      ],
      "execution_count": 14,
      "outputs": [
        {
          "output_type": "stream",
          "text": [
            "distribución de clases: \n",
            "1    7361\n",
            "0    2884\n",
            "dtype: int64\n"
          ],
          "name": "stdout"
        }
      ]
    },
    {
      "cell_type": "markdown",
      "metadata": {
        "id": "2wAlzIWUh1gd"
      },
      "source": [
        "## Separamos en train y test"
      ]
    },
    {
      "cell_type": "code",
      "metadata": {
        "id": "PuQZ3697h39_"
      },
      "source": [
        "train_data, test_data, train_target, test_target = train_test_split(data, target, test_size=TEST_SIZE,\n",
        "                                                                    random_state=SEED, stratify=target)"
      ],
      "execution_count": 15,
      "outputs": []
    },
    {
      "cell_type": "code",
      "metadata": {
        "id": "zpvLci2Dhopw",
        "outputId": "cd3b78ae-9f16-4bff-bc4b-1f9fc18d4fbe",
        "colab": {
          "base_uri": "https://localhost:8080/"
        }
      },
      "source": [
        "fi = []\n",
        "val_probs = []\n",
        "test_probs = []\n",
        "i = 0\n",
        "\n",
        "for train_index, valid_index in StratifiedKFold(n_splits=K_FOLD, shuffle=True, random_state=SEED).split(train_data,\n",
        "                                                                                                        train_target):\n",
        "    i += 1\n",
        "    train_data_fold = train_data.iloc[train_index]\n",
        "    train_target_fold = train_target.loc[train_data.index].iloc[train_index]\n",
        "\n",
        "    val_data_fold = train_data.iloc[valid_index]\n",
        "    val_target_fold = train_target.loc[train_data.index].iloc[valid_index]\n",
        "\n",
        "    learner = LGBMClassifier(n_estimators=10000, random_state=SEED, objective='binary')\n",
        "    learner.fit(train_data_fold, train_target_fold, early_stopping_rounds=50, eval_metric=\"auc\",\n",
        "                eval_set=[(train_data_fold, train_target_fold), (val_data_fold, val_target_fold)],\n",
        "                verbose=50)\n",
        "\n",
        "    val_probs.append(pd.Series(learner.predict_proba(val_data_fold)[:, -1], name=\"fold_\" + str(i)))\n",
        "    test_probs.append(pd.Series(learner.predict_proba(test_data)[:, -1], index=test_data.index,\n",
        "                                name=\"fold_\" + str(i)))\n",
        "    fi.append(pd.Series(learner.feature_importances_ /\n",
        "                        learner.feature_importances_.sum(), index=train_data_fold.columns))\n",
        "\n",
        "test_probs = pd.concat(test_probs, axis=1).mean(axis=1)\n",
        "fi = pd.concat(fi, axis=1).mean(axis=1).sort_values(ascending=False)"
      ],
      "execution_count": 16,
      "outputs": [
        {
          "output_type": "stream",
          "text": [
            "Training until validation scores don't improve for 50 rounds.\n",
            "[50]\ttraining's auc: 0.996588\ttraining's binary_logloss: 0.0753207\tvalid_1's auc: 0.982092\tvalid_1's binary_logloss: 0.144538\n",
            "Early stopping, best iteration is:\n",
            "[44]\ttraining's auc: 0.995821\ttraining's binary_logloss: 0.0820503\tvalid_1's auc: 0.9821\tvalid_1's binary_logloss: 0.14659\n",
            "Training until validation scores don't improve for 50 rounds.\n",
            "[50]\ttraining's auc: 0.996148\ttraining's binary_logloss: 0.0790959\tvalid_1's auc: 0.992452\tvalid_1's binary_logloss: 0.102016\n",
            "[100]\ttraining's auc: 0.999023\ttraining's binary_logloss: 0.0490736\tvalid_1's auc: 0.992011\tvalid_1's binary_logloss: 0.103038\n",
            "Early stopping, best iteration is:\n",
            "[51]\ttraining's auc: 0.996289\ttraining's binary_logloss: 0.0780447\tvalid_1's auc: 0.992522\tvalid_1's binary_logloss: 0.101714\n",
            "Training until validation scores don't improve for 50 rounds.\n",
            "[50]\ttraining's auc: 0.996582\ttraining's binary_logloss: 0.0755718\tvalid_1's auc: 0.980248\tvalid_1's binary_logloss: 0.140168\n",
            "[100]\ttraining's auc: 0.9991\ttraining's binary_logloss: 0.0459514\tvalid_1's auc: 0.980038\tvalid_1's binary_logloss: 0.147247\n",
            "Early stopping, best iteration is:\n",
            "[55]\ttraining's auc: 0.997008\ttraining's binary_logloss: 0.0707773\tvalid_1's auc: 0.980608\tvalid_1's binary_logloss: 0.139508\n",
            "Training until validation scores don't improve for 50 rounds.\n",
            "[50]\ttraining's auc: 0.996361\ttraining's binary_logloss: 0.0772744\tvalid_1's auc: 0.987252\tvalid_1's binary_logloss: 0.121096\n",
            "Early stopping, best iteration is:\n",
            "[40]\ttraining's auc: 0.99499\ttraining's binary_logloss: 0.0898625\tvalid_1's auc: 0.988604\tvalid_1's binary_logloss: 0.123451\n",
            "Training until validation scores don't improve for 50 rounds.\n",
            "[50]\ttraining's auc: 0.996143\ttraining's binary_logloss: 0.078468\tvalid_1's auc: 0.991831\tvalid_1's binary_logloss: 0.106725\n",
            "[100]\ttraining's auc: 0.998973\ttraining's binary_logloss: 0.0494545\tvalid_1's auc: 0.992176\tvalid_1's binary_logloss: 0.104565\n",
            "Early stopping, best iteration is:\n",
            "[64]\ttraining's auc: 0.99744\ttraining's binary_logloss: 0.0675006\tvalid_1's auc: 0.992411\tvalid_1's binary_logloss: 0.103812\n",
            "Training until validation scores don't improve for 50 rounds.\n",
            "[50]\ttraining's auc: 0.996418\ttraining's binary_logloss: 0.0758516\tvalid_1's auc: 0.984246\tvalid_1's binary_logloss: 0.139376\n",
            "Early stopping, best iteration is:\n",
            "[35]\ttraining's auc: 0.994511\ttraining's binary_logloss: 0.0962722\tvalid_1's auc: 0.985256\tvalid_1's binary_logloss: 0.142793\n",
            "Training until validation scores don't improve for 50 rounds.\n",
            "[50]\ttraining's auc: 0.99678\ttraining's binary_logloss: 0.0752923\tvalid_1's auc: 0.98482\tvalid_1's binary_logloss: 0.124255\n",
            "[100]\ttraining's auc: 0.999151\ttraining's binary_logloss: 0.0466255\tvalid_1's auc: 0.984923\tvalid_1's binary_logloss: 0.125668\n",
            "Early stopping, best iteration is:\n",
            "[57]\ttraining's auc: 0.997349\ttraining's binary_logloss: 0.0691529\tvalid_1's auc: 0.985262\tvalid_1's binary_logloss: 0.122667\n",
            "Training until validation scores don't improve for 50 rounds.\n",
            "[50]\ttraining's auc: 0.996484\ttraining's binary_logloss: 0.0769625\tvalid_1's auc: 0.985787\tvalid_1's binary_logloss: 0.126648\n",
            "[100]\ttraining's auc: 0.999084\ttraining's binary_logloss: 0.0478574\tvalid_1's auc: 0.984495\tvalid_1's binary_logloss: 0.1292\n",
            "Early stopping, best iteration is:\n",
            "[58]\ttraining's auc: 0.997112\ttraining's binary_logloss: 0.0705189\tvalid_1's auc: 0.986521\tvalid_1's binary_logloss: 0.125242\n",
            "Training until validation scores don't improve for 50 rounds.\n",
            "[50]\ttraining's auc: 0.996248\ttraining's binary_logloss: 0.0781981\tvalid_1's auc: 0.990304\tvalid_1's binary_logloss: 0.101388\n",
            "[100]\ttraining's auc: 0.999097\ttraining's binary_logloss: 0.0485361\tvalid_1's auc: 0.990965\tvalid_1's binary_logloss: 0.0968224\n",
            "Early stopping, best iteration is:\n",
            "[93]\ttraining's auc: 0.99888\ttraining's binary_logloss: 0.0515663\tvalid_1's auc: 0.991326\tvalid_1's binary_logloss: 0.096616\n",
            "Training until validation scores don't improve for 50 rounds.\n",
            "[50]\ttraining's auc: 0.996523\ttraining's binary_logloss: 0.0752177\tvalid_1's auc: 0.986207\tvalid_1's binary_logloss: 0.12743\n",
            "[100]\ttraining's auc: 0.999196\ttraining's binary_logloss: 0.0455913\tvalid_1's auc: 0.986199\tvalid_1's binary_logloss: 0.129634\n",
            "Early stopping, best iteration is:\n",
            "[76]\ttraining's auc: 0.99841\ttraining's binary_logloss: 0.0568938\tvalid_1's auc: 0.986869\tvalid_1's binary_logloss: 0.125893\n"
          ],
          "name": "stdout"
        }
      ]
    },
    {
      "cell_type": "code",
      "metadata": {
        "id": "8gOxDRCHifEu",
        "outputId": "12baf886-57d0-47b5-9087-8b5aa0761036",
        "colab": {
          "base_uri": "https://localhost:8080/"
        }
      },
      "source": [
        "def find_optimal_cutoff(true_label, prediction):\n",
        "    \"\"\"Encuentra la probabilidad de corte óptima para un problema de clasificación binaria basandose en la curva ROC\"\"\"\n",
        "    fpr, tpr, thresh = roc_curve(true_label, prediction)\n",
        "    idx = np.arange(len(tpr))\n",
        "    roc = pd.DataFrame({'tf': pd.Series(tpr-(1-fpr), index=idx), 'threshold': pd.Series(thresh, index=idx)})\n",
        "    roc_t = roc.iloc[(roc.tf-0).abs().argsort()[:1]]\n",
        "    return list(roc_t['threshold'])\n",
        "\n",
        "print(\"Performance del modelo\")\n",
        "print(\"--------------------------------------\")\n",
        "# predicción del resultado\n",
        "threshold = find_optimal_cutoff(test_target, test_probs)\n",
        "pred_target = pd.Series(np.where(test_probs > threshold[0], 1, 0), index=test_probs.index)\n",
        "conf_mat = pd.DataFrame(confusion_matrix(test_target, pred_target), columns=['0', '1'], index=['0', '1'])\n",
        "print(\"\\nProbabilidad de corte: {}\".format(threshold[0]))\n",
        "print(\"\\nMatriz de Confusión (filas=real, columnas=prediccion)\")\n",
        "print(conf_mat)\n",
        "print(\"\\nReporte de Clasificación\")\n",
        "print(classification_report(test_target, pred_target, target_names=['0', '1']))\n",
        "print(\"\\nAccuracy_score: {}\".format(accuracy_score(test_target, pred_target)))\n",
        "print(\"\\nROC_auc_score: {}\\n\".format(roc_auc_score(test_target, test_probs)))"
      ],
      "execution_count": 17,
      "outputs": [
        {
          "output_type": "stream",
          "text": [
            "Performance del modelo\n",
            "--------------------------------------\n",
            "\n",
            "Probabilidad de corte: 0.7706791597992443\n",
            "\n",
            "Matriz de Confusión (filas=real, columnas=prediccion)\n",
            "     0     1\n",
            "0  554    23\n",
            "1   62  1410\n",
            "\n",
            "Reporte de Clasificación\n",
            "              precision    recall  f1-score   support\n",
            "\n",
            "           0       0.90      0.96      0.93       577\n",
            "           1       0.98      0.96      0.97      1472\n",
            "\n",
            "    accuracy                           0.96      2049\n",
            "   macro avg       0.94      0.96      0.95      2049\n",
            "weighted avg       0.96      0.96      0.96      2049\n",
            "\n",
            "\n",
            "Accuracy_score: 0.9585163494387506\n",
            "\n",
            "ROC_auc_score: 0.9889061440358677\n",
            "\n"
          ],
          "name": "stdout"
        }
      ]
    },
    {
      "cell_type": "code",
      "metadata": {
        "id": "u45IcMuomt_J"
      },
      "source": [
        "# TODO graficar fi"
      ],
      "execution_count": null,
      "outputs": []
    }
  ]
}